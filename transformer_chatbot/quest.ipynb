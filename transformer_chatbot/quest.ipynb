{
 "cells": [
  {
   "cell_type": "markdown",
   "id": "4117ee53",
   "metadata": {},
   "source": [
    "루브릭\n",
    "\n",
    "|평가문항|상세기준|\n",
    "|---|---|\n",
    "|1. 한국어 전처리를 통해 학습 데이터셋을 구축하였다.|공백과 특수문자 처리, 토크나이징, 병렬데이터 구축의 과정이 적절히 진행되었다.|\n",
    "|2. 트랜스포머 모델을 구현하여 한국어 챗봇 모델 학습을 정상적으로 진행하였다.|구현한 트랜스포머 모델이 한국어 병렬 데이터 학습 시 안정적으로 수렴하였다.|\n",
    "|3. 한국어 입력문장에 대해 한국어로 답변하는 함수를 구현하였다.|한국어 입력문장에 맥락에 맞는 한국어로 답변을 리턴하였다.|"
   ]
  },
  {
   "cell_type": "code",
   "execution_count": 1,
   "id": "012ced03",
   "metadata": {},
   "outputs": [
    {
     "name": "stdout",
     "output_type": "stream",
     "text": [
      "2.6.0\n"
     ]
    }
   ],
   "source": [
    "import tensorflow\n",
    "\n",
    "print(tensorflow.__version__)"
   ]
  },
  {
   "cell_type": "markdown",
   "id": "74f58458",
   "metadata": {},
   "source": [
    "Step 1. 데이터 수집하기"
   ]
  },
  {
   "cell_type": "code",
   "execution_count": 2,
   "id": "fc9509d4",
   "metadata": {},
   "outputs": [
    {
     "name": "stdout",
     "output_type": "stream",
     "text": [
      "'ChatbotData .csv'\r\n"
     ]
    }
   ],
   "source": [
    "!mkdir -p ~/aiffel/transformer_chatbot/data/\n",
    "!ln -sf ~/data/* ~/aiffel/transformer_chatbot/data/\n",
    "!ls ~/aiffel/transformer_chatbot/data/"
   ]
  },
  {
   "cell_type": "code",
   "execution_count": 3,
   "id": "76e1221b",
   "metadata": {},
   "outputs": [],
   "source": [
    "import pandas as pd\n",
    "data = pd.read_csv('/aiffel/aiffel/transformer_chatbot/data/ChatbotData .csv')"
   ]
  },
  {
   "cell_type": "code",
   "execution_count": 4,
   "id": "669a6ec3",
   "metadata": {
    "scrolled": false
   },
   "outputs": [
    {
     "data": {
      "text/html": [
       "<div>\n",
       "<style scoped>\n",
       "    .dataframe tbody tr th:only-of-type {\n",
       "        vertical-align: middle;\n",
       "    }\n",
       "\n",
       "    .dataframe tbody tr th {\n",
       "        vertical-align: top;\n",
       "    }\n",
       "\n",
       "    .dataframe thead th {\n",
       "        text-align: right;\n",
       "    }\n",
       "</style>\n",
       "<table border=\"1\" class=\"dataframe\">\n",
       "  <thead>\n",
       "    <tr style=\"text-align: right;\">\n",
       "      <th></th>\n",
       "      <th>Q</th>\n",
       "      <th>A</th>\n",
       "      <th>label</th>\n",
       "    </tr>\n",
       "  </thead>\n",
       "  <tbody>\n",
       "    <tr>\n",
       "      <th>0</th>\n",
       "      <td>12시 땡!</td>\n",
       "      <td>하루가 또 가네요.</td>\n",
       "      <td>0</td>\n",
       "    </tr>\n",
       "    <tr>\n",
       "      <th>1</th>\n",
       "      <td>1지망 학교 떨어졌어</td>\n",
       "      <td>위로해 드립니다.</td>\n",
       "      <td>0</td>\n",
       "    </tr>\n",
       "    <tr>\n",
       "      <th>2</th>\n",
       "      <td>3박4일 놀러가고 싶다</td>\n",
       "      <td>여행은 언제나 좋죠.</td>\n",
       "      <td>0</td>\n",
       "    </tr>\n",
       "    <tr>\n",
       "      <th>3</th>\n",
       "      <td>3박4일 정도 놀러가고 싶다</td>\n",
       "      <td>여행은 언제나 좋죠.</td>\n",
       "      <td>0</td>\n",
       "    </tr>\n",
       "    <tr>\n",
       "      <th>4</th>\n",
       "      <td>PPL 심하네</td>\n",
       "      <td>눈살이 찌푸려지죠.</td>\n",
       "      <td>0</td>\n",
       "    </tr>\n",
       "  </tbody>\n",
       "</table>\n",
       "</div>"
      ],
      "text/plain": [
       "                 Q            A  label\n",
       "0           12시 땡!   하루가 또 가네요.      0\n",
       "1      1지망 학교 떨어졌어    위로해 드립니다.      0\n",
       "2     3박4일 놀러가고 싶다  여행은 언제나 좋죠.      0\n",
       "3  3박4일 정도 놀러가고 싶다  여행은 언제나 좋죠.      0\n",
       "4          PPL 심하네   눈살이 찌푸려지죠.      0"
      ]
     },
     "execution_count": 4,
     "metadata": {},
     "output_type": "execute_result"
    }
   ],
   "source": [
    "data.head()"
   ]
  },
  {
   "cell_type": "markdown",
   "id": "2d6dd8b5",
   "metadata": {},
   "source": [
    "챗봇 트레이닝용 문답 페어 11,876개\n",
    "일상다반사 0, 이별(부정) 1, 사랑(긍정) 2로 레이블링"
   ]
  },
  {
   "cell_type": "code",
   "execution_count": 5,
   "id": "d14d3046",
   "metadata": {
    "scrolled": true
   },
   "outputs": [
    {
     "name": "stdout",
     "output_type": "stream",
     "text": [
      "페어 샘플 갯수: 11823\n"
     ]
    }
   ],
   "source": [
    "print('페어 샘플 갯수: {}'.format(len(data)) )"
   ]
  },
  {
   "cell_type": "code",
   "execution_count": 6,
   "id": "4155ac0b",
   "metadata": {
    "scrolled": false
   },
   "outputs": [
    {
     "data": {
      "text/plain": [
       "0    5290\n",
       "1    3570\n",
       "2    2963\n",
       "Name: label, dtype: int64"
      ]
     },
     "execution_count": 6,
     "metadata": {},
     "output_type": "execute_result"
    }
   ],
   "source": [
    "data.label.value_counts()"
   ]
  },
  {
   "cell_type": "markdown",
   "id": "6b327131",
   "metadata": {},
   "source": [
    "data 에 `label`이라는 열도 있었지만, 이 데이터는 사용하지 않기로 했다."
   ]
  },
  {
   "cell_type": "markdown",
   "id": "1e3382d4",
   "metadata": {},
   "source": [
    "Step 2. 데이터 전처리하기\n",
    "영어 데이터와는 전혀 다른 데이터인 만큼 영어 데이터에 사용했던 전처리와 일부 동일한 전처리도 필요하겠지만 전체적으로는 다른 전처리를 수행해야 할 수도 있습니다."
   ]
  },
  {
   "cell_type": "code",
   "execution_count": 7,
   "id": "e6d24aae",
   "metadata": {},
   "outputs": [],
   "source": [
    "import re\n",
    "# 전처리 함수\n",
    "def preprocess_sentence(sentence):\n",
    "    # 입력받은 sentence를 소문자로 변경하고 양쪽 공백을 제거\n",
    "    sentence = sentence.lower().strip()\n",
    "\n",
    "    # 단어와 구두점(punctuation) 사이의 거리를 만듭니다.\n",
    "    sentence = re.sub(r\"([?.!,])\", r\" \\1 \", sentence)\n",
    "    # 숫자와 숫자가 아닌것들 사이에 거리를 만듭니다.\n",
    "    sentence = re.sub(r\"(\\d+)\", r\" \\1 \", sentence)\n",
    "    # 연속한 빈칸은 1개의 빈칸으로 대체합니다.\n",
    "    sentence = re.sub(r'[\" \"]]+', \" \", sentence)\n",
    "\n",
    "    # (a-z, A-Z, 한글:가-힣, 숫자:\\d, \".\", \"?\", \"!\", \",\")를 제외한 모든 문자를 공백인 ' '로 대체합니다.\n",
    "    sentence = re.sub(r'[^\\da-zA-Z가-힣\\.?!,]', \" \", sentence)\n",
    "    sentence = sentence.strip()\n",
    "    return sentence"
   ]
  },
  {
   "cell_type": "markdown",
   "id": "a680897d",
   "metadata": {},
   "source": [
    "[루브릭] 공백과 특수문자 처리와 더불어서, 한국어에 대해서 preprocessing 할 수 있도록, `가-힣` 부분을 추가했다."
   ]
  },
  {
   "cell_type": "code",
   "execution_count": 8,
   "id": "cb6334e8",
   "metadata": {},
   "outputs": [],
   "source": [
    "questions = data.Q.apply(preprocess_sentence).tolist()\n",
    "answers = data.A.apply(preprocess_sentence).tolist()"
   ]
  },
  {
   "cell_type": "markdown",
   "id": "5af66923",
   "metadata": {},
   "source": [
    "### Step 3. SubwordTextEncoder 사용하기\n",
    "한국어 데이터는 형태소 분석기를 사용하여 토크나이징을 해야 한다고 많은 분이 알고 있습니다. 하지만 여기서는 형태소 분석기가 아닌 위 실습에서 사용했던 내부 단어 토크나이저인 SubwordTextEncoder를 그대로 사용해보세요."
   ]
  },
  {
   "cell_type": "code",
   "execution_count": 9,
   "id": "ac5b540a",
   "metadata": {},
   "outputs": [],
   "source": [
    "import tensorflow_datasets as tfds\n",
    "\n",
    "# 질문과 답변 데이터셋에 대해서 Vocabulary 생성\n",
    "tokenizer = tfds.deprecated.text.SubwordTextEncoder.build_from_corpus(\n",
    "    questions + answers, \n",
    "    target_vocab_size=2**13)"
   ]
  },
  {
   "cell_type": "markdown",
   "id": "fa14bee3",
   "metadata": {},
   "source": [
    "[루브릭] preprocessing 된 corpus 로 부터 `tfds.deprecated.text.SubwordTextEncoder`를 사용하여 tokenize 했다. "
   ]
  },
  {
   "cell_type": "code",
   "execution_count": 10,
   "id": "ee15d630",
   "metadata": {},
   "outputs": [
    {
     "name": "stdout",
     "output_type": "stream",
     "text": [
      "START_TOKEN의 번호 : [8160]\n",
      "END_TOKEN의 번호 : [8161]\n",
      "8162\n"
     ]
    }
   ],
   "source": [
    "# 시작 토큰과 종료 토큰에 고유한 정수를 부여합니다.\n",
    "START_TOKEN, END_TOKEN = [tokenizer.vocab_size], [tokenizer.vocab_size + 1]\n",
    "print('START_TOKEN의 번호 :' ,[tokenizer.vocab_size])\n",
    "print('END_TOKEN의 번호 :' ,[tokenizer.vocab_size + 1])\n",
    "# 시작 토큰과 종료 토큰을 고려하여 +2를 하여 단어장의 크기를 산정합니다.\n",
    "VOCAB_SIZE = tokenizer.vocab_size + 2\n",
    "print(VOCAB_SIZE)"
   ]
  },
  {
   "cell_type": "code",
   "execution_count": 11,
   "id": "2392f786",
   "metadata": {},
   "outputs": [],
   "source": [
    "# 길이 분포 확인\n",
    "len_q = [len(s) for s in questions]\n",
    "len_a = [len(s) for s in answers]"
   ]
  },
  {
   "cell_type": "code",
   "execution_count": 12,
   "id": "8560dba3",
   "metadata": {},
   "outputs": [
    {
     "name": "stdout",
     "output_type": "stream",
     "text": [
      "          questions       answers\n",
      "count  11823.000000  11823.000000\n",
      "mean      13.299586     16.077138\n",
      "std        6.471054      6.853073\n",
      "min        1.000000      1.000000\n",
      "25%        9.000000     11.000000\n",
      "50%       12.000000     15.000000\n",
      "75%       17.000000     19.000000\n",
      "max       57.000000     79.000000\n",
      "33.0\n",
      "39.0\n"
     ]
    },
    {
     "data": {
      "image/png": "[encoded data removed]",
      "text/plain": [
       "<Figure size 432x288 with 1 Axes>"
      ]
     },
     "metadata": {
      "needs_background": "light"
     },
     "output_type": "display_data"
    }
   ],
   "source": [
    "import seaborn as sns\n",
    "tmp_df = pd.DataFrame(\n",
    "    {'questions': len_q, 'answers':len_a})\n",
    "sns.histplot(tmp_df.melt(\n",
    "            value_vars=['questions', 'answers'], \n",
    "            var_name='type',\n",
    "            value_name = 'length',),\n",
    "             x='length', hue='type')\n",
    "# sns.histplot(len_a, label='answers')\n",
    "\n",
    "print(tmp_df.describe())\n",
    "print(tmp_df['questions'].quantile(0.99))\n",
    "print(tmp_df['answers'].quantile(0.99))\n",
    "\n",
    "# 샘플의 최대 허용 길이 또는 패딩 후의 최종 길이\n",
    "MAX_LENGTH = 40"
   ]
  },
  {
   "cell_type": "markdown",
   "id": "6a052a1f",
   "metadata": {},
   "source": [
    "[루브릭] 최대 길이를 정하기 위해서 question 과 answer 문장들의 토큰 개수의 분포를 분석했다. 99% 의 문장이 토큰 갯수가 39보다 작아서 `MAX_LENGTH = 40` 로 설정했다."
   ]
  },
  {
   "cell_type": "code",
   "execution_count": 13,
   "id": "295bfccb",
   "metadata": {},
   "outputs": [],
   "source": [
    "import tensorflow as tf\n",
    "# 정수 인코딩, 최대 길이를 초과하는 샘플 제거, 패딩\n",
    "def tokenize_and_filter(inputs, outputs):\n",
    "    tokenized_inputs, tokenized_outputs = [], []\n",
    "  \n",
    "    for (sentence1, sentence2) in zip(inputs, outputs):\n",
    "        # 정수 인코딩 과정에서 시작 토큰과 종료 토큰을 추가\n",
    "        sentence1 = START_TOKEN + tokenizer.encode(sentence1) + END_TOKEN\n",
    "        sentence2 = START_TOKEN + tokenizer.encode(sentence2) + END_TOKEN\n",
    "\n",
    "        # 최대 길이 40 이하인 경우에만 데이터셋으로 허용\n",
    "        if len(sentence1) <= MAX_LENGTH and len(sentence2) <= MAX_LENGTH:\n",
    "            tokenized_inputs.append(sentence1)\n",
    "            tokenized_outputs.append(sentence2)\n",
    "  \n",
    "    # 최대 길이 40으로 모든 데이터셋을 패딩\n",
    "    tokenized_inputs = tf.keras.preprocessing.sequence.pad_sequences(\n",
    "        tokenized_inputs, maxlen=MAX_LENGTH, padding='post')\n",
    "    tokenized_outputs = tf.keras.preprocessing.sequence.pad_sequences(\n",
    "        tokenized_outputs, maxlen=MAX_LENGTH, padding='post')\n",
    "  \n",
    "    return tokenized_inputs, tokenized_outputs"
   ]
  },
  {
   "cell_type": "code",
   "execution_count": 14,
   "id": "377261ba",
   "metadata": {},
   "outputs": [],
   "source": [
    "tokenized_Q, tokenized_A = tokenize_and_filter(questions, answers)"
   ]
  },
  {
   "cell_type": "markdown",
   "id": "1222f8e4",
   "metadata": {},
   "source": [
    "###### temp"
   ]
  },
  {
   "cell_type": "code",
   "execution_count": 15,
   "id": "452534c0",
   "metadata": {},
   "outputs": [
    {
     "data": {
      "text/plain": [
       "'하루가 또 가네요 .'"
      ]
     },
     "execution_count": 15,
     "metadata": {},
     "output_type": "execute_result"
    }
   ],
   "source": [
    "answers[0]"
   ]
  },
  {
   "cell_type": "code",
   "execution_count": 16,
   "id": "c9ac5aff",
   "metadata": {},
   "outputs": [
    {
     "data": {
      "text/plain": [
       "'하루가 또 가네요 .'"
      ]
     },
     "execution_count": 16,
     "metadata": {},
     "output_type": "execute_result"
    }
   ],
   "source": [
    "tokenizer.decode([_id for _id in tokenized_A[0] if _id not in START_TOKEN + END_TOKEN])"
   ]
  },
  {
   "cell_type": "code",
   "execution_count": 17,
   "id": "d1fda917",
   "metadata": {},
   "outputs": [
    {
     "data": {
      "text/plain": [
       "''"
      ]
     },
     "execution_count": 17,
     "metadata": {},
     "output_type": "execute_result"
    }
   ],
   "source": [
    "tokenizer.decode([0,0,0,0])"
   ]
  },
  {
   "cell_type": "markdown",
   "id": "481c9bd4",
   "metadata": {},
   "source": [
    "###### Temp end"
   ]
  },
  {
   "cell_type": "markdown",
   "id": "c5767989",
   "metadata": {},
   "source": [
    "교사 강요(Teacher Forcing) 사용하기"
   ]
  },
  {
   "cell_type": "code",
   "execution_count": 18,
   "id": "e7a5228e",
   "metadata": {},
   "outputs": [],
   "source": [
    "BATCH_SIZE = 64\n",
    "BUFFER_SIZE = 20000\n",
    "\n",
    "# 디코더는 이전의 target을 다음의 input으로 사용합니다.\n",
    "# 이에 따라 outputs에서는 START_TOKEN을 제거하겠습니다.\n",
    "dataset = tf.data.Dataset.from_tensor_slices((\n",
    "    {\n",
    "        'inputs': tokenized_Q,  # batch size, max_len\n",
    "        'dec_inputs': tokenized_A[:, :-1] # batch size, max_len\n",
    "    },\n",
    "    {\n",
    "        'outputs': tokenized_A[:, 1:] # batch size, max_len\n",
    "    },\n",
    "))\n",
    "\n",
    "train_val_dataset = dataset.take(11823//5*4)\n",
    "train_dataset = train_val_dataset.take(len(train_val_dataset)//5*4)\n",
    "val_dataset = train_val_dataset.skip(len(train_val_dataset)//5*4)\n",
    "test_dataset = dataset.skip(11823//5*4)\n",
    "\n",
    "dataset = dataset.cache().shuffle(BUFFER_SIZE).batch(BATCH_SIZE).prefetch(tf.data.experimental.AUTOTUNE)\n",
    "train_dataset = train_dataset.cache().shuffle(BUFFER_SIZE).batch(BATCH_SIZE).prefetch(tf.data.experimental.AUTOTUNE)\n",
    "val_dataset = val_dataset.cache().shuffle(BUFFER_SIZE).batch(BATCH_SIZE).prefetch(tf.data.experimental.AUTOTUNE)\n",
    "test_dataset = test_dataset.cache().shuffle(BUFFER_SIZE).batch(BATCH_SIZE).prefetch(tf.data.experimental.AUTOTUNE)"
   ]
  },
  {
   "cell_type": "markdown",
   "id": "5a5fe63f",
   "metadata": {},
   "source": [
    "Step 4. 모델 구성하기\n",
    "위 실습 내용을 참고하여 트랜스포머 모델을 구현합니다."
   ]
  },
  {
   "cell_type": "code",
   "execution_count": 19,
   "id": "c3d17ac1",
   "metadata": {},
   "outputs": [],
   "source": [
    "import sys\n",
    "sys.path.append('/aiffel/aiffel/transformer_chatbot')"
   ]
  },
  {
   "cell_type": "code",
   "execution_count": 20,
   "id": "b0976af5",
   "metadata": {},
   "outputs": [
    {
     "name": "stdout",
     "output_type": "stream",
     "text": [
      "슝=3\n",
      "Model: \"transformer\"\n",
      "__________________________________________________________________________________________________\n",
      "Layer (type)                    Output Shape         Param #     Connected to                     \n",
      "==================================================================================================\n",
      "inputs (InputLayer)             [(None, None)]       0                                            \n",
      "__________________________________________________________________________________________________\n",
      "dec_inputs (InputLayer)         [(None, None)]       0                                            \n",
      "__________________________________________________________________________________________________\n",
      "enc_padding_mask (Lambda)       (None, 1, 1, None)   0           inputs[0][0]                     \n",
      "__________________________________________________________________________________________________\n",
      "encoder (Functional)            (None, None, 256)    3143680     inputs[0][0]                     \n",
      "                                                                 enc_padding_mask[0][0]           \n",
      "__________________________________________________________________________________________________\n",
      "look_ahead_mask (Lambda)        (None, 1, None, None 0           dec_inputs[0][0]                 \n",
      "__________________________________________________________________________________________________\n",
      "dec_padding_mask (Lambda)       (None, 1, 1, None)   0           inputs[0][0]                     \n",
      "__________________________________________________________________________________________________\n",
      "decoder (Functional)            (None, None, 256)    3671040     dec_inputs[0][0]                 \n",
      "                                                                 encoder[0][0]                    \n",
      "                                                                 look_ahead_mask[0][0]            \n",
      "                                                                 dec_padding_mask[0][0]           \n",
      "__________________________________________________________________________________________________\n",
      "outputs (Dense)                 (None, None, 8162)   2097634     decoder[0][0]                    \n",
      "==================================================================================================\n",
      "Total params: 8,912,354\n",
      "Trainable params: 8,912,354\n",
      "Non-trainable params: 0\n",
      "__________________________________________________________________________________________________\n"
     ]
    }
   ],
   "source": [
    "from models import transformer\n",
    "\n",
    "tf.keras.backend.clear_session()\n",
    "\n",
    "# 하이퍼파라미터\n",
    "NUM_LAYERS = 2 # 인코더와 디코더의 층의 개수\n",
    "D_MODEL = 256 # 인코더와 디코더 내부의 입, 출력의 고정 차원\n",
    "NUM_HEADS = 8 # 멀티 헤드 어텐션에서의 헤드 수 \n",
    "UNITS = 512 # 피드 포워드 신경망의 은닉층의 크기\n",
    "DROPOUT = 0.1 # 드롭아웃의 비율\n",
    "\n",
    "model = transformer(\n",
    "    vocab_size=VOCAB_SIZE,\n",
    "    num_layers=NUM_LAYERS,\n",
    "    units=UNITS,\n",
    "    d_model=D_MODEL,\n",
    "    num_heads=NUM_HEADS,\n",
    "    dropout=DROPOUT)\n",
    "\n",
    "model.summary()"
   ]
  },
  {
   "cell_type": "code",
   "execution_count": 21,
   "id": "3dc758ce",
   "metadata": {},
   "outputs": [],
   "source": [
    "def loss_function(y_true, y_pred):\n",
    "    # reshape y_true into (batch size, MAX_LENGTH-1)\n",
    "    y_true = tf.reshape(y_true, shape=(-1, MAX_LENGTH - 1))\n",
    "    # \n",
    "    loss = tf.keras.losses.SparseCategoricalCrossentropy(\n",
    "      from_logits=True, reduction='none')(y_true, y_pred)\n",
    "    \n",
    "    mask = tf.cast(tf.not_equal(y_true, 0), # True if y_treu is 0, otherwise False\n",
    "                   tf.float32) \n",
    "    # cast boolian tensor into tf.float32\n",
    "    # to multiplicate with loss tensor(tf.float32)\n",
    "    loss = tf.multiply(loss, mask) # element-wise multiplication\n",
    "\n",
    "    return tf.reduce_mean(loss)"
   ]
  },
  {
   "cell_type": "code",
   "execution_count": 22,
   "id": "ec5684d7",
   "metadata": {},
   "outputs": [],
   "source": [
    "class CustomSchedule(tf.keras.optimizers.schedules.LearningRateSchedule):\n",
    "\n",
    "    def __init__(self, d_model, warmup_steps=4000):\n",
    "        super(CustomSchedule, self).__init__()\n",
    "\n",
    "        self.d_model = d_model\n",
    "        self.d_model = tf.cast(self.d_model, tf.float32)\n",
    "\n",
    "        self.warmup_steps = warmup_steps\n",
    "\n",
    "    def __call__(self, step):\n",
    "        arg1 = tf.math.rsqrt(step) # equal to step ** -0.5\n",
    "        arg2 = step * (self.warmup_steps**-1.5)\n",
    "\n",
    "        return tf.math.rsqrt(self.d_model) * tf.math.minimum(arg1, arg2)"
   ]
  },
  {
   "cell_type": "code",
   "execution_count": 23,
   "id": "1d5bd989",
   "metadata": {},
   "outputs": [
    {
     "data": {
      "text/plain": [
       "Text(0.5, 0, 'Train Step')"
      ]
     },
     "execution_count": 23,
     "metadata": {},
     "output_type": "execute_result"
    },
    {
     "data": {
      "image/png": "[encoded data removed]",
      "text/plain": [
       "<Figure size 432x288 with 1 Axes>"
      ]
     },
     "metadata": {
      "needs_background": "light"
     },
     "output_type": "display_data"
    }
   ],
   "source": [
    "import matplotlib.pyplot as plt\n",
    "sample_learning_rate = CustomSchedule(d_model=128, warmup_steps=4e+4)\n",
    "\n",
    "plt.plot(sample_learning_rate(tf.range(200000, dtype=tf.float32)))\n",
    "plt.ylabel(\"Learning Rate\")\n",
    "plt.xlabel(\"Train Step\")"
   ]
  },
  {
   "cell_type": "code",
   "execution_count": 24,
   "id": "9e38f914",
   "metadata": {},
   "outputs": [],
   "source": [
    "learning_rate = CustomSchedule(D_MODEL, warmup_steps=4e+4)\n",
    "\n",
    "optimizer = tf.keras.optimizers.Adam(\n",
    "    learning_rate, beta_1=0.9, beta_2=0.98, epsilon=1e-9)\n",
    "\n",
    "def accuracy(y_true, y_pred):\n",
    "    y_true = tf.reshape(y_true, shape=(-1, MAX_LENGTH - 1))\n",
    "    return tf.keras.metrics.sparse_categorical_accuracy(y_true, y_pred)\n",
    "\n",
    "model.compile(\n",
    "    optimizer=optimizer, \n",
    "    loss=loss_function, \n",
    "    metrics=[accuracy])"
   ]
  },
  {
   "cell_type": "code",
   "execution_count": 25,
   "id": "3e64236e",
   "metadata": {},
   "outputs": [
    {
     "name": "stdout",
     "output_type": "stream",
     "text": [
      "Epoch 1/100\n",
      "119/119 [==============================] - 15s 73ms/step - loss: 1.5027 - accuracy: 1.3560e-05 - val_loss: 1.6185 - val_accuracy: 4.0657e-05\n",
      "Epoch 2/100\n",
      "119/119 [==============================] - 7s 63ms/step - loss: 1.4749 - accuracy: 0.0069 - val_loss: 1.5726 - val_accuracy: 0.0252\n",
      "Epoch 3/100\n",
      "119/119 [==============================] - 7s 63ms/step - loss: 1.4265 - accuracy: 0.0261 - val_loss: 1.5185 - val_accuracy: 0.0294\n",
      "Epoch 4/100\n",
      "119/119 [==============================] - 7s 63ms/step - loss: 1.3814 - accuracy: 0.0332 - val_loss: 1.4781 - val_accuracy: 0.0451\n",
      "Epoch 5/100\n",
      "119/119 [==============================] - 8s 63ms/step - loss: 1.3471 - accuracy: 0.0395 - val_loss: 1.4486 - val_accuracy: 0.0479\n",
      "Epoch 6/100\n",
      "119/119 [==============================] - 7s 63ms/step - loss: 1.3191 - accuracy: 0.0436 - val_loss: 1.4239 - val_accuracy: 0.0498\n",
      "Epoch 7/100\n",
      "119/119 [==============================] - 7s 63ms/step - loss: 1.2925 - accuracy: 0.0472 - val_loss: 1.3977 - val_accuracy: 0.0504\n",
      "Epoch 8/100\n",
      "119/119 [==============================] - 7s 63ms/step - loss: 1.2620 - accuracy: 0.0488 - val_loss: 1.3631 - val_accuracy: 0.0504\n",
      "Epoch 9/100\n",
      "119/119 [==============================] - 7s 63ms/step - loss: 1.2255 - accuracy: 0.0489 - val_loss: 1.3277 - val_accuracy: 0.0504\n",
      "Epoch 10/100\n",
      "119/119 [==============================] - 7s 63ms/step - loss: 1.1894 - accuracy: 0.0489 - val_loss: 1.2955 - val_accuracy: 0.0504\n",
      "Epoch 11/100\n",
      "119/119 [==============================] - 7s 62ms/step - loss: 1.1555 - accuracy: 0.0489 - val_loss: 1.2658 - val_accuracy: 0.0504\n",
      "Epoch 12/100\n",
      "119/119 [==============================] - 7s 62ms/step - loss: 1.1231 - accuracy: 0.0489 - val_loss: 1.2377 - val_accuracy: 0.0504\n",
      "Epoch 13/100\n",
      "119/119 [==============================] - 7s 63ms/step - loss: 1.0918 - accuracy: 0.0489 - val_loss: 1.2114 - val_accuracy: 0.0504\n",
      "Epoch 14/100\n",
      "119/119 [==============================] - 7s 62ms/step - loss: 1.0618 - accuracy: 0.0489 - val_loss: 1.1871 - val_accuracy: 0.0504\n",
      "Epoch 15/100\n",
      "119/119 [==============================] - 7s 63ms/step - loss: 1.0336 - accuracy: 0.0493 - val_loss: 1.1656 - val_accuracy: 0.0505\n",
      "Epoch 16/100\n",
      "119/119 [==============================] - 7s 63ms/step - loss: 1.0080 - accuracy: 0.0495 - val_loss: 1.1468 - val_accuracy: 0.0505\n",
      "Epoch 17/100\n",
      "119/119 [==============================] - 7s 63ms/step - loss: 0.9852 - accuracy: 0.0495 - val_loss: 1.1303 - val_accuracy: 0.0505\n",
      "Epoch 18/100\n",
      "119/119 [==============================] - 7s 62ms/step - loss: 0.9653 - accuracy: 0.0496 - val_loss: 1.1173 - val_accuracy: 0.0506\n",
      "Epoch 19/100\n",
      "119/119 [==============================] - 7s 62ms/step - loss: 0.9467 - accuracy: 0.0496 - val_loss: 1.1014 - val_accuracy: 0.0506\n",
      "Epoch 20/100\n",
      "119/119 [==============================] - 7s 62ms/step - loss: 0.9296 - accuracy: 0.0497 - val_loss: 1.0882 - val_accuracy: 0.0508\n",
      "Epoch 21/100\n",
      "119/119 [==============================] - 7s 62ms/step - loss: 0.9144 - accuracy: 0.0500 - val_loss: 1.0791 - val_accuracy: 0.0516\n",
      "Epoch 22/100\n",
      "119/119 [==============================] - 7s 62ms/step - loss: 0.9014 - accuracy: 0.0505 - val_loss: 1.0736 - val_accuracy: 0.0516\n",
      "Epoch 23/100\n",
      "119/119 [==============================] - 7s 62ms/step - loss: 0.8896 - accuracy: 0.0509 - val_loss: 1.0661 - val_accuracy: 0.0525\n",
      "Epoch 24/100\n",
      "119/119 [==============================] - 7s 62ms/step - loss: 0.8790 - accuracy: 0.0515 - val_loss: 1.0626 - val_accuracy: 0.0524\n",
      "Epoch 25/100\n",
      "119/119 [==============================] - 7s 62ms/step - loss: 0.8688 - accuracy: 0.0521 - val_loss: 1.0581 - val_accuracy: 0.0528\n",
      "Epoch 26/100\n",
      "119/119 [==============================] - 7s 62ms/step - loss: 0.8592 - accuracy: 0.0525 - val_loss: 1.0546 - val_accuracy: 0.0532\n",
      "Epoch 27/100\n",
      "119/119 [==============================] - 7s 62ms/step - loss: 0.8497 - accuracy: 0.0531 - val_loss: 1.0516 - val_accuracy: 0.0536\n",
      "Epoch 28/100\n",
      "119/119 [==============================] - 7s 62ms/step - loss: 0.8408 - accuracy: 0.0537 - val_loss: 1.0472 - val_accuracy: 0.0541\n",
      "Epoch 29/100\n",
      "119/119 [==============================] - 7s 62ms/step - loss: 0.8318 - accuracy: 0.0542 - val_loss: 1.0474 - val_accuracy: 0.0543\n",
      "Epoch 30/100\n",
      "119/119 [==============================] - 7s 62ms/step - loss: 0.8228 - accuracy: 0.0549 - val_loss: 1.0463 - val_accuracy: 0.0548\n",
      "Epoch 31/100\n",
      "119/119 [==============================] - 7s 62ms/step - loss: 0.8137 - accuracy: 0.0552 - val_loss: 1.0422 - val_accuracy: 0.0549\n",
      "Epoch 32/100\n",
      "119/119 [==============================] - 7s 62ms/step - loss: 0.8054 - accuracy: 0.0557 - val_loss: 1.0431 - val_accuracy: 0.0553\n",
      "Epoch 33/100\n",
      "119/119 [==============================] - 7s 62ms/step - loss: 0.7963 - accuracy: 0.0562 - val_loss: 1.0494 - val_accuracy: 0.0553\n",
      "Epoch 34/100\n",
      "119/119 [==============================] - 7s 62ms/step - loss: 0.7878 - accuracy: 0.0568 - val_loss: 1.0411 - val_accuracy: 0.0558\n",
      "Epoch 35/100\n",
      "119/119 [==============================] - 7s 63ms/step - loss: 0.7792 - accuracy: 0.0574 - val_loss: 1.0363 - val_accuracy: 0.0561\n",
      "Epoch 36/100\n",
      "119/119 [==============================] - 7s 63ms/step - loss: 0.7704 - accuracy: 0.0581 - val_loss: 1.0373 - val_accuracy: 0.0563\n",
      "Epoch 37/100\n",
      "119/119 [==============================] - 7s 63ms/step - loss: 0.7611 - accuracy: 0.0589 - val_loss: 1.0344 - val_accuracy: 0.0569\n",
      "Epoch 38/100\n",
      "119/119 [==============================] - 7s 63ms/step - loss: 0.7529 - accuracy: 0.0596 - val_loss: 1.0401 - val_accuracy: 0.0569\n",
      "Epoch 39/100\n",
      "119/119 [==============================] - 7s 63ms/step - loss: 0.7436 - accuracy: 0.0603 - val_loss: 1.0377 - val_accuracy: 0.0572\n",
      "Epoch 40/100\n",
      "119/119 [==============================] - 7s 62ms/step - loss: 0.7340 - accuracy: 0.0612 - val_loss: 1.0287 - val_accuracy: 0.0575\n",
      "Epoch 41/100\n",
      "119/119 [==============================] - 7s 63ms/step - loss: 0.7249 - accuracy: 0.0622 - val_loss: 1.0255 - val_accuracy: 0.0577\n",
      "Epoch 42/100\n",
      "119/119 [==============================] - 7s 63ms/step - loss: 0.7152 - accuracy: 0.0629 - val_loss: 1.0341 - val_accuracy: 0.0578\n",
      "Epoch 43/100\n",
      "119/119 [==============================] - 8s 63ms/step - loss: 0.7055 - accuracy: 0.0639 - val_loss: 1.0303 - val_accuracy: 0.0581\n",
      "Epoch 44/100\n",
      "119/119 [==============================] - 8s 64ms/step - loss: 0.6955 - accuracy: 0.0651 - val_loss: 1.0317 - val_accuracy: 0.0582\n",
      "Epoch 45/100\n",
      "119/119 [==============================] - 8s 63ms/step - loss: 0.6859 - accuracy: 0.0661 - val_loss: 1.0278 - val_accuracy: 0.0587\n",
      "Epoch 46/100\n",
      "119/119 [==============================] - 7s 63ms/step - loss: 0.6754 - accuracy: 0.0675 - val_loss: 1.0263 - val_accuracy: 0.0590\n",
      "Epoch 47/100\n",
      "119/119 [==============================] - 7s 63ms/step - loss: 0.6653 - accuracy: 0.0687 - val_loss: 1.0302 - val_accuracy: 0.0592\n",
      "Epoch 48/100\n",
      "119/119 [==============================] - 7s 63ms/step - loss: 0.6544 - accuracy: 0.0698 - val_loss: 1.0206 - val_accuracy: 0.0597\n",
      "Epoch 49/100\n",
      "119/119 [==============================] - 7s 63ms/step - loss: 0.6438 - accuracy: 0.0713 - val_loss: 1.0269 - val_accuracy: 0.0595\n",
      "Epoch 50/100\n",
      "119/119 [==============================] - 7s 62ms/step - loss: 0.6325 - accuracy: 0.0728 - val_loss: 1.0255 - val_accuracy: 0.0598\n",
      "Epoch 51/100\n",
      "119/119 [==============================] - 7s 62ms/step - loss: 0.6215 - accuracy: 0.0745 - val_loss: 1.0233 - val_accuracy: 0.0602\n",
      "Epoch 52/100\n",
      "119/119 [==============================] - 7s 63ms/step - loss: 0.6100 - accuracy: 0.0758 - val_loss: 1.0178 - val_accuracy: 0.0607\n",
      "Epoch 53/100\n",
      "119/119 [==============================] - 7s 63ms/step - loss: 0.5981 - accuracy: 0.0774 - val_loss: 1.0277 - val_accuracy: 0.0607\n",
      "Epoch 54/100\n",
      "119/119 [==============================] - 7s 63ms/step - loss: 0.5858 - accuracy: 0.0790 - val_loss: 1.0293 - val_accuracy: 0.0606\n",
      "Epoch 55/100\n",
      "119/119 [==============================] - 7s 63ms/step - loss: 0.5743 - accuracy: 0.0809 - val_loss: 1.0364 - val_accuracy: 0.0609\n",
      "Epoch 56/100\n",
      "119/119 [==============================] - 7s 63ms/step - loss: 0.5612 - accuracy: 0.0825 - val_loss: 1.0221 - val_accuracy: 0.0613\n",
      "Epoch 57/100\n"
     ]
    },
    {
     "name": "stdout",
     "output_type": "stream",
     "text": [
      "119/119 [==============================] - 7s 63ms/step - loss: 0.5489 - accuracy: 0.0844 - val_loss: 1.0202 - val_accuracy: 0.0614\n",
      "Epoch 58/100\n",
      "119/119 [==============================] - 7s 63ms/step - loss: 0.5368 - accuracy: 0.0861 - val_loss: 1.0282 - val_accuracy: 0.0617\n",
      "Epoch 59/100\n",
      "119/119 [==============================] - 7s 62ms/step - loss: 0.5239 - accuracy: 0.0879 - val_loss: 1.0264 - val_accuracy: 0.0621\n",
      "Epoch 60/100\n",
      "119/119 [==============================] - 7s 63ms/step - loss: 0.5109 - accuracy: 0.0898 - val_loss: 1.0181 - val_accuracy: 0.0622\n",
      "Epoch 61/100\n",
      "119/119 [==============================] - 7s 63ms/step - loss: 0.4980 - accuracy: 0.0916 - val_loss: 1.0209 - val_accuracy: 0.0624\n",
      "Epoch 62/100\n",
      "119/119 [==============================] - 7s 62ms/step - loss: 0.4853 - accuracy: 0.0934 - val_loss: 1.0260 - val_accuracy: 0.0626\n",
      "Epoch 63/100\n",
      "119/119 [==============================] - 7s 62ms/step - loss: 0.4720 - accuracy: 0.0952 - val_loss: 1.0239 - val_accuracy: 0.0627\n",
      "Epoch 64/100\n",
      "119/119 [==============================] - 7s 63ms/step - loss: 0.4589 - accuracy: 0.0971 - val_loss: 1.0273 - val_accuracy: 0.0628\n",
      "Epoch 65/100\n",
      "119/119 [==============================] - 7s 63ms/step - loss: 0.4453 - accuracy: 0.0994 - val_loss: 1.0393 - val_accuracy: 0.0630\n",
      "Epoch 66/100\n",
      "119/119 [==============================] - 7s 62ms/step - loss: 0.4323 - accuracy: 0.1012 - val_loss: 1.0296 - val_accuracy: 0.0633\n",
      "Epoch 67/100\n",
      "119/119 [==============================] - 7s 63ms/step - loss: 0.4192 - accuracy: 0.1030 - val_loss: 1.0394 - val_accuracy: 0.0632\n",
      "Epoch 68/100\n",
      "119/119 [==============================] - 7s 63ms/step - loss: 0.4056 - accuracy: 0.1053 - val_loss: 1.0360 - val_accuracy: 0.0633\n",
      "Epoch 69/100\n",
      "119/119 [==============================] - 7s 63ms/step - loss: 0.3924 - accuracy: 0.1073 - val_loss: 1.0449 - val_accuracy: 0.0634\n",
      "Epoch 70/100\n",
      "119/119 [==============================] - 7s 63ms/step - loss: 0.3790 - accuracy: 0.1095 - val_loss: 1.0341 - val_accuracy: 0.0635\n",
      "Epoch 71/100\n",
      "119/119 [==============================] - 7s 63ms/step - loss: 0.3655 - accuracy: 0.1116 - val_loss: 1.0494 - val_accuracy: 0.0637\n",
      "Epoch 72/100\n",
      "119/119 [==============================] - 7s 62ms/step - loss: 0.3527 - accuracy: 0.1136 - val_loss: 1.0401 - val_accuracy: 0.0636\n",
      "Epoch 73/100\n",
      "119/119 [==============================] - 7s 62ms/step - loss: 0.3392 - accuracy: 0.1155 - val_loss: 1.0465 - val_accuracy: 0.0639\n",
      "Epoch 74/100\n",
      "119/119 [==============================] - 7s 63ms/step - loss: 0.3258 - accuracy: 0.1179 - val_loss: 1.0528 - val_accuracy: 0.0638\n",
      "Epoch 75/100\n",
      "119/119 [==============================] - 7s 63ms/step - loss: 0.3129 - accuracy: 0.1198 - val_loss: 1.0499 - val_accuracy: 0.0639\n",
      "Epoch 76/100\n",
      "119/119 [==============================] - 7s 63ms/step - loss: 0.2999 - accuracy: 0.1220 - val_loss: 1.0742 - val_accuracy: 0.0638\n",
      "Epoch 77/100\n",
      "119/119 [==============================] - 7s 63ms/step - loss: 0.2875 - accuracy: 0.1241 - val_loss: 1.0619 - val_accuracy: 0.0638\n",
      "Epoch 78/100\n",
      "119/119 [==============================] - 7s 63ms/step - loss: 0.2747 - accuracy: 0.1260 - val_loss: 1.0685 - val_accuracy: 0.0640\n",
      "Epoch 79/100\n",
      "119/119 [==============================] - 7s 63ms/step - loss: 0.2615 - accuracy: 0.1283 - val_loss: 1.0709 - val_accuracy: 0.0641\n",
      "Epoch 80/100\n",
      "119/119 [==============================] - 7s 63ms/step - loss: 0.2491 - accuracy: 0.1302 - val_loss: 1.0741 - val_accuracy: 0.0642\n",
      "Epoch 81/100\n",
      "119/119 [==============================] - 7s 63ms/step - loss: 0.2370 - accuracy: 0.1324 - val_loss: 1.0782 - val_accuracy: 0.0641\n",
      "Epoch 82/100\n",
      "119/119 [==============================] - 7s 63ms/step - loss: 0.2250 - accuracy: 0.1343 - val_loss: 1.0877 - val_accuracy: 0.0643\n",
      "Epoch 83/100\n",
      "119/119 [==============================] - 7s 62ms/step - loss: 0.2127 - accuracy: 0.1363 - val_loss: 1.0857 - val_accuracy: 0.0639\n",
      "Epoch 84/100\n",
      "119/119 [==============================] - 7s 62ms/step - loss: 0.2009 - accuracy: 0.1383 - val_loss: 1.0956 - val_accuracy: 0.0643\n",
      "Epoch 85/100\n",
      "119/119 [==============================] - 8s 63ms/step - loss: 0.1900 - accuracy: 0.1399 - val_loss: 1.0960 - val_accuracy: 0.0643\n",
      "Epoch 86/100\n",
      "119/119 [==============================] - 8s 63ms/step - loss: 0.1792 - accuracy: 0.1415 - val_loss: 1.0981 - val_accuracy: 0.0641\n",
      "Epoch 87/100\n",
      "119/119 [==============================] - 7s 63ms/step - loss: 0.1681 - accuracy: 0.1432 - val_loss: 1.0993 - val_accuracy: 0.0643\n",
      "Epoch 88/100\n",
      "119/119 [==============================] - 7s 63ms/step - loss: 0.1573 - accuracy: 0.1453 - val_loss: 1.1119 - val_accuracy: 0.0642\n",
      "Epoch 89/100\n",
      "119/119 [==============================] - 7s 63ms/step - loss: 0.1478 - accuracy: 0.1465 - val_loss: 1.1146 - val_accuracy: 0.0643\n",
      "Epoch 90/100\n",
      "119/119 [==============================] - 7s 63ms/step - loss: 0.1379 - accuracy: 0.1484 - val_loss: 1.1222 - val_accuracy: 0.0643\n",
      "Epoch 91/100\n",
      "119/119 [==============================] - 7s 63ms/step - loss: 0.1286 - accuracy: 0.1499 - val_loss: 1.1300 - val_accuracy: 0.0646\n",
      "Epoch 92/100\n",
      "119/119 [==============================] - 7s 63ms/step - loss: 0.1196 - accuracy: 0.1514 - val_loss: 1.1360 - val_accuracy: 0.0643\n",
      "Epoch 93/100\n",
      "119/119 [==============================] - 7s 63ms/step - loss: 0.1106 - accuracy: 0.1527 - val_loss: 1.1378 - val_accuracy: 0.0647\n",
      "Epoch 94/100\n",
      "119/119 [==============================] - 7s 62ms/step - loss: 0.1025 - accuracy: 0.1540 - val_loss: 1.1479 - val_accuracy: 0.0645\n",
      "Epoch 95/100\n",
      "119/119 [==============================] - 7s 62ms/step - loss: 0.0950 - accuracy: 0.1552 - val_loss: 1.1494 - val_accuracy: 0.0645\n",
      "Epoch 96/100\n",
      "119/119 [==============================] - 7s 63ms/step - loss: 0.0870 - accuracy: 0.1564 - val_loss: 1.1564 - val_accuracy: 0.0644\n",
      "Epoch 97/100\n",
      "119/119 [==============================] - 7s 63ms/step - loss: 0.0799 - accuracy: 0.1574 - val_loss: 1.1565 - val_accuracy: 0.0645\n",
      "Epoch 98/100\n",
      "119/119 [==============================] - 7s 63ms/step - loss: 0.0733 - accuracy: 0.1584 - val_loss: 1.1728 - val_accuracy: 0.0644\n",
      "Epoch 99/100\n",
      "119/119 [==============================] - 7s 63ms/step - loss: 0.0666 - accuracy: 0.1595 - val_loss: 1.1765 - val_accuracy: 0.0647\n",
      "Epoch 100/100\n",
      "119/119 [==============================] - 7s 63ms/step - loss: 0.0607 - accuracy: 0.1604 - val_loss: 1.1806 - val_accuracy: 0.0646\n"
     ]
    }
   ],
   "source": [
    "EPOCHS = 100\n",
    "history = model.fit(train_dataset, \n",
    "                    epochs=EPOCHS, \n",
    "                    validation_data=val_dataset,\n",
    "                    verbose=1)"
   ]
  },
  {
   "cell_type": "code",
   "execution_count": 26,
   "id": "66e22ef1",
   "metadata": {},
   "outputs": [],
   "source": [
    "model.save_weights(filepath='./models/transformer_e100_l7.4e-3_acc0.174.pt')"
   ]
  },
  {
   "cell_type": "code",
   "execution_count": 27,
   "id": "c8edb03b",
   "metadata": {},
   "outputs": [
    {
     "data": {
      "image/png": "[encoded data removed]",
      "text/plain": [
       "<Figure size 432x288 with 1 Axes>"
      ]
     },
     "metadata": {
      "needs_background": "light"
     },
     "output_type": "display_data"
    },
    {
     "data": {
      "image/png": "[encoded data removed]",
      "text/plain": [
       "<Figure size 432x288 with 1 Axes>"
      ]
     },
     "metadata": {
      "needs_background": "light"
     },
     "output_type": "display_data"
    }
   ],
   "source": [
    "data = pd.DataFrame(history.history).reset_index()\n",
    "plt.plot(data.index, data.loss, label='trn_loss')\n",
    "plt.plot(data.index, data.val_loss, label='val_loss')\n",
    "plt.legend();plt.show()\n",
    "plt.plot(data.index, data.accuracy, label='accuracy')\n",
    "plt.legend();plt.show()\n"
   ]
  },
  {
   "cell_type": "markdown",
   "id": "6cf5eb53",
   "metadata": {},
   "source": [
    "[루브릭] validation loss의 양상을 통해서 Epoch 70 정도에서 멈춰야 함을 알 수 있었다."
   ]
  },
  {
   "cell_type": "markdown",
   "id": "fe3aa4a8",
   "metadata": {},
   "source": [
    "Step 5. 모델 평가하기\n",
    "Step 1에서 선택한 전처리 방법을 고려하여 입력된 문장에 대해서 대답을 얻는 예측 함수를 만듭니다."
   ]
  },
  {
   "cell_type": "code",
   "execution_count": 28,
   "id": "4f2c431b",
   "metadata": {},
   "outputs": [],
   "source": [
    "def decoder_inference(sentence):\n",
    "    sentence = preprocess_sentence(sentence)\n",
    "\n",
    "    # 입력된 문장을 정수 인코딩 후, 시작 토큰과 종료 토큰을 앞뒤로 추가.\n",
    "    # ex) Where have you been? → [[8331   86   30    5 1059    7 8332]]\n",
    "    sentence = tf.expand_dims(\n",
    "            START_TOKEN + tokenizer.encode(sentence) + END_TOKEN, axis=0)\n",
    "\n",
    "    # 디코더의 현재까지의 예측한 출력 시퀀스가 지속적으로 저장되는 변수.\n",
    "    # 처음에는 예측한 내용이 없음으로 시작 토큰만 별도 저장. ex) 8331\n",
    "    output_sequence = tf.expand_dims(START_TOKEN, 0)\n",
    "\n",
    "    # 디코더의 인퍼런스 단계\n",
    "    for i in range(MAX_LENGTH):\n",
    "        # 디코더는 최대 MAX_LENGTH의 길이만큼 다음 단어 예측을 반복합니다.\n",
    "        predictions = model(inputs=[sentence, output_sequence], training=False)\n",
    "        predictions = predictions[:, -1:, :] # batch, position, embdding\n",
    "\n",
    "        # 현재 예측한 단어의 정수\n",
    "        predicted_id = tf.cast(tf.argmax(predictions, axis=-1), tf.int32)\n",
    "\n",
    "        # 만약 현재 예측한 단어가 종료 토큰이라면 for문을 종료\n",
    "        if tf.equal(predicted_id, END_TOKEN[0]):\n",
    "            break\n",
    "\n",
    "        # 예측한 단어들은 지속적으로 output_sequence에 추가됩니다.\n",
    "        # 이 output_sequence는 다시 디코더의 입력이 됩니다.\n",
    "        output_sequence = tf.concat([output_sequence, predicted_id], axis=-1)\n",
    "\n",
    "    return tf.squeeze(output_sequence, axis=0)\n"
   ]
  },
  {
   "cell_type": "code",
   "execution_count": 48,
   "id": "9b3801a5",
   "metadata": {},
   "outputs": [],
   "source": [
    "def sentence_generation(sentence, tokenizer):\n",
    "    # 입력 문장에 대해서 디코더를 동작 시켜 예측된 정수 시퀀스를 리턴받습니다.\n",
    "    prediction = decoder_inference(sentence)\n",
    "\n",
    "    # 정수 시퀀스를 다시 텍스트 시퀀스로 변환합니다.\n",
    "    predicted_sentence = tokenizer.decode(\n",
    "            [i for i in prediction if i < tokenizer.vocab_size])\n",
    "\n",
    "    print('입력 : {}'.format(sentence))\n",
    "    print('출력 : {}'.format(predicted_sentence))\n",
    "\n",
    "    return predicted_sentence\n"
   ]
  },
  {
   "cell_type": "code",
   "execution_count": 49,
   "id": "3c3e87e3",
   "metadata": {},
   "outputs": [
    {
     "name": "stdout",
     "output_type": "stream",
     "text": [
      "입력 : 12 시 땡 !\n",
      "출력 : 어떤 꿈이었나요 .\n",
      "정답 : 하루가 또 가네요 .\n",
      "\n",
      "입력 : 1 지망 학교 떨어졌어\n",
      "출력 : 좋은 사람 만날 거예요 .\n",
      "정답 : 위로해 드립니다 .\n",
      "\n",
      "입력 : 3 박 4 일 놀러가고 싶다\n",
      "출력 : 인연이 거기까지인가봐요 .\n",
      "정답 : 여행은 언제나 좋죠 .\n",
      "\n",
      "입력 : 3 박 4 일 정도 놀러가고 싶다\n",
      "출력 : 인연이 거기까지인가봐요 .\n",
      "정답 : 여행은 언제나 좋죠 .\n",
      "\n",
      "입력 : ppl 심하네\n",
      "출력 : 눈살이 찌푸려지죠 .\n",
      "정답 : 눈살이 찌푸려지죠 .\n",
      "\n",
      "입력 : sd카드 망가졌어\n",
      "출력 : 다시 새로 사는 게 마음 편해요 .\n",
      "정답 : 다시 새로 사는 게 마음 편해요 .\n",
      "\n",
      "입력 : sd카드 안돼\n",
      "출력 : 다시 새로 사는 게 마음 편해요 .\n",
      "정답 : 다시 새로 사는 게 마음 편해요 .\n",
      "\n",
      "입력 : sns 맞팔 왜 안하지\n",
      "출력 : 잘 모르고 있을 수도 있어요 .\n",
      "정답 : 잘 모르고 있을 수도 있어요 .\n",
      "\n",
      "입력 : sns 시간낭비인 거 아는데 매일 하는 중\n",
      "출력 : 시간을 정하고 해보세요 .\n",
      "정답 : 시간을 정하고 해보세요 .\n",
      "\n",
      "입력 : sns 시간낭비인데 자꾸 보게됨\n",
      "출력 : 시간을 정하고 해보세요 .\n",
      "정답 : 시간을 정하고 해보세요 .\n",
      "\n",
      "입력 : sns보면 나만 빼고 다 행복해보여\n",
      "출력 : 자랑하는 자리니까요 .\n",
      "정답 : 자랑하는 자리니까요 .\n",
      "\n",
      "입력 : 가끔 궁금해\n",
      "출력 : 그 사람도 그럴 거예요 .\n",
      "정답 : 그 사람도 그럴 거예요 .\n",
      "\n",
      "입력 : 가끔 뭐하는지 궁금해\n",
      "출력 : 그 사람도 그럴 거예요 .\n",
      "정답 : 그 사람도 그럴 거예요 .\n",
      "\n",
      "입력 : 가끔은 혼자인게 좋다\n",
      "출력 : 혼자를 즐기세요 .\n",
      "정답 : 혼자를 즐기세요 .\n",
      "\n",
      "입력 : 가난한 자의 설움\n",
      "출력 : 돈은 다시 들어올 거예요 .\n",
      "정답 : 돈은 다시 들어올 거예요 .\n",
      "\n"
     ]
    }
   ],
   "source": [
    "for i in range(15):\n",
    "    sentence_generation(questions[i], tokenizer)\n",
    "    print('정답 : {}'.format(answers[i]))\n",
    "    print()"
   ]
  },
  {
   "cell_type": "markdown",
   "id": "9e8efbe7",
   "metadata": {},
   "source": [
    "### 회고\n",
    "\n",
    "#### 배운점\n",
    "- tokenize 해 줄 때, 의미의 단위로 tokenize를 해주는게 중요하다는 것을 확인했다.\n",
    "- training 시에 validation set 을 꼭 사용하자. 그래야, 몇 epoch 까지 진행해야 할지 판단할 수 있다.\n",
    "#### 아쉬운점\n",
    "- encoder 의 embedding layer, decoder 의 embedding layer 를 분석해보고 싶었으나 시간이 부족해 수행하지 못했다.\n",
    "- accuracy 외의 다른 지표도 시도해봤으면 좋을것 같다.\n",
    "#### 느낀점\n",
    "- transformer는 학습이 느리다.\n",
    "- 성능을 높이기 위해서 전처리가 중요하다.\n",
    "- 단순히 layer 만 늘려도 성능이 올라가는 경우가 있다.\n",
    "    \n",
    "#### 어려웠던점\n",
    "- validation 을 지정하지 않았을 때, 최대 성능이 나오려면 몇 epoch까지 진행해야 할 지 감이 잘 안잡혔다."
   ]
  },
  {
   "cell_type": "code",
   "execution_count": 30,
   "id": "e2174eca",
   "metadata": {},
   "outputs": [
    {
     "data": {
      "text/plain": [
       "['_TF_MODULE_IGNORED_PROPERTIES',\n",
       " '__call__',\n",
       " '__class__',\n",
       " '__delattr__',\n",
       " '__dict__',\n",
       " '__dir__',\n",
       " '__doc__',\n",
       " '__eq__',\n",
       " '__format__',\n",
       " '__ge__',\n",
       " '__getattribute__',\n",
       " '__getstate__',\n",
       " '__gt__',\n",
       " '__hash__',\n",
       " '__init__',\n",
       " '__init_subclass__',\n",
       " '__le__',\n",
       " '__lt__',\n",
       " '__module__',\n",
       " '__ne__',\n",
       " '__new__',\n",
       " '__reduce__',\n",
       " '__reduce_ex__',\n",
       " '__repr__',\n",
       " '__setattr__',\n",
       " '__setstate__',\n",
       " '__sizeof__',\n",
       " '__str__',\n",
       " '__subclasshook__',\n",
       " '__weakref__',\n",
       " '_activity_regularizer',\n",
       " '_add_trackable',\n",
       " '_add_variable_with_custom_getter',\n",
       " '_assert_compile_was_called',\n",
       " '_assert_weights_created',\n",
       " '_auto_track_sub_layers',\n",
       " '_autocast',\n",
       " '_autographed_call',\n",
       " '_base_model_initialized',\n",
       " '_build_input_shape',\n",
       " '_call_accepts_kwargs',\n",
       " '_call_arg_was_passed',\n",
       " '_call_fn_arg_defaults',\n",
       " '_call_fn_arg_positions',\n",
       " '_call_fn_args',\n",
       " '_call_full_argspec',\n",
       " '_callable_losses',\n",
       " '_cast_single_input',\n",
       " '_check_call_args',\n",
       " '_checkpoint_dependencies',\n",
       " '_clear_losses',\n",
       " '_cluster_coordinator',\n",
       " '_compile_was_called',\n",
       " '_compiled_trainable_state',\n",
       " '_compute_dtype',\n",
       " '_compute_dtype_object',\n",
       " '_compute_output_and_mask_jointly',\n",
       " '_compute_tensor_usage_count',\n",
       " '_configure_steps_per_execution',\n",
       " '_conform_to_reference_input',\n",
       " '_dedup_weights',\n",
       " '_default_training_arg',\n",
       " '_deferred_dependencies',\n",
       " '_delete_tracking',\n",
       " '_distribution_strategy',\n",
       " '_dtype',\n",
       " '_dtype_policy',\n",
       " '_dynamic',\n",
       " '_eager_losses',\n",
       " '_enable_dict_to_input_mapping',\n",
       " '_expects_mask_arg',\n",
       " '_expects_training_arg',\n",
       " '_feed_input_names',\n",
       " '_feed_input_shapes',\n",
       " '_feed_inputs',\n",
       " '_flatten',\n",
       " '_flatten_layers',\n",
       " '_flatten_modules',\n",
       " '_flatten_to_reference_inputs',\n",
       " '_functional_construction_call',\n",
       " '_gather_children_attribute',\n",
       " '_gather_saveables_for_checkpoint',\n",
       " '_get_call_arg_value',\n",
       " '_get_callback_model',\n",
       " '_get_cell_name',\n",
       " '_get_compile_args',\n",
       " '_get_existing_metric',\n",
       " '_get_input_masks',\n",
       " '_get_node_attribute_at_index',\n",
       " '_get_optimizer',\n",
       " '_get_save_spec',\n",
       " '_get_trainable_state',\n",
       " '_graph_network_add_loss',\n",
       " '_graph_network_add_metric',\n",
       " '_handle_activity_regularization',\n",
       " '_handle_deferred_dependencies',\n",
       " '_handle_deferred_layer_dependencies',\n",
       " '_handle_weight_regularization',\n",
       " '_in_multi_worker_mode',\n",
       " '_inbound_nodes',\n",
       " '_inbound_nodes_value',\n",
       " '_infer_output_signature',\n",
       " '_init_batch_counters',\n",
       " '_init_call_fn_args',\n",
       " '_init_graph_network',\n",
       " '_init_set_name',\n",
       " '_initial_weights',\n",
       " '_input_coordinates',\n",
       " '_input_layers',\n",
       " '_input_spec',\n",
       " '_insert_layers',\n",
       " '_instrument_layer_creation',\n",
       " '_instrumented_keras_api',\n",
       " '_instrumented_keras_layer_class',\n",
       " '_instrumented_keras_model_class',\n",
       " '_is_compiled',\n",
       " '_is_graph_network',\n",
       " '_is_layer',\n",
       " '_is_model_for_instrumentation',\n",
       " '_keras_api_names',\n",
       " '_keras_api_names_v1',\n",
       " '_keras_tensor_symbolic_call',\n",
       " '_layer_call_argspecs',\n",
       " '_layer_checkpoint_dependencies',\n",
       " '_list_extra_dependencies_for_serialization',\n",
       " '_list_functions_for_serialization',\n",
       " '_lookup_dependency',\n",
       " '_losses',\n",
       " '_map_resources',\n",
       " '_maybe_build',\n",
       " '_maybe_cast_inputs',\n",
       " '_maybe_create_attribute',\n",
       " '_maybe_initialize_trackable',\n",
       " '_maybe_load_initial_epoch_from_ckpt',\n",
       " '_metrics',\n",
       " '_metrics_lock',\n",
       " '_must_restore_from_config',\n",
       " '_name',\n",
       " '_name_based_attribute_restore',\n",
       " '_name_based_restores',\n",
       " '_name_scope',\n",
       " '_nested_inputs',\n",
       " '_nested_outputs',\n",
       " '_network_nodes',\n",
       " '_no_dependency',\n",
       " '_nodes_by_depth',\n",
       " '_non_trainable_weights',\n",
       " '_obj_reference_counts',\n",
       " '_obj_reference_counts_dict',\n",
       " '_object_identifier',\n",
       " '_outbound_nodes',\n",
       " '_outbound_nodes_value',\n",
       " '_outer_name_scope',\n",
       " '_output_coordinates',\n",
       " '_output_layers',\n",
       " '_output_mask_cache',\n",
       " '_output_shape_cache',\n",
       " '_output_tensor_cache',\n",
       " '_predict_counter',\n",
       " '_preload_simple_restoration',\n",
       " '_preserve_input_structure_in_config',\n",
       " '_reset_compile_cache',\n",
       " '_restore_from_checkpoint_position',\n",
       " '_run_eagerly',\n",
       " '_run_internal_graph',\n",
       " '_saved_model_arg_spec',\n",
       " '_saved_model_inputs_spec',\n",
       " '_self_name_based_restores',\n",
       " '_self_saveable_object_factories',\n",
       " '_self_setattr_tracking',\n",
       " '_self_tracked_trackables',\n",
       " '_self_unconditional_checkpoint_dependencies',\n",
       " '_self_unconditional_deferred_dependencies',\n",
       " '_self_unconditional_dependency_names',\n",
       " '_self_update_uid',\n",
       " '_set_call_arg_value',\n",
       " '_set_connectivity_metadata',\n",
       " '_set_dtype_policy',\n",
       " '_set_inputs',\n",
       " '_set_mask_keras_history_checked',\n",
       " '_set_mask_metadata',\n",
       " '_set_output_names',\n",
       " '_set_save_spec',\n",
       " '_set_trainable_state',\n",
       " '_set_training_mode',\n",
       " '_setattr_tracking',\n",
       " '_should_cast_single_input',\n",
       " '_should_compute_mask',\n",
       " '_should_eval',\n",
       " '_single_restoration_from_checkpoint_position',\n",
       " '_split_out_first_arg',\n",
       " '_stateful',\n",
       " '_steps_per_execution',\n",
       " '_supports_masking',\n",
       " '_symbolic_call',\n",
       " '_tensor_usage_count',\n",
       " '_test_counter',\n",
       " '_tf_api_names',\n",
       " '_tf_api_names_v1',\n",
       " '_thread_local',\n",
       " '_track_trackable',\n",
       " '_trackable_saved_model_saver',\n",
       " '_trackable_saver',\n",
       " '_tracking_metadata',\n",
       " '_train_counter',\n",
       " '_trainable',\n",
       " '_trainable_weights',\n",
       " '_training_state',\n",
       " '_unconditional_checkpoint_dependencies',\n",
       " '_unconditional_dependency_names',\n",
       " '_undeduplicated_weights',\n",
       " '_update_uid',\n",
       " '_updated_config',\n",
       " '_updates',\n",
       " '_use_input_spec_as_call_signature',\n",
       " '_validate_compile',\n",
       " '_validate_graph_inputs_and_outputs',\n",
       " 'activity_regularizer',\n",
       " 'add_loss',\n",
       " 'add_metric',\n",
       " 'add_update',\n",
       " 'add_variable',\n",
       " 'add_weight',\n",
       " 'apply',\n",
       " 'build',\n",
       " 'built',\n",
       " 'call',\n",
       " 'compile',\n",
       " 'compiled_loss',\n",
       " 'compiled_metrics',\n",
       " 'compute_dtype',\n",
       " 'compute_mask',\n",
       " 'compute_output_shape',\n",
       " 'compute_output_signature',\n",
       " 'count_params',\n",
       " 'distribute_strategy',\n",
       " 'dtype',\n",
       " 'dtype_policy',\n",
       " 'dynamic',\n",
       " 'evaluate',\n",
       " 'evaluate_generator',\n",
       " 'finalize_state',\n",
       " 'fit',\n",
       " 'fit_generator',\n",
       " 'from_config',\n",
       " 'get_config',\n",
       " 'get_input_at',\n",
       " 'get_input_mask_at',\n",
       " 'get_input_shape_at',\n",
       " 'get_layer',\n",
       " 'get_losses_for',\n",
       " 'get_output_at',\n",
       " 'get_output_mask_at',\n",
       " 'get_output_shape_at',\n",
       " 'get_updates_for',\n",
       " 'get_weights',\n",
       " 'history',\n",
       " 'inbound_nodes',\n",
       " 'input',\n",
       " 'input_mask',\n",
       " 'input_names',\n",
       " 'input_shape',\n",
       " 'input_spec',\n",
       " 'inputs',\n",
       " 'layers',\n",
       " 'load_weights',\n",
       " 'loss',\n",
       " 'losses',\n",
       " 'make_predict_function',\n",
       " 'make_test_function',\n",
       " 'make_train_function',\n",
       " 'metrics',\n",
       " 'metrics_names',\n",
       " 'name',\n",
       " 'name_scope',\n",
       " 'non_trainable_variables',\n",
       " 'non_trainable_weights',\n",
       " 'optimizer',\n",
       " 'outbound_nodes',\n",
       " 'output',\n",
       " 'output_mask',\n",
       " 'output_names',\n",
       " 'output_shape',\n",
       " 'outputs',\n",
       " 'predict',\n",
       " 'predict_function',\n",
       " 'predict_generator',\n",
       " 'predict_on_batch',\n",
       " 'predict_step',\n",
       " 'reset_metrics',\n",
       " 'reset_states',\n",
       " 'run_eagerly',\n",
       " 'save',\n",
       " 'save_spec',\n",
       " 'save_weights',\n",
       " 'set_weights',\n",
       " 'state_updates',\n",
       " 'stateful',\n",
       " 'stop_training',\n",
       " 'submodules',\n",
       " 'summary',\n",
       " 'supports_masking',\n",
       " 'test_function',\n",
       " 'test_on_batch',\n",
       " 'test_step',\n",
       " 'to_json',\n",
       " 'to_yaml',\n",
       " 'train_function',\n",
       " 'train_on_batch',\n",
       " 'train_step',\n",
       " 'train_tf_function',\n",
       " 'trainable',\n",
       " 'trainable_variables',\n",
       " 'trainable_weights',\n",
       " 'updates',\n",
       " 'variable_dtype',\n",
       " 'variables',\n",
       " 'weights',\n",
       " 'with_name_scope']"
      ]
     },
     "execution_count": 30,
     "metadata": {},
     "output_type": "execute_result"
    }
   ],
   "source": [
    "dir(model)"
   ]
  },
  {
   "cell_type": "code",
   "execution_count": 31,
   "id": "03ffbe84",
   "metadata": {},
   "outputs": [
    {
     "data": {
      "text/plain": [
       "[<KerasTensor: shape=(None, None) dtype=float32 (created by layer 'inputs')>,\n",
       " <KerasTensor: shape=(None, None) dtype=float32 (created by layer 'dec_inputs')>]"
      ]
     },
     "execution_count": 31,
     "metadata": {},
     "output_type": "execute_result"
    }
   ],
   "source": [
    "model.inputs"
   ]
  },
  {
   "cell_type": "code",
   "execution_count": 32,
   "id": "9bfe3cae",
   "metadata": {},
   "outputs": [
    {
     "data": {
      "text/plain": [
       "[<keras.engine.input_layer.InputLayer at 0x7e349f3706d0>,\n",
       " <keras.engine.input_layer.InputLayer at 0x7e349f828bb0>,\n",
       " <keras.layers.core.Lambda at 0x7e349f8284f0>,\n",
       " <keras.engine.functional.Functional at 0x7e342c20aca0>,\n",
       " <keras.layers.core.Lambda at 0x7e34a7b2ec70>,\n",
       " <keras.layers.core.Lambda at 0x7e34a7b2e3d0>,\n",
       " <keras.engine.functional.Functional at 0x7e342c10d2b0>,\n",
       " <keras.layers.core.Dense at 0x7e342c1b1e20>]"
      ]
     },
     "execution_count": 32,
     "metadata": {},
     "output_type": "execute_result"
    }
   ],
   "source": [
    "model.layers"
   ]
  },
  {
   "cell_type": "code",
   "execution_count": 33,
   "id": "c1ba76f7",
   "metadata": {},
   "outputs": [
    {
     "data": {
      "text/plain": [
       "<tf.Tensor: shape=(1, 6, 256), dtype=float32, numpy=\n",
       "array([[[-0.36796513,  0.23676953, -0.5288512 , ...,  0.89136475,\n",
       "         -1.0551708 , -2.5948951 ],\n",
       "        [-0.13195316, -0.39852348, -0.01726225, ...,  0.41848376,\n",
       "         -1.9447049 , -0.9214369 ],\n",
       "        [-0.2910844 , -0.07971798,  0.2893729 , ...,  0.995684  ,\n",
       "         -1.3368616 , -2.607405  ],\n",
       "        [-0.9663535 , -2.004987  , -0.82454914, ...,  1.2948133 ,\n",
       "         -1.3946931 , -0.56325567],\n",
       "        [-0.7994893 , -1.5427418 , -1.6632216 , ...,  0.40023646,\n",
       "         -2.1893554 , -1.3792908 ],\n",
       "        [-0.5265931 ,  0.28142145, -0.7585053 , ...,  0.95259833,\n",
       "         -1.1687548 , -2.698477  ]]], dtype=float32)>"
      ]
     },
     "execution_count": 33,
     "metadata": {},
     "output_type": "execute_result"
    }
   ],
   "source": [
    "sentence = '안녕 하세요?'\n",
    "sentence = preprocess_sentence(sentence)\n",
    "sentence = tf.expand_dims(\n",
    "        START_TOKEN + tokenizer.encode(sentence) + END_TOKEN, axis=0)\n",
    "# padding 을 안해도 되나?\n",
    "# sentence = tf.keras.preprocessing.sequence.pad_sequences(\n",
    "#         sentence, maxlen=MAX_LENGTH, padding='post')\n",
    "\n",
    "model.layers[3]([sentence, model.layers[2](sentence)])"
   ]
  },
  {
   "cell_type": "code",
   "execution_count": 34,
   "id": "3d74d868",
   "metadata": {},
   "outputs": [
    {
     "data": {
      "text/plain": [
       "<tf.Tensor: shape=(1, 6), dtype=int32, numpy=array([[8160,  911, 7936,   89,    2, 8161]], dtype=int32)>"
      ]
     },
     "execution_count": 34,
     "metadata": {},
     "output_type": "execute_result"
    }
   ],
   "source": [
    "sentence"
   ]
  },
  {
   "cell_type": "code",
   "execution_count": 35,
   "id": "71246b43",
   "metadata": {},
   "outputs": [],
   "source": [
    "sentence_emb = model.layers[3].layers[1](sentence)"
   ]
  },
  {
   "cell_type": "code",
   "execution_count": 36,
   "id": "25dd243f",
   "metadata": {},
   "outputs": [
    {
     "data": {
      "text/plain": [
       "[911, 7936, 89, 2]"
      ]
     },
     "execution_count": 36,
     "metadata": {},
     "output_type": "execute_result"
    }
   ],
   "source": [
    "\n",
    "tokenizer.encode(preprocess_sentence('안녕 하세요?'))"
   ]
  },
  {
   "cell_type": "code",
   "execution_count": 37,
   "id": "16a018d0",
   "metadata": {},
   "outputs": [],
   "source": [
    "all_vocabs = tf.expand_dims(\n",
    "        START_TOKEN + list(range(tokenizer.vocab_size)) + END_TOKEN, axis=0)"
   ]
  },
  {
   "cell_type": "code",
   "execution_count": 38,
   "id": "37330aa6",
   "metadata": {},
   "outputs": [],
   "source": [
    "all_vocabs_emb = model.layers[3].layers[1](all_vocabs)"
   ]
  },
  {
   "cell_type": "code",
   "execution_count": 39,
   "id": "118187ea",
   "metadata": {},
   "outputs": [
    {
     "data": {
      "text/plain": [
       "TensorShape([1, 8162, 256])"
      ]
     },
     "execution_count": 39,
     "metadata": {},
     "output_type": "execute_result"
    }
   ],
   "source": [
    "all_vocabs_emb.shape"
   ]
  },
  {
   "cell_type": "code",
   "execution_count": 46,
   "id": "87b4cbdb",
   "metadata": {},
   "outputs": [
    {
     "data": {
      "text/plain": [
       "<AxesSubplot:ylabel='Count'>"
      ]
     },
     "execution_count": 46,
     "metadata": {},
     "output_type": "execute_result"
    },
    {
     "data": {
      "image/png": "[encoded data removed]",
      "text/plain": [
       "<Figure size 432x288 with 1 Axes>"
      ]
     },
     "metadata": {
      "needs_background": "light"
     },
     "output_type": "display_data"
    }
   ],
   "source": [
    "import numpy as np\n",
    "# dot_prod = np.matmul(sentence_emb.numpy().squeeze(0), all_vocabs_emb.numpy().squeeze(0).T)\n",
    "dot_prod = np.matmul(all_vocabs_emb.numpy().squeeze(0), all_vocabs_emb.numpy().squeeze(0).T) \n",
    "\n",
    "l2_norm_mat = np.matmul(\n",
    "    np.expand_dims(np.linalg.norm(dot_prod, 2, 1), -1), \n",
    "    np.expand_dims(np.linalg.norm(dot_prod, 2, 1), -1).T )\n",
    "dot_prod /= l2_norm_mat\n",
    "\n",
    "\n",
    "\n",
    "# for i in range(dot_prod.shape[0]):\n",
    "#     print(np.argmax(dot_prod[i]))\n",
    "    \n",
    "dot_prod #- tf.eye(dot_prod.shape[0])\n",
    "# tf.nn.softmax(dot_prod - tf.eye(dot_prod.shape[0]), axis = 1) \n",
    "sns.histplot((dot_prod[0]+1)/2)\n",
    "# sns.barplot(dot_prod[0])"
   ]
  },
  {
   "cell_type": "code",
   "execution_count": null,
   "id": "039a4656",
   "metadata": {},
   "outputs": [],
   "source": [
    "cos_sim_loss = tf.keras.losses.CosineSimilarity(axis = 1)\n",
    "cos_sim_loss(sentence_emb[:,0:1,:], all_vocabs_emb)"
   ]
  },
  {
   "cell_type": "code",
   "execution_count": null,
   "id": "ffffb658",
   "metadata": {},
   "outputs": [],
   "source": [
    "dir(tokenizer)"
   ]
  },
  {
   "cell_type": "code",
   "execution_count": null,
   "id": "85ec4f97",
   "metadata": {},
   "outputs": [],
   "source": [
    "dir(model.layers[3].layers)"
   ]
  }
 ],
 "metadata": {
  "kernelspec": {
   "display_name": "Python 3 (ipykernel)",
   "language": "python",
   "name": "python3"
  },
  "language_info": {
   "codemirror_mode": {
    "name": "ipython",
    "version": 3
   },
   "file_extension": ".py",
   "mimetype": "text/x-python",
   "name": "python",
   "nbconvert_exporter": "python",
   "pygments_lexer": "ipython3",
   "version": "3.9.7"
  }
 },
 "nbformat": 4,
 "nbformat_minor": 5
}
