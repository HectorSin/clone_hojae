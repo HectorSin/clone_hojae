{
 "cells": [
  {
   "cell_type": "markdown",
   "id": "6b2cb0c4",
   "metadata": {},
   "source": [
    "### 루브릭\n",
    "\n",
    "|평가문항|\t상세기준|\n",
    "|---|---|\n",
    "|1. 다양한 방법으로 Text Classification 태스크를 성공적으로 구현하였다.\t|3가지 이상의 모델이 성공적으로 시도됨|\n",
    "|2. gensim을 활용하여 자체학습된 혹은 사전학습된 임베딩 레이어를 분석하였다.\t|gensim의 유사단어 찾기를 활용하여 자체학습한 임베딩과 사전학습 임베딩을 비교 분석함|\n",
    "|3. 한국어 Word2Vec을 활용하여 가시적인 성능향상을 달성했다.\t|네이버 영화리뷰 데이터 감성분석 정확도를 85% 이상 달성함|"
   ]
  },
  {
   "cell_type": "code",
   "execution_count": 1,
   "id": "ebf21133",
   "metadata": {
    "scrolled": true
   },
   "outputs": [],
   "source": [
    "!ln -sf ~/data/*.txt ~/aiffel/sentiment_classification/data"
   ]
  },
  {
   "cell_type": "code",
   "execution_count": 2,
   "id": "c48190d2",
   "metadata": {},
   "outputs": [
    {
     "name": "stdout",
     "output_type": "stream",
     "text": [
      "1.3.3\n",
      "0.5.2\n",
      "4.1.2\n"
     ]
    }
   ],
   "source": [
    "import pandas\n",
    "import konlpy\n",
    "import gensim\n",
    "import tensorflow as tf\n",
    "\n",
    "print(pandas.__version__)\n",
    "print(konlpy.__version__)\n",
    "print(gensim.__version__)"
   ]
  },
  {
   "cell_type": "markdown",
   "id": "e9b2fa59",
   "metadata": {},
   "source": [
    "### 1) 데이터 준비와 확인"
   ]
  },
  {
   "cell_type": "code",
   "execution_count": 3,
   "id": "5b087c32",
   "metadata": {},
   "outputs": [
    {
     "data": {
      "text/html": [
       "<div>\n",
       "<style scoped>\n",
       "    .dataframe tbody tr th:only-of-type {\n",
       "        vertical-align: middle;\n",
       "    }\n",
       "\n",
       "    .dataframe tbody tr th {\n",
       "        vertical-align: top;\n",
       "    }\n",
       "\n",
       "    .dataframe thead th {\n",
       "        text-align: right;\n",
       "    }\n",
       "</style>\n",
       "<table border=\"1\" class=\"dataframe\">\n",
       "  <thead>\n",
       "    <tr style=\"text-align: right;\">\n",
       "      <th></th>\n",
       "      <th>id</th>\n",
       "      <th>document</th>\n",
       "      <th>label</th>\n",
       "    </tr>\n",
       "  </thead>\n",
       "  <tbody>\n",
       "    <tr>\n",
       "      <th>0</th>\n",
       "      <td>9976970</td>\n",
       "      <td>아 더빙.. 진짜 짜증나네요 목소리</td>\n",
       "      <td>0</td>\n",
       "    </tr>\n",
       "    <tr>\n",
       "      <th>1</th>\n",
       "      <td>3819312</td>\n",
       "      <td>흠...포스터보고 초딩영화줄....오버연기조차 가볍지 않구나</td>\n",
       "      <td>1</td>\n",
       "    </tr>\n",
       "    <tr>\n",
       "      <th>2</th>\n",
       "      <td>10265843</td>\n",
       "      <td>너무재밓었다그래서보는것을추천한다</td>\n",
       "      <td>0</td>\n",
       "    </tr>\n",
       "    <tr>\n",
       "      <th>3</th>\n",
       "      <td>9045019</td>\n",
       "      <td>교도소 이야기구먼 ..솔직히 재미는 없다..평점 조정</td>\n",
       "      <td>0</td>\n",
       "    </tr>\n",
       "    <tr>\n",
       "      <th>4</th>\n",
       "      <td>6483659</td>\n",
       "      <td>사이몬페그의 익살스런 연기가 돋보였던 영화!스파이더맨에서 늙어보이기만 했던 커스틴 ...</td>\n",
       "      <td>1</td>\n",
       "    </tr>\n",
       "  </tbody>\n",
       "</table>\n",
       "</div>"
      ],
      "text/plain": [
       "         id                                           document  label\n",
       "0   9976970                                아 더빙.. 진짜 짜증나네요 목소리      0\n",
       "1   3819312                  흠...포스터보고 초딩영화줄....오버연기조차 가볍지 않구나      1\n",
       "2  10265843                                  너무재밓었다그래서보는것을추천한다      0\n",
       "3   9045019                      교도소 이야기구먼 ..솔직히 재미는 없다..평점 조정      0\n",
       "4   6483659  사이몬페그의 익살스런 연기가 돋보였던 영화!스파이더맨에서 늙어보이기만 했던 커스틴 ...      1"
      ]
     },
     "execution_count": 3,
     "metadata": {},
     "output_type": "execute_result"
    }
   ],
   "source": [
    "import pandas as pd\n",
    "\n",
    "# 데이터를 읽어봅시다. \n",
    "train_data = pd.read_table('~/aiffel/sentiment_classification/data/ratings_train.txt')\n",
    "test_data = pd.read_table('~/aiffel/sentiment_classification/data/ratings_test.txt')\n",
    "\n",
    "train_data.head()"
   ]
  },
  {
   "cell_type": "markdown",
   "id": "c5d5e5e9",
   "metadata": {},
   "source": [
    "### 2) 데이터로더 구성\n",
    "- 데이터의 중복 제거\n",
    "- NaN 결측치 제거\n",
    "- 한국어 토크나이저로 토큰화\n",
    "- 불용어(Stopwords) 제거\n",
    "- 사전word_to_index 구성\n",
    "- 텍스트 스트링을 사전 인덱스 스트링으로 변환\n",
    "- X_train, y_train, X_test, y_test, word_to_index 리턴"
   ]
  },
  {
   "cell_type": "code",
   "execution_count": 4,
   "id": "4b22c91a",
   "metadata": {},
   "outputs": [],
   "source": [
    "from konlpy.tag import Mecab\n",
    "import numpy as np\n",
    "from collections import Counter\n",
    "\n",
    "tokenizer = Mecab() # 한국어 토크나이저 사용\n",
    "stopwords = ['의','가','이','은','들','는','좀','잘','걍',\n",
    "             '과','도','를','으로','자','에','와','한','하다']\n",
    "\n",
    "def load_data(train_data, test_data, num_words=10000):\n",
    "#     데이터의 중복 제거\n",
    "    train_data.drop_duplicates(subset=['document'], inplace=True)\n",
    "    test_data.drop_duplicates(subset=['document'], inplace=True)\n",
    "\n",
    "#     NaN 결측치 제거\n",
    "    train_data = train_data.dropna(how = 'any') \n",
    "    test_data = test_data.dropna(how = 'any') \n",
    "    \n",
    "    def tokenize_wo_stopwords(sentences):\n",
    "        result_li = []\n",
    "        for sentence in sentences:\n",
    "            temp_X = tokenizer.morphs(sentence) # 토큰화\n",
    "            temp_X = [word for word in temp_X if not word in stopwords] # 불용어 제거\n",
    "            result_li.append(temp_X)\n",
    "        \n",
    "        return result_li # result sentences\n",
    "            \n",
    "    X_train = tokenize_wo_stopwords(train_data['document'])\n",
    "    X_test = tokenize_wo_stopwords(test_data['document'])\n",
    "        \n",
    "    words = np.concatenate(X_train).tolist()\n",
    "    counter = Counter(words)\n",
    "    counter = counter.most_common(10000-3) # 4 -> 3 으로 변경\n",
    "    print(f'most frequent 6 words:')\n",
    "    for index, word in enumerate(counter):\n",
    "        if index == 10: break\n",
    "        print(f\"word #{index}/{len(counter)} is {word}\")\n",
    "\n",
    "#     사전word_to_index 구성\n",
    "    # '<PAD>'  # 패딩용 단어\n",
    "    # '<BOS>'  # 문장의 시작지점\n",
    "    # '<UNK>' # 사전에 없는(Unknown) 단어\n",
    "    vocab = ['<PAD>', '<BOS>', '<UNK>'] + [key for key, _ in counter]\n",
    "    word_to_index = {word:index for index, word in enumerate(vocab)}\n",
    "        \n",
    "#     텍스트 스트링을 사전 인덱스 스트링으로 변환\n",
    "    def wordlist_to_indexlist(wordlist):\n",
    "        return [word_to_index[word] if word in word_to_index else word_to_index['<UNK>'] for word in wordlist]\n",
    "        \n",
    "    X_train = list(map(wordlist_to_indexlist, X_train))\n",
    "    X_test = list(map(wordlist_to_indexlist, X_test))\n",
    "    \n",
    "    # X_train, y_train, X_test, y_test, word_to_index 리턴\n",
    "    return (X_train, \n",
    "            np.array(list(train_data['label'])), \n",
    "            X_test, \n",
    "            np.array(list(test_data['label'])), \n",
    "            word_to_index)\n",
    "    \n",
    "    "
   ]
  },
  {
   "cell_type": "code",
   "execution_count": 5,
   "id": "6a220072",
   "metadata": {},
   "outputs": [
    {
     "name": "stdout",
     "output_type": "stream",
     "text": [
      "most frequent 6 words:\n",
      "word #0/9997 is ('.', 159415)\n",
      "word #1/9997 is ('영화', 57338)\n",
      "word #2/9997 is ('다', 54971)\n",
      "word #3/9997 is ('고', 47196)\n",
      "word #4/9997 is ('하', 44376)\n",
      "word #5/9997 is ('을', 29832)\n",
      "word #6/9997 is ('보', 25603)\n",
      "word #7/9997 is ('..', 22655)\n",
      "word #8/9997 is ('게', 22161)\n",
      "word #9/9997 is (',', 22047)\n"
     ]
    }
   ],
   "source": [
    "X_train, y_train, X_test, y_test, word_to_index = load_data(train_data, test_data)"
   ]
  },
  {
   "cell_type": "code",
   "execution_count": 6,
   "id": "50211c91",
   "metadata": {},
   "outputs": [],
   "source": [
    "index_to_word = {index:word for word, index in word_to_index.items()}"
   ]
  },
  {
   "cell_type": "code",
   "execution_count": 7,
   "id": "d21d54b9",
   "metadata": {},
   "outputs": [],
   "source": [
    "# 문장 1개를 활용할 딕셔너리와 함께 주면, 단어 인덱스 리스트 벡터로 변환해 주는 함수입니다. \n",
    "# 단, 모든 문장은 <BOS>로 시작하는 것으로 합니다. \n",
    "def get_encoded_sentence(sentence, word_to_index):\n",
    "    return [word_to_index['<BOS>']]+[word_to_index[word] if word in word_to_index else word_to_index['<UNK>'] for word in sentence.split()]\n",
    "\n",
    "# 여러 개의 문장 리스트를 한꺼번에 단어 인덱스 리스트 벡터로 encode해 주는 함수입니다. \n",
    "def get_encoded_sentences(sentences, word_to_index):\n",
    "    return [get_encoded_sentence(sentence, word_to_index) for sentence in sentences]\n",
    "\n",
    "# 숫자 벡터로 encode된 문장을 원래대로 decode하는 함수입니다. \n",
    "def get_decoded_sentence(encoded_sentence, index_to_word):\n",
    "    return ' '.join(index_to_word[index] if index in index_to_word else '<UNK>' for index in encoded_sentence[1:])  #[1:]를 통해 <BOS>를 제외\n",
    "\n",
    "# 여러 개의 숫자 벡터로 encode된 문장을 한꺼번에 원래대로 decode하는 함수입니다. \n",
    "def get_decoded_sentences(encoded_sentences, index_to_word):\n",
    "    return [get_decoded_sentence(encoded_sentence, index_to_word) for encoded_sentence in encoded_sentences]"
   ]
  },
  {
   "cell_type": "code",
   "execution_count": 8,
   "id": "2650d5cc",
   "metadata": {},
   "outputs": [
    {
     "name": "stdout",
     "output_type": "stream",
     "text": [
      "하 고 깔끔 해서 좋 다 . 신문 기사 로 만 보다 보 면 자꾸 <UNK> . 그 사람 었 다는 것 을 .\n",
      "라벨:  1\n"
     ]
    }
   ],
   "source": [
    "i = 13\n",
    "print(get_decoded_sentence(X_train[i], index_to_word))\n",
    "print('라벨: ', y_train[i])  # 1번째 리뷰데이터의 라벨"
   ]
  },
  {
   "cell_type": "markdown",
   "id": "4df4b88b",
   "metadata": {},
   "source": [
    "### 3) 모델 구성을 위한 데이터 분석 및 가공\n",
    "- 데이터셋 내 문장 길이 분포\n",
    "- 적절한 최대 문장 길이 지정\n",
    "- keras.preprocessing.sequence.pad_sequences 을 활용한 패딩 추가"
   ]
  },
  {
   "cell_type": "code",
   "execution_count": 9,
   "id": "7a2a5278",
   "metadata": {},
   "outputs": [
    {
     "name": "stdout",
     "output_type": "stream",
     "text": [
      "문장길이 평균 :  15.96940191154864\n",
      "문장길이 최대 :  116\n",
      "문장길이 표준편차 :  12.843571191092\n"
     ]
    }
   ],
   "source": [
    "# 데이터셋 내 문장 길이 분포 확인\n",
    "total_data_text = list(X_train) + list(X_test)\n",
    "# 텍스트데이터 문장길이의 리스트를 생성한 후\n",
    "num_tokens = [len(tokens) for tokens in total_data_text]\n",
    "num_tokens = np.array(num_tokens)\n",
    "# 문장길이의 평균값, 최대값, 표준편차를 계산해 본다. \n",
    "print('문장길이 평균 : ', np.mean(num_tokens))\n",
    "print('문장길이 최대 : ', np.max(num_tokens))\n",
    "print('문장길이 표준편차 : ', np.std(num_tokens))"
   ]
  },
  {
   "cell_type": "code",
   "execution_count": 10,
   "id": "4520fbaf",
   "metadata": {},
   "outputs": [
    {
     "name": "stdout",
     "output_type": "stream",
     "text": [
      "pad_sequences maxlen :  54\n",
      "전체 문장의 0.9720946661956905%가 maxlen 설정값 이내에 포함됩니다. \n"
     ]
    },
    {
     "data": {
      "image/png": "[encoded data removed]",
      "text/plain": [
       "<Figure size 432x288 with 1 Axes>"
      ]
     },
     "metadata": {
      "needs_background": "light"
     },
     "output_type": "display_data"
    }
   ],
   "source": [
    "# 적절한 최대 문장 길이 지정\n",
    "# 최대 길이를 (평균 + 3*표준편차)로 한다면,  기존: 2 -> 3*표준편차\n",
    "max_tokens = np.mean(num_tokens) + 3 * np.std(num_tokens)\n",
    "maxlen = int(max_tokens)\n",
    "print('pad_sequences maxlen : ', maxlen)\n",
    "print(f'전체 문장의 {np.sum(num_tokens < max_tokens) / len(num_tokens)}%가 maxlen 설정값 이내에 포함됩니다. ')\n",
    "\n",
    "import seaborn as sns\n",
    "import matplotlib.pyplot as plt\n",
    "sns.histplot(num_tokens)\n",
    "plt.vlines(maxlen, 0, 13000, 'r' )\n",
    "plt.ylim(0, 13000)\n",
    "plt.show()"
   ]
  },
  {
   "cell_type": "code",
   "execution_count": 11,
   "id": "a423930b",
   "metadata": {},
   "outputs": [],
   "source": [
    "# keras.preprocessing.sequence.pad_sequences 을 활용한 패딩 추가\n",
    "\n",
    "X_train = tf.keras.preprocessing.sequence.pad_sequences(X_train,\n",
    "                                                        value=word_to_index[\"<PAD>\"],\n",
    "                                                        padding='pre', # 기존 코드에서 'pre' 로 변경함\n",
    "                                                        maxlen=maxlen)\n",
    "\n",
    "X_test = tf.keras.preprocessing.sequence.pad_sequences(X_test,\n",
    "                                                       value=word_to_index[\"<PAD>\"],\n",
    "                                                       padding='pre', # 기존 코드에서 'pre' 로 변경함\n",
    "                                                       maxlen=maxlen)"
   ]
  },
  {
   "cell_type": "markdown",
   "id": "98f10b51",
   "metadata": {},
   "source": [
    "### 4) 모델 구성 및 validation set 구성\n",
    "\n",
    "모델은 3가지 이상 다양하게 구성하여 실험해 보세요."
   ]
  },
  {
   "cell_type": "markdown",
   "id": "a7f7b739",
   "metadata": {},
   "source": [
    "- 선정 모델 과 선정 이유:\n",
    "    - model1: conv1D. \n",
    "        - 문장을 token화 하면 1차원의 이미지(?)로 볼 수 있다. conv1d 를 사용한 모델은 지역적인 token 간의 관계성을 학습하도록 inductive bias 가 주어진 모델이다. 지역적인 token 사이에 유의미한 관계가 있기 때문에 Conv1D를 문장 데이터에 사용하는 방법도 가능하다. 단, RNN 계열의 모델보다 성능은 떨어질 것이라 예상하고 비교를 위한 모델로서 선정했다.\n",
    "    - model2: biLSTM. \n",
    "        - 입력 문장을 정방향과 역순으로 처리하도록 2개의 LSTM을 사용하여 학습하는 모델이다. 현재 Input의 정보를 기반으로 과거 기억의 정보를 동시에 이용하여 state를 업데이트 한다. 문장내의 단어에 대해서 처리가 순차적으로 이루어지기 때문에 순서에 대한 정보가 학습되게 된다. 어순에 따라 다른 의미를 가지는 경우가 종종 있고, 서로 멀리 떨어진 단어들 사이에 연관성을 가지고 있는 경우가 있기 때문에 biLSTM 모델을 이용하는것이 적합하다.\n",
    "    - model3: Transformer. \n",
    "        - 입력 문장의 각 token 에 대해서 집중도를 학습하는 방법이다. 순서에 대한 정보는 positional encoding 을 사용하여 모델에 내제화 한다.\n",
    "        \n",
    "- 모든 모델들이 학습 가능한 parameter 수가 (~1M)정도로 비슷하도록 모델을 구성했다."
   ]
  },
  {
   "cell_type": "markdown",
   "id": "006bba46",
   "metadata": {},
   "source": [
    "#### Model1: conv1D"
   ]
  },
  {
   "cell_type": "code",
   "execution_count": 12,
   "id": "152c6c8b",
   "metadata": {},
   "outputs": [],
   "source": [
    "# model1 conv1D\n",
    "def build_conv1d(\n",
    "    vocab_size = 10000,    # 어휘 사전의 크기입니다(10,000개의 단어)\n",
    "    word_vector_dim = 100,  # 워드 벡터의 차원 수 \n",
    "    embeddings_initializer=\"uniform\",\n",
    "    ):\n",
    "\n",
    "    # 모델 구성\n",
    "    model = tf.keras.Sequential()\n",
    "    model.add(tf.keras.layers.Embedding(vocab_size, \n",
    "                                        word_vector_dim, \n",
    "                                        embeddings_initializer=embeddings_initializer,\n",
    "                                        input_length=maxlen, \n",
    "                                        trainable=True,\n",
    "                                        input_shape=(None,)))\n",
    "    model.add(tf.keras.layers.Conv1D(16, 7, activation='relu'))\n",
    "    model.add(tf.keras.layers.MaxPooling1D(5))\n",
    "    model.add(tf.keras.layers.Conv1D(16, 7, activation='relu'))\n",
    "    model.add(tf.keras.layers.GlobalMaxPooling1D())\n",
    "    model.add(tf.keras.layers.Dense(8, activation='relu'))\n",
    "    model.add(tf.keras.layers.Dense(1, activation='sigmoid'))  # 최종 출력은 긍정/부정을 나타내는 1dim 입니다.\n",
    "\n",
    "    return model"
   ]
  },
  {
   "cell_type": "code",
   "execution_count": 13,
   "id": "d801a8dd",
   "metadata": {},
   "outputs": [
    {
     "name": "stdout",
     "output_type": "stream",
     "text": [
      "Model: \"sequential\"\n",
      "_________________________________________________________________\n",
      "Layer (type)                 Output Shape              Param #   \n",
      "=================================================================\n",
      "embedding (Embedding)        (None, None, 100)         1000000   \n",
      "_________________________________________________________________\n",
      "conv1d (Conv1D)              (None, None, 16)          11216     \n",
      "_________________________________________________________________\n",
      "max_pooling1d (MaxPooling1D) (None, None, 16)          0         \n",
      "_________________________________________________________________\n",
      "conv1d_1 (Conv1D)            (None, None, 16)          1808      \n",
      "_________________________________________________________________\n",
      "global_max_pooling1d (Global (None, 16)                0         \n",
      "_________________________________________________________________\n",
      "dense (Dense)                (None, 8)                 136       \n",
      "_________________________________________________________________\n",
      "dense_1 (Dense)              (None, 1)                 9         \n",
      "=================================================================\n",
      "Total params: 1,013,169\n",
      "Trainable params: 1,013,169\n",
      "Non-trainable params: 0\n",
      "_________________________________________________________________\n"
     ]
    }
   ],
   "source": [
    "model1 = build_conv1d()\n",
    "model1.summary()"
   ]
  },
  {
   "cell_type": "markdown",
   "id": "b8cfb0e7",
   "metadata": {},
   "source": [
    "#### Model2: word2vec + biLSTM"
   ]
  },
  {
   "cell_type": "code",
   "execution_count": 14,
   "id": "fa4111d8",
   "metadata": {},
   "outputs": [],
   "source": [
    "# model2 word2vec + biLSTM\n",
    "def build_biLSTM(\n",
    "    vocab_size = 10000,    # 어휘 사전의 크기입니다(10,000개의 단어)\n",
    "    word_vector_dim = 100,  # 워드 벡터의 차원 수 \n",
    "    embeddings_initializer=\"uniform\",\n",
    "    ):\n",
    "    model = tf.keras.Sequential()\n",
    "    model.add(\n",
    "        tf.keras.layers.Embedding(\n",
    "            vocab_size, \n",
    "            word_vector_dim, \n",
    "            embeddings_initializer=embeddings_initializer,  # 카피한 임베딩을 여기서 활용\n",
    "            input_length=maxlen, \n",
    "            trainable=True,\n",
    "            input_shape=(None,)\n",
    "        ))\n",
    "    model.add(tf.keras.layers.Bidirectional(\n",
    "        tf.keras.layers.LSTM(75, return_sequences=True),\n",
    "        merge_mode=\"concat\",\n",
    "    ))\n",
    "    model.add(tf.keras.layers.Bidirectional(\n",
    "        tf.keras.layers.LSTM(75, return_sequences=False),\n",
    "        merge_mode=\"concat\",\n",
    "    ))\n",
    "    model.add(tf.keras.layers.Dense(50, activation='relu'))\n",
    "    model.add(tf.keras.layers.Dense(1, activation='sigmoid'))  # 최종 출력은 긍정/부정을 나타내는 1dim 입니다.\n",
    "    \n",
    "    return model"
   ]
  },
  {
   "cell_type": "code",
   "execution_count": 15,
   "id": "333f1286",
   "metadata": {},
   "outputs": [
    {
     "name": "stdout",
     "output_type": "stream",
     "text": [
      "Model: \"sequential_1\"\n",
      "_________________________________________________________________\n",
      "Layer (type)                 Output Shape              Param #   \n",
      "=================================================================\n",
      "embedding_1 (Embedding)      (None, None, 100)         1000000   \n",
      "_________________________________________________________________\n",
      "bidirectional (Bidirectional (None, None, 150)         105600    \n",
      "_________________________________________________________________\n",
      "bidirectional_1 (Bidirection (None, 150)               135600    \n",
      "_________________________________________________________________\n",
      "dense_2 (Dense)              (None, 50)                7550      \n",
      "_________________________________________________________________\n",
      "dense_3 (Dense)              (None, 1)                 51        \n",
      "=================================================================\n",
      "Total params: 1,248,801\n",
      "Trainable params: 1,248,801\n",
      "Non-trainable params: 0\n",
      "_________________________________________________________________\n"
     ]
    }
   ],
   "source": [
    "model2 = build_biLSTM()\n",
    "model2.summary()"
   ]
  },
  {
   "cell_type": "code",
   "execution_count": 16,
   "id": "84fbbba0",
   "metadata": {},
   "outputs": [],
   "source": [
    "# model3 word2vec + Transformer\n",
    "from tensorflow.keras import layers\n",
    "\n",
    "class TransformerEncoder(layers.Layer):\n",
    "    def __init__(self, embed_dim, dense_dim, num_heads, **kwargs):\n",
    "        super().__init__(**kwargs)\n",
    "        self.embed_dim = embed_dim\n",
    "        self.dense_dim = dense_dim\n",
    "        self.num_heads = num_heads\n",
    "        self.attention = layers.MultiHeadAttention(\n",
    "            num_heads=num_heads, key_dim=embed_dim)\n",
    "        self.dense_proj = tf.keras.Sequential(\n",
    "            [layers.Dense(dense_dim, activation=\"relu\"),\n",
    "             layers.Dense(embed_dim),]\n",
    "        )\n",
    "        self.layernorm_1 = layers.LayerNormalization()\n",
    "        self.layernorm_2 = layers.LayerNormalization()\n",
    "\n",
    "    def call(self, inputs, mask=None):\n",
    "        if mask is not None:\n",
    "            mask = mask[:, tf.newaxis, :]\n",
    "        attention_output = self.attention(\n",
    "            inputs, inputs, attention_mask=mask)\n",
    "        proj_input = self.layernorm_1(inputs + attention_output)\n",
    "        proj_output = self.dense_proj(proj_input)\n",
    "        return self.layernorm_2(proj_input + proj_output)\n",
    "\n",
    "    def get_config(self):\n",
    "        config = super().get_config()\n",
    "        config.update({\n",
    "            \"embed_dim\": self.embed_dim,\n",
    "            \"num_heads\": self.num_heads,\n",
    "            \"dense_dim\": self.dense_dim,\n",
    "        })\n",
    "        return config\n",
    "    \n",
    "def build_transformer(\n",
    "    vocab_size = 10000,    # 어휘 사전의 크기입니다(10,000개의 단어)\n",
    "    word_vector_dim = 100,  # 워드 벡터의 차원 수 \n",
    "    embeddings_initializer=\"uniform\",\n",
    "    ):\n",
    "    model = tf.keras.Sequential()\n",
    "    model.add(\n",
    "        tf.keras.layers.Embedding(\n",
    "            vocab_size, \n",
    "            word_vector_dim, \n",
    "            embeddings_initializer=embeddings_initializer,  # 카피한 임베딩을 여기서 활용\n",
    "            input_length=maxlen, \n",
    "            trainable=True,\n",
    "            input_shape=(None,)\n",
    "        ))\n",
    "    model.add(TransformerEncoder(embed_dim=100, dense_dim=100, num_heads=10))\n",
    "#     model.add(TransformerEncoder(embed_dim=300, dense_dim=300, num_heads=3)) \n",
    "    # 2층을 사용하면 epoch 17 이상에서 train, val loss 가 감소한다. -> 모델 복잡도를 줄여서 재시도\n",
    "    model.add(tf.keras.layers.GlobalMaxPooling1D())\n",
    "    model.add(tf.keras.layers.Dense(75, activation='relu'))\n",
    "    model.add(tf.keras.layers.Dense(1, activation='sigmoid'))  # 최종 출력은 긍정/부정을 나타내는 1dim 입니다.\n",
    "    \n",
    "    return model"
   ]
  },
  {
   "cell_type": "code",
   "execution_count": 17,
   "id": "73b2820a",
   "metadata": {},
   "outputs": [
    {
     "name": "stdout",
     "output_type": "stream",
     "text": [
      "Model: \"sequential_2\"\n",
      "_________________________________________________________________\n",
      "Layer (type)                 Output Shape              Param #   \n",
      "=================================================================\n",
      "embedding_2 (Embedding)      (None, None, 100)         1000000   \n",
      "_________________________________________________________________\n",
      "transformer_encoder (Transfo (None, None, 100)         423700    \n",
      "_________________________________________________________________\n",
      "global_max_pooling1d_1 (Glob (None, 100)               0         \n",
      "_________________________________________________________________\n",
      "dense_6 (Dense)              (None, 75)                7575      \n",
      "_________________________________________________________________\n",
      "dense_7 (Dense)              (None, 1)                 76        \n",
      "=================================================================\n",
      "Total params: 1,431,351\n",
      "Trainable params: 1,431,351\n",
      "Non-trainable params: 0\n",
      "_________________________________________________________________\n"
     ]
    }
   ],
   "source": [
    "model3 = build_transformer()\n",
    "model3.summary()"
   ]
  },
  {
   "cell_type": "markdown",
   "id": "8b56e61c",
   "metadata": {},
   "source": [
    "### 5) 모델 훈련 개시"
   ]
  },
  {
   "cell_type": "code",
   "execution_count": 18,
   "id": "2fdb619f",
   "metadata": {},
   "outputs": [],
   "source": [
    "import json\n",
    "def save_model_history(model, history, log_path = '.', run_name = ''):\n",
    "    model.save(filepath=log_path+'/'+f'{run_name}.ckpt')\n",
    "    with open(log_path+'/history.json', 'w') as file:\n",
    "        json.dump(history.history, file)"
   ]
  },
  {
   "cell_type": "code",
   "execution_count": 19,
   "id": "1bf091be",
   "metadata": {},
   "outputs": [],
   "source": [
    "# validation set 10000건 분리\n",
    "X_val = X_train[:10000]   \n",
    "y_val = y_train[:10000]\n",
    "\n",
    "# validation set을 제외한 나머지 15000건\n",
    "partial_X_train = X_train[10000:]  \n",
    "partial_y_train = y_train[10000:]"
   ]
  },
  {
   "cell_type": "markdown",
   "id": "00ff4db4",
   "metadata": {},
   "source": [
    "- Metrics 선정 이유: 모델의 최종 출력 [0,1] 값. 입력 문장에 대한 감정 (2-classes) 분류 작업이었기 때문에 분류에서 많이 사용되는 accuracy 를 골랐다. trainset과 testset 내에서 모두 1:1 정도의 비율로 나뉘어 있어 accuracy 를 이용해도 성능 평가를 적절히 할 수 있다."
   ]
  },
  {
   "cell_type": "code",
   "execution_count": 66,
   "id": "11e9d90a",
   "metadata": {},
   "outputs": [
    {
     "name": "stdout",
     "output_type": "stream",
     "text": [
      "trainset 의 긍정 label 비율: 0.49828639445079115.\n",
      "testset 의 긍정 label 비율: 0.5027055616583262.\n"
     ]
    }
   ],
   "source": [
    "print(f'trainset 의 긍정 label 비율: {train_data.label.mean()}.')\n",
    "print(f'testset 의 긍정 label 비율: {test_data.label.mean()}.')"
   ]
  },
  {
   "cell_type": "markdown",
   "id": "35ef133c",
   "metadata": {},
   "source": [
    "- Loss 선정 이유: 2인 분류에 적합한 `binary_crossentropy`를 사용했다."
   ]
  },
  {
   "cell_type": "markdown",
   "id": "b176a5c0",
   "metadata": {},
   "source": [
    "- (+) 학습에 `ModelCheckpoint` callback을 사용하였다."
   ]
  },
  {
   "cell_type": "code",
   "execution_count": 20,
   "id": "a4b6b233",
   "metadata": {},
   "outputs": [],
   "source": [
    "def train_model(model, log_path='.', epochs=20, verbose=1):\n",
    "    # 학습의 진행\n",
    "    model.compile(optimizer='adam',\n",
    "                  loss='binary_crossentropy',\n",
    "                  metrics=['accuracy'])\n",
    "\n",
    "    # 몇 epoch를 훈련하면 좋을지 결과를 보면서 바꾸어 봅시다. \n",
    "    model_ck_callback = tf.keras.callbacks.ModelCheckpoint(\n",
    "        filepath=log_path+'/best_checkpoint.ckpt',\n",
    "        monitor=\"val_loss\",\n",
    "        save_best_only=True,\n",
    "        save_weights_only=True,\n",
    "        mode=\"auto\",\n",
    "        save_freq=\"epoch\",\n",
    "        initial_value_threshold=None,\n",
    "    )\n",
    "\n",
    "\n",
    "    history = model.fit(partial_X_train,\n",
    "                        partial_y_train,\n",
    "                        epochs=epochs,\n",
    "                        batch_size=512,\n",
    "                        validation_data=(X_val, y_val),\n",
    "                        callbacks = [model_ck_callback],\n",
    "                        verbose=1)\n",
    "\n",
    "    save_model_history(model, history, log_path, 'final_checkpoint')\n",
    "\n",
    "    return history"
   ]
  },
  {
   "cell_type": "code",
   "execution_count": 21,
   "id": "da2cc1f3",
   "metadata": {
    "collapsed": true
   },
   "outputs": [
    {
     "name": "stdout",
     "output_type": "stream",
     "text": [
      "Epoch 1/20\n",
      "266/266 [==============================] - 5s 7ms/step - loss: 0.5127 - accuracy: 0.7308 - val_loss: 0.4224 - val_accuracy: 0.7920\n",
      "Epoch 2/20\n",
      "266/266 [==============================] - 1s 5ms/step - loss: 0.3867 - accuracy: 0.8180 - val_loss: 0.4182 - val_accuracy: 0.7900\n",
      "Epoch 3/20\n",
      "266/266 [==============================] - 1s 5ms/step - loss: 0.3376 - accuracy: 0.8455 - val_loss: 0.4262 - val_accuracy: 0.7919\n",
      "Epoch 4/20\n",
      "266/266 [==============================] - 1s 5ms/step - loss: 0.2797 - accuracy: 0.8749 - val_loss: 0.4590 - val_accuracy: 0.7928\n",
      "Epoch 5/20\n",
      "266/266 [==============================] - 1s 5ms/step - loss: 0.2203 - accuracy: 0.9039 - val_loss: 0.5159 - val_accuracy: 0.7844\n",
      "Epoch 6/20\n",
      "266/266 [==============================] - 1s 5ms/step - loss: 0.1729 - accuracy: 0.9236 - val_loss: 0.5973 - val_accuracy: 0.7855\n",
      "Epoch 7/20\n",
      "266/266 [==============================] - 1s 5ms/step - loss: 0.1407 - accuracy: 0.9366 - val_loss: 0.6830 - val_accuracy: 0.7765\n",
      "Epoch 8/20\n",
      "266/266 [==============================] - 1s 5ms/step - loss: 0.1193 - accuracy: 0.9442 - val_loss: 0.7795 - val_accuracy: 0.7790\n",
      "Epoch 9/20\n",
      "266/266 [==============================] - 1s 5ms/step - loss: 0.1055 - accuracy: 0.9489 - val_loss: 0.8375 - val_accuracy: 0.7702\n",
      "Epoch 10/20\n",
      "266/266 [==============================] - 1s 5ms/step - loss: 0.0955 - accuracy: 0.9528 - val_loss: 0.9120 - val_accuracy: 0.7741\n",
      "Epoch 11/20\n",
      "266/266 [==============================] - 1s 5ms/step - loss: 0.0886 - accuracy: 0.9550 - val_loss: 0.9841 - val_accuracy: 0.7717\n",
      "Epoch 12/20\n",
      "266/266 [==============================] - 1s 5ms/step - loss: 0.0836 - accuracy: 0.9567 - val_loss: 1.0803 - val_accuracy: 0.7724\n",
      "Epoch 13/20\n",
      "266/266 [==============================] - 1s 6ms/step - loss: 0.0804 - accuracy: 0.9582 - val_loss: 1.1400 - val_accuracy: 0.7722\n",
      "Epoch 14/20\n",
      "266/266 [==============================] - 1s 5ms/step - loss: 0.0783 - accuracy: 0.9586 - val_loss: 1.2011 - val_accuracy: 0.7672\n",
      "Epoch 15/20\n",
      "266/266 [==============================] - 1s 6ms/step - loss: 0.0781 - accuracy: 0.9579 - val_loss: 1.2656 - val_accuracy: 0.7698\n",
      "Epoch 16/20\n",
      "266/266 [==============================] - 1s 5ms/step - loss: 0.0775 - accuracy: 0.9582 - val_loss: 1.3324 - val_accuracy: 0.7734\n",
      "Epoch 17/20\n",
      "266/266 [==============================] - 1s 5ms/step - loss: 0.0750 - accuracy: 0.9596 - val_loss: 1.3470 - val_accuracy: 0.7700\n",
      "Epoch 18/20\n",
      "266/266 [==============================] - 1s 5ms/step - loss: 0.0734 - accuracy: 0.9602 - val_loss: 1.3804 - val_accuracy: 0.7648\n",
      "Epoch 19/20\n",
      "266/266 [==============================] - 1s 5ms/step - loss: 0.0712 - accuracy: 0.9610 - val_loss: 1.4635 - val_accuracy: 0.7727\n",
      "Epoch 20/20\n",
      "266/266 [==============================] - 1s 5ms/step - loss: 0.0674 - accuracy: 0.9620 - val_loss: 1.4908 - val_accuracy: 0.7628\n",
      "INFO:tensorflow:Assets written to: logs/model1/final_checkpoint.ckpt/assets\n"
     ]
    }
   ],
   "source": [
    "history1 = train_model(model1, log_path='logs/model1')"
   ]
  },
  {
   "cell_type": "code",
   "execution_count": 22,
   "id": "16862ddc",
   "metadata": {
    "collapsed": true
   },
   "outputs": [
    {
     "name": "stdout",
     "output_type": "stream",
     "text": [
      "Epoch 1/20\n",
      "266/266 [==============================] - 15s 37ms/step - loss: 0.3957 - accuracy: 0.8193 - val_loss: 0.3379 - val_accuracy: 0.8529\n",
      "Epoch 2/20\n",
      "266/266 [==============================] - 9s 33ms/step - loss: 0.3156 - accuracy: 0.8645 - val_loss: 0.3296 - val_accuracy: 0.8568\n",
      "Epoch 3/20\n",
      "266/266 [==============================] - 9s 33ms/step - loss: 0.2818 - accuracy: 0.8803 - val_loss: 0.3249 - val_accuracy: 0.8611\n",
      "Epoch 4/20\n",
      "266/266 [==============================] - 9s 33ms/step - loss: 0.2530 - accuracy: 0.8933 - val_loss: 0.3372 - val_accuracy: 0.8566\n",
      "Epoch 5/20\n",
      "266/266 [==============================] - 9s 34ms/step - loss: 0.2268 - accuracy: 0.9058 - val_loss: 0.3631 - val_accuracy: 0.8602\n",
      "Epoch 6/20\n",
      "266/266 [==============================] - 9s 34ms/step - loss: 0.2032 - accuracy: 0.9173 - val_loss: 0.3738 - val_accuracy: 0.8575\n",
      "Epoch 7/20\n",
      "266/266 [==============================] - 9s 34ms/step - loss: 0.1826 - accuracy: 0.9259 - val_loss: 0.3948 - val_accuracy: 0.8571\n",
      "Epoch 8/20\n",
      "266/266 [==============================] - 9s 34ms/step - loss: 0.1647 - accuracy: 0.9342 - val_loss: 0.4313 - val_accuracy: 0.8552\n",
      "Epoch 9/20\n",
      "266/266 [==============================] - 9s 34ms/step - loss: 0.1487 - accuracy: 0.9415 - val_loss: 0.4739 - val_accuracy: 0.8484\n",
      "Epoch 10/20\n",
      "266/266 [==============================] - 9s 34ms/step - loss: 0.1354 - accuracy: 0.9472 - val_loss: 0.5047 - val_accuracy: 0.8465\n",
      "Epoch 11/20\n",
      "266/266 [==============================] - 9s 34ms/step - loss: 0.1211 - accuracy: 0.9525 - val_loss: 0.5630 - val_accuracy: 0.8453\n",
      "Epoch 12/20\n",
      "266/266 [==============================] - 9s 34ms/step - loss: 0.1092 - accuracy: 0.9576 - val_loss: 0.5774 - val_accuracy: 0.8492\n",
      "Epoch 13/20\n",
      "266/266 [==============================] - 9s 34ms/step - loss: 0.1003 - accuracy: 0.9613 - val_loss: 0.6103 - val_accuracy: 0.8449\n",
      "Epoch 14/20\n",
      "266/266 [==============================] - 9s 34ms/step - loss: 0.0917 - accuracy: 0.9647 - val_loss: 0.6589 - val_accuracy: 0.8463\n",
      "Epoch 15/20\n",
      "266/266 [==============================] - 9s 34ms/step - loss: 0.0837 - accuracy: 0.9681 - val_loss: 0.7153 - val_accuracy: 0.8459\n",
      "Epoch 16/20\n",
      "266/266 [==============================] - 9s 34ms/step - loss: 0.0765 - accuracy: 0.9706 - val_loss: 0.7137 - val_accuracy: 0.8433\n",
      "Epoch 17/20\n",
      "266/266 [==============================] - 9s 34ms/step - loss: 0.0702 - accuracy: 0.9731 - val_loss: 0.7829 - val_accuracy: 0.8428\n",
      "Epoch 18/20\n",
      "266/266 [==============================] - 9s 34ms/step - loss: 0.0641 - accuracy: 0.9749 - val_loss: 0.7758 - val_accuracy: 0.8375\n",
      "Epoch 19/20\n",
      "266/266 [==============================] - 9s 34ms/step - loss: 0.0595 - accuracy: 0.9769 - val_loss: 0.8489 - val_accuracy: 0.8427\n",
      "Epoch 20/20\n",
      "266/266 [==============================] - 9s 34ms/step - loss: 0.0572 - accuracy: 0.9779 - val_loss: 0.8701 - val_accuracy: 0.8413\n"
     ]
    },
    {
     "name": "stderr",
     "output_type": "stream",
     "text": [
      "WARNING:absl:Found untraced functions such as lstm_cell_1_layer_call_and_return_conditional_losses, lstm_cell_1_layer_call_fn, lstm_cell_2_layer_call_and_return_conditional_losses, lstm_cell_2_layer_call_fn, lstm_cell_4_layer_call_and_return_conditional_losses while saving (showing 5 of 20). These functions will not be directly callable after loading.\n"
     ]
    },
    {
     "name": "stdout",
     "output_type": "stream",
     "text": [
      "INFO:tensorflow:Assets written to: logs/model2/final_checkpoint.ckpt/assets\n"
     ]
    },
    {
     "name": "stderr",
     "output_type": "stream",
     "text": [
      "INFO:tensorflow:Assets written to: logs/model2/final_checkpoint.ckpt/assets\n"
     ]
    }
   ],
   "source": [
    "history2 = train_model(model2, log_path='logs/model2')"
   ]
  },
  {
   "cell_type": "code",
   "execution_count": 23,
   "id": "014d7c17",
   "metadata": {
    "collapsed": true
   },
   "outputs": [
    {
     "name": "stdout",
     "output_type": "stream",
     "text": [
      "Epoch 1/20\n",
      "266/266 [==============================] - 21s 74ms/step - loss: 0.4057 - accuracy: 0.8131 - val_loss: 0.3427 - val_accuracy: 0.8466\n",
      "Epoch 2/20\n",
      "266/266 [==============================] - 20s 74ms/step - loss: 0.3027 - accuracy: 0.8711 - val_loss: 0.3517 - val_accuracy: 0.8474\n",
      "Epoch 3/20\n",
      "266/266 [==============================] - 19s 73ms/step - loss: 0.2631 - accuracy: 0.8912 - val_loss: 0.3525 - val_accuracy: 0.8474\n",
      "Epoch 4/20\n",
      "266/266 [==============================] - 19s 73ms/step - loss: 0.2301 - accuracy: 0.9070 - val_loss: 0.3676 - val_accuracy: 0.8464\n",
      "Epoch 5/20\n",
      "266/266 [==============================] - 19s 73ms/step - loss: 0.1952 - accuracy: 0.9230 - val_loss: 0.3966 - val_accuracy: 0.8383\n",
      "Epoch 6/20\n",
      "266/266 [==============================] - 19s 73ms/step - loss: 0.1625 - accuracy: 0.9368 - val_loss: 0.4291 - val_accuracy: 0.8428\n",
      "Epoch 7/20\n",
      "266/266 [==============================] - 20s 73ms/step - loss: 0.1340 - accuracy: 0.9488 - val_loss: 0.4747 - val_accuracy: 0.8395\n",
      "Epoch 8/20\n",
      "266/266 [==============================] - 19s 73ms/step - loss: 0.1086 - accuracy: 0.9599 - val_loss: 0.5291 - val_accuracy: 0.8287\n",
      "Epoch 9/20\n",
      "266/266 [==============================] - 19s 73ms/step - loss: 0.0883 - accuracy: 0.9679 - val_loss: 0.5567 - val_accuracy: 0.8286\n",
      "Epoch 10/20\n",
      "266/266 [==============================] - 19s 73ms/step - loss: 0.0723 - accuracy: 0.9736 - val_loss: 0.6281 - val_accuracy: 0.8309\n",
      "Epoch 11/20\n",
      "266/266 [==============================] - 19s 73ms/step - loss: 0.0586 - accuracy: 0.9790 - val_loss: 0.6828 - val_accuracy: 0.8340\n",
      "Epoch 12/20\n",
      "266/266 [==============================] - 19s 73ms/step - loss: 0.0491 - accuracy: 0.9822 - val_loss: 0.7297 - val_accuracy: 0.8293\n",
      "Epoch 13/20\n",
      "266/266 [==============================] - 19s 73ms/step - loss: 0.0409 - accuracy: 0.9852 - val_loss: 0.7933 - val_accuracy: 0.8299\n",
      "Epoch 14/20\n",
      "266/266 [==============================] - 19s 73ms/step - loss: 0.0396 - accuracy: 0.9852 - val_loss: 0.8212 - val_accuracy: 0.8261\n",
      "Epoch 15/20\n",
      "266/266 [==============================] - 19s 73ms/step - loss: 0.0388 - accuracy: 0.9853 - val_loss: 0.8429 - val_accuracy: 0.8277\n",
      "Epoch 16/20\n",
      "266/266 [==============================] - 19s 73ms/step - loss: 0.0394 - accuracy: 0.9851 - val_loss: 0.8469 - val_accuracy: 0.8250\n",
      "Epoch 17/20\n",
      "266/266 [==============================] - 19s 73ms/step - loss: 0.0342 - accuracy: 0.9873 - val_loss: 0.9040 - val_accuracy: 0.8241\n",
      "Epoch 18/20\n",
      "266/266 [==============================] - 19s 73ms/step - loss: 0.0321 - accuracy: 0.9877 - val_loss: 0.9776 - val_accuracy: 0.8239\n",
      "Epoch 19/20\n",
      "266/266 [==============================] - 19s 73ms/step - loss: 0.0321 - accuracy: 0.9876 - val_loss: 0.9398 - val_accuracy: 0.8235\n",
      "Epoch 20/20\n",
      "266/266 [==============================] - 19s 73ms/step - loss: 0.0287 - accuracy: 0.9888 - val_loss: 0.9321 - val_accuracy: 0.8309\n"
     ]
    },
    {
     "name": "stderr",
     "output_type": "stream",
     "text": [
      "WARNING:absl:Found untraced functions such as multi_head_attention_layer_call_and_return_conditional_losses, multi_head_attention_layer_call_fn, layer_normalization_layer_call_and_return_conditional_losses, layer_normalization_layer_call_fn, layer_normalization_1_layer_call_and_return_conditional_losses while saving (showing 5 of 45). These functions will not be directly callable after loading.\n"
     ]
    },
    {
     "name": "stdout",
     "output_type": "stream",
     "text": [
      "INFO:tensorflow:Assets written to: logs/model3/final_checkpoint.ckpt/assets\n"
     ]
    },
    {
     "name": "stderr",
     "output_type": "stream",
     "text": [
      "INFO:tensorflow:Assets written to: logs/model3/final_checkpoint.ckpt/assets\n"
     ]
    }
   ],
   "source": [
    "history3 = train_model(model3, log_path='logs/model3')"
   ]
  },
  {
   "cell_type": "markdown",
   "id": "1b025442",
   "metadata": {},
   "source": [
    "### 6) Loss, Accuracy 그래프 시각화"
   ]
  },
  {
   "cell_type": "code",
   "execution_count": 24,
   "id": "bead4645",
   "metadata": {},
   "outputs": [],
   "source": [
    "import matplotlib.pyplot as plt\n",
    "\n",
    "def plot_history(history):\n",
    "\n",
    "    history_dict = history.history if isinstance(history, tf.keras.callbacks.History) else history\n",
    "\n",
    "    try:\n",
    "        acc = history_dict['accuracy']\n",
    "        val_acc = history_dict['val_accuracy']\n",
    "        loss = history_dict['loss']\n",
    "        val_loss = history_dict['val_loss']\n",
    "    except KeyError as e:\n",
    "        print(history_dict.keys()) # epoch에 따른 그래프를 그려볼 수 있는 항목들\n",
    "        raise e\n",
    "    \n",
    "    epochs = range(1, len(acc) + 1)\n",
    "    \n",
    "    ## Loss 그래프 시각화\n",
    "    # \"bo\"는 \"파란색 점\"입니다\n",
    "    plt.plot(epochs, loss, 'bo', label='Training loss')\n",
    "    # b는 \"파란 실선\"입니다\n",
    "    plt.plot(epochs, val_loss, 'b', label='Validation loss')\n",
    "    plt.title('Training and validation loss')\n",
    "    plt.xlabel('Epochs')\n",
    "    plt.ylabel('Loss')\n",
    "    plt.legend()\n",
    "\n",
    "    plt.show()\n",
    "    \n",
    "    ## Accuracy 그래프 시각화\n",
    "    plt.clf()   # 그림을 초기화합니다\n",
    "\n",
    "    plt.plot(epochs, acc, 'bo', label='Training acc')\n",
    "    plt.plot(epochs, val_acc, 'b', label='Validation acc')\n",
    "    plt.title('Training and validation accuracy')\n",
    "    plt.xlabel('Epochs')\n",
    "    plt.ylabel('Accuracy')\n",
    "    plt.legend()\n",
    "\n",
    "    plt.show()"
   ]
  },
  {
   "cell_type": "code",
   "execution_count": 25,
   "id": "1cadba38",
   "metadata": {},
   "outputs": [
    {
     "data": {
      "image/png": "[encoded data removed]",
      "text/plain": [
       "<Figure size 432x288 with 1 Axes>"
      ]
     },
     "metadata": {
      "needs_background": "light"
     },
     "output_type": "display_data"
    },
    {
     "data": {
      "image/png": "[encoded data removed]",
      "text/plain": [
       "<Figure size 432x288 with 1 Axes>"
      ]
     },
     "metadata": {
      "needs_background": "light"
     },
     "output_type": "display_data"
    }
   ],
   "source": [
    "plot_history(history1)"
   ]
  },
  {
   "cell_type": "code",
   "execution_count": 26,
   "id": "63289e32",
   "metadata": {},
   "outputs": [
    {
     "data": {
      "image/png": "[encoded data removed]",
      "text/plain": [
       "<Figure size 432x288 with 1 Axes>"
      ]
     },
     "metadata": {
      "needs_background": "light"
     },
     "output_type": "display_data"
    },
    {
     "data": {
      "image/png": "[encoded data removed]",
      "text/plain": [
       "<Figure size 432x288 with 1 Axes>"
      ]
     },
     "metadata": {
      "needs_background": "light"
     },
     "output_type": "display_data"
    }
   ],
   "source": [
    "plot_history(history2)"
   ]
  },
  {
   "cell_type": "code",
   "execution_count": 27,
   "id": "f0a47bc3",
   "metadata": {},
   "outputs": [
    {
     "data": {
      "image/png": "[encoded data removed]",
      "text/plain": [
       "<Figure size 432x288 with 1 Axes>"
      ]
     },
     "metadata": {
      "needs_background": "light"
     },
     "output_type": "display_data"
    },
    {
     "data": {
      "image/png": "[encoded data removed]",
      "text/plain": [
       "<Figure size 432x288 with 1 Axes>"
      ]
     },
     "metadata": {
      "needs_background": "light"
     },
     "output_type": "display_data"
    }
   ],
   "source": [
    "plot_history(history3)"
   ]
  },
  {
   "cell_type": "markdown",
   "id": "16e30414",
   "metadata": {},
   "source": [
    "#### 성능 평가"
   ]
  },
  {
   "cell_type": "code",
   "execution_count": 28,
   "id": "f2caa4d6",
   "metadata": {},
   "outputs": [
    {
     "name": "stdout",
     "output_type": "stream",
     "text": [
      "1537/1537 - 3s - loss: 0.4198 - accuracy: 0.7969\n",
      "[0.4197532832622528, 0.7968752980232239]\n",
      "1537/1537 - 10s - loss: 0.3374 - accuracy: 0.8545\n",
      "[0.3373592495918274, 0.8544663190841675]\n",
      "1537/1537 - 6s - loss: 0.3494 - accuracy: 0.8458\n",
      "[0.3494020402431488, 0.8458002209663391]\n"
     ]
    }
   ],
   "source": [
    "# load best model 1\n",
    "model1.load_weights('logs/model1/best_checkpoint.ckpt')\n",
    "model1.compile(optimizer='adam', loss='binary_crossentropy', metrics=['accuracy'])\n",
    "# load best model 2\n",
    "model2.load_weights('logs/model2/best_checkpoint.ckpt')\n",
    "model2.compile(optimizer='adam', loss='binary_crossentropy', metrics=['accuracy'])\n",
    "# load best model 3\n",
    "model3.load_weights('logs/model3/best_checkpoint.ckpt')\n",
    "model3.compile(optimizer='adam', loss='binary_crossentropy', metrics=['accuracy'])\n",
    "\n",
    "# Evaluation in testset\n",
    "print(model1.evaluate(X_test,  y_test, verbose=2))\n",
    "print(model2.evaluate(X_test,  y_test, verbose=2))\n",
    "print(model3.evaluate(X_test,  y_test, verbose=2))\n"
   ]
  },
  {
   "cell_type": "markdown",
   "id": "22a86efa",
   "metadata": {},
   "source": [
    "### 7) 학습된 Embedding 레이어 분석\n",
    "- gensim의 유사단어 찾기를 활용하여 자체학습한 임베딩과 사전학습 임베딩을 비교 분석"
   ]
  },
  {
   "cell_type": "code",
   "execution_count": 29,
   "id": "f92a2f48",
   "metadata": {},
   "outputs": [],
   "source": [
    "from gensim.models.keyedvectors import Word2VecKeyedVectors"
   ]
  },
  {
   "cell_type": "code",
   "execution_count": 30,
   "id": "b597f9e2",
   "metadata": {},
   "outputs": [],
   "source": [
    "def save_word2vec(model, \n",
    "                  save_dir='.',\n",
    "                  filename='word2vec.txt',\n",
    "                  vocab_size=10000):\n",
    "    embedding_layer = model.layers[0]\n",
    "    \n",
    "    vocab_size = embedding_layer.input_dim\n",
    "    word_vector_dim = embedding_layer.output_dim\n",
    "    weights = embedding_layer.get_weights()[0]\n",
    "    \n",
    "    word2vec_file_path = save_dir + '/' + filename\n",
    "    \n",
    "    f = open(word2vec_file_path, 'w')\n",
    "    f.write('{} {}\\n'.format(vocab_size-3, word_vector_dim))  # 몇개의 벡터를 얼마 사이즈로 기재할지 타이틀을 씁니다.\n",
    "\n",
    "    # 단어 개수(에서 특수문자 4개는 제외하고)만큼의 워드 벡터를 파일에 기록합니다. \n",
    "    vectors = model.get_weights()[0]\n",
    "    for i in range(3,vocab_size):\n",
    "        f.write('{} {}\\n'.format(index_to_word[i], ' '.join(map(str, list(vectors[i, :])))))\n",
    "    f.close()\n",
    "    return word2vec_file_path"
   ]
  },
  {
   "cell_type": "code",
   "execution_count": 31,
   "id": "640de5f6",
   "metadata": {},
   "outputs": [
    {
     "name": "stdout",
     "output_type": "stream",
     "text": [
      "GoogleNews-vectors-negative300.bin.gz  word2vec_ko.model\r\n",
      "ratings_test.txt\t\t       word2vec_ko.model.trainables.syn1neg.npy\r\n",
      "ratings_train.txt\t\t       word2vec_ko.model.wv.vectors.npy\r\n"
     ]
    }
   ],
   "source": [
    "!ls ~/data\n",
    "!ln -sf ~/data/word2vec_ko.model* ~/aiffel/sentiment_classification/data\n",
    "# !ls ~/aiffel/sentiment_classification/data"
   ]
  },
  {
   "cell_type": "markdown",
   "id": "e5380d73",
   "metadata": {},
   "source": [
    "#### find similar word with model1"
   ]
  },
  {
   "cell_type": "code",
   "execution_count": 32,
   "id": "d6fca3ea",
   "metadata": {},
   "outputs": [],
   "source": [
    "import os\n",
    "word2vec_file_path = save_word2vec( model1, \n",
    "              save_dir = os.getenv('HOME')+'/aiffel/sentiment_classification/logs/model1',\n",
    "              filename = 'word2vec.txt'\n",
    ")"
   ]
  },
  {
   "cell_type": "code",
   "execution_count": 33,
   "id": "85847612",
   "metadata": {},
   "outputs": [
    {
     "name": "stdout",
     "output_type": "stream",
     "text": [
      "0.  울컥: 0.7976\n",
      "1.  탄탄: 0.7864\n",
      "2.  따스: 0.7842\n",
      "3.  아련: 0.7814\n",
      "4.  신들린: 0.7808\n",
      "5.  진진: 0.7784\n"
     ]
    }
   ],
   "source": [
    "word_vectors = Word2VecKeyedVectors.load_word2vec_format(word2vec_file_path, binary=False)\n",
    "\n",
    "result = word_vectors.similar_by_word(\"사랑\")\n",
    "for i in range(6):\n",
    "    most_similar_key, similarity = result[i]  # look at the first match\n",
    "    print(f\"{i}.  {most_similar_key}: {similarity:.4f}\")"
   ]
  },
  {
   "cell_type": "markdown",
   "id": "2def9174",
   "metadata": {},
   "source": [
    "#### find similar word with model2"
   ]
  },
  {
   "cell_type": "code",
   "execution_count": 34,
   "id": "6ff2341e",
   "metadata": {},
   "outputs": [],
   "source": [
    "word2vec_file_path = save_word2vec( model2, \n",
    "              save_dir = os.getenv('HOME')+'/aiffel/sentiment_classification/logs/model2',\n",
    "              filename = 'word2vec.txt'\n",
    ")"
   ]
  },
  {
   "cell_type": "code",
   "execution_count": 35,
   "id": "426411fd",
   "metadata": {},
   "outputs": [
    {
     "name": "stdout",
     "output_type": "stream",
     "text": [
      "0.  훌쩍: 0.8255\n",
      "1.  9: 0.8239\n",
      "2.  명화: 0.8220\n",
      "3.  올려야: 0.8147\n",
      "4.  정점: 0.8035\n",
      "5.  놓치: 0.8031\n"
     ]
    }
   ],
   "source": [
    "word_vectors = Word2VecKeyedVectors.load_word2vec_format(word2vec_file_path, binary=False)\n",
    "result = word_vectors.similar_by_word(\"사랑\")\n",
    "for i in range(6):\n",
    "    most_similar_key, similarity = result[i]  # look at the first match\n",
    "    print(f\"{i}.  {most_similar_key}: {similarity:.4f}\")"
   ]
  },
  {
   "cell_type": "markdown",
   "id": "a8c20ba9",
   "metadata": {},
   "source": [
    "#### find similar word with model3"
   ]
  },
  {
   "cell_type": "code",
   "execution_count": 36,
   "id": "cde0920d",
   "metadata": {},
   "outputs": [],
   "source": [
    "word2vec_file_path = save_word2vec( model3, \n",
    "              save_dir = os.getenv('HOME')+'/aiffel/sentiment_classification/logs/model3',\n",
    "              filename = 'word2vec.txt'\n",
    ")"
   ]
  },
  {
   "cell_type": "code",
   "execution_count": 37,
   "id": "69080f1e",
   "metadata": {},
   "outputs": [
    {
     "name": "stdout",
     "output_type": "stream",
     "text": [
      "0.  인간: 0.4942\n",
      "1.  소장: 0.4111\n",
      "2.  리들리스콧: 0.4057\n",
      "3.  두려움: 0.3987\n",
      "4.  경쾌: 0.3942\n",
      "5.  다물: 0.3867\n"
     ]
    }
   ],
   "source": [
    "word_vectors = Word2VecKeyedVectors.load_word2vec_format(word2vec_file_path, binary=False)\n",
    "result = word_vectors.similar_by_word(\"사랑\")\n",
    "for i in range(6):\n",
    "    most_similar_key, similarity = result[i]  # look at the first match\n",
    "    print(f\"{i}.  {most_similar_key}: {similarity:.4f}\")"
   ]
  },
  {
   "cell_type": "markdown",
   "id": "40b1b37b",
   "metadata": {},
   "source": [
    "#### find similar word with Kor Word2Vec"
   ]
  },
  {
   "cell_type": "code",
   "execution_count": 38,
   "id": "3fe8ce15",
   "metadata": {},
   "outputs": [],
   "source": [
    "# 예시 코드\n",
    "from gensim.models.keyedvectors import Word2VecKeyedVectors\n",
    "word2vec_file_path = '/aiffel/aiffel/sentiment_classification/data/word2vec_ko.model'\n",
    "word_vectors = Word2VecKeyedVectors.load(word2vec_file_path)\n",
    "# word_vectors = word_vectors.wv.vectors"
   ]
  },
  {
   "cell_type": "code",
   "execution_count": 39,
   "id": "dd4a638e",
   "metadata": {},
   "outputs": [
    {
     "name": "stdout",
     "output_type": "stream",
     "text": [
      "0.  이별: 0.7626\n",
      "1.  행복: 0.7550\n",
      "2.  슬픔: 0.7382\n",
      "3.  유혹: 0.7238\n",
      "4.  그리움: 0.7167\n",
      "5.  추억: 0.7144\n"
     ]
    }
   ],
   "source": [
    "result = word_vectors.wv.similar_by_word(\"사랑\")\n",
    "for i in range(6):\n",
    "    most_similar_key, similarity = result[i]  # look at the first match\n",
    "    print(f\"{i}.  {most_similar_key}: {similarity:.4f}\")"
   ]
  },
  {
   "cell_type": "markdown",
   "id": "19ac8998",
   "metadata": {},
   "source": [
    "### [루브릭] 그나마 성능이 높은 biLSTM 모델의 embedding layer 가 의미의 유사도를 잘 표현하고 있다. Word2Vec_ko 는 유사어 찾기에서 인상적인 결과를 보였다.\n"
   ]
  },
  {
   "cell_type": "markdown",
   "id": "f0232895",
   "metadata": {},
   "source": [
    "### 8) 한국어 Word2Vec 임베딩 활용하여 성능 개선\n",
    "\n",
    "- 한국어 Word2Vec은 `/data` 폴더 안에 있는 `word2vec_ko.model`을 활용하세요.\n",
    "- 한국어 Word2Vec을 활용할 때는 `load_word2vec_format()` 형태가 아닌 `load()` 형태로 모델을 불러와주세요. 또한 모델을 활용할 때에는 아래 예시와 같이 `.wv`를 붙여서 활용합니다. "
   ]
  },
  {
   "cell_type": "code",
   "execution_count": 40,
   "id": "abec6fb7",
   "metadata": {},
   "outputs": [
    {
     "name": "stdout",
     "output_type": "stream",
     "text": [
      "word #0/302960 is .\n",
      "word #1/302960 is 의\n",
      "word #2/302960 is 다\n",
      "word #3/302960 is 이\n",
      "word #4/302960 is 는\n",
      "word #5/302960 is /\n",
      "word #6/302960 is =\"\n",
      "word #7/302960 is ,\n",
      "word #8/302960 is 에\n",
      "word #9/302960 is 을\n"
     ]
    }
   ],
   "source": [
    "wv = word_vectors.wv\n",
    "for index, word in enumerate(wv.index_to_key):\n",
    "    if index == 10: break\n",
    "    print(f\"word #{index}/{len(wv.index_to_key)} is {word}\")\n"
   ]
  },
  {
   "cell_type": "code",
   "execution_count": 41,
   "id": "b7d97c9a",
   "metadata": {},
   "outputs": [
    {
     "data": {
      "text/plain": [
       "9454"
      ]
     },
     "execution_count": 41,
     "metadata": {},
     "output_type": "execute_result"
    }
   ],
   "source": [
    "joint = sum(w in wv.index_to_key for w in index_to_word.values())\n",
    "print(f'{joint} words are overlapped among ours: 10000. vocab size of word2vec_ko: {len(wv.key_to_index)}')"
   ]
  },
  {
   "cell_type": "markdown",
   "id": "b45955ad",
   "metadata": {},
   "source": []
  },
  {
   "cell_type": "code",
   "execution_count": 42,
   "id": "01170b7f",
   "metadata": {},
   "outputs": [
    {
     "data": {
      "text/plain": [
       "['<', '</']"
      ]
     },
     "execution_count": 42,
     "metadata": {},
     "output_type": "execute_result"
    }
   ],
   "source": [
    "[w for w in wv.index_to_key if '<' in w]"
   ]
  },
  {
   "cell_type": "code",
   "execution_count": 43,
   "id": "99ed5c50",
   "metadata": {},
   "outputs": [
    {
     "data": {
      "text/plain": [
       "['>',\n",
       " '\">',\n",
       " '~\">',\n",
       " '-\">',\n",
       " '+\">',\n",
       " '°\">',\n",
       " '!\">',\n",
       " '%\">',\n",
       " '..\">',\n",
       " ';\">',\n",
       " '\\'\">',\n",
       " ')\">',\n",
       " '++\">',\n",
       " '²\">',\n",
       " '〜\">',\n",
       " '!!\">',\n",
       " '♪\">',\n",
       " '?\">',\n",
       " '㎡\">',\n",
       " '〉\">',\n",
       " '$\">',\n",
       " '*\">',\n",
       " '］\">',\n",
       " '+)\">',\n",
       " '½\">',\n",
       " '～\">',\n",
       " '℃\">',\n",
       " '☆\">',\n",
       " '＃\">',\n",
       " '∞\">',\n",
       " '`\">',\n",
       " '㈜\">',\n",
       " '-)\">',\n",
       " '♂\">',\n",
       " '。\">']"
      ]
     },
     "execution_count": 43,
     "metadata": {},
     "output_type": "execute_result"
    }
   ],
   "source": [
    "[w for w in wv.index_to_key if '>' in w]"
   ]
  },
  {
   "cell_type": "code",
   "execution_count": 44,
   "id": "6c3b8ebb",
   "metadata": {},
   "outputs": [
    {
     "data": {
      "text/plain": [
       "100"
      ]
     },
     "execution_count": 44,
     "metadata": {},
     "output_type": "execute_result"
    }
   ],
   "source": [
    "wv.vector_size"
   ]
  },
  {
   "cell_type": "code",
   "execution_count": 45,
   "id": "95d71634",
   "metadata": {},
   "outputs": [
    {
     "data": {
      "text/plain": [
       "['vector_size',\n",
       " '__numpys',\n",
       " '__scipys',\n",
       " '__ignoreds',\n",
       " '__recursive_saveloads',\n",
       " 'vectors',\n",
       " 'index_to_key',\n",
       " 'norms',\n",
       " 'expandos',\n",
       " 'key_to_index',\n",
       " 'vectors_lockf',\n",
       " '__module__',\n",
       " '__init__',\n",
       " '_load_specials',\n",
       " '_upconvert_old_vocab',\n",
       " 'allocate_vecattrs',\n",
       " 'set_vecattr',\n",
       " 'get_vecattr',\n",
       " 'resize_vectors',\n",
       " '__len__',\n",
       " '__getitem__',\n",
       " 'get_index',\n",
       " 'get_vector',\n",
       " 'word_vec',\n",
       " 'add_vector',\n",
       " 'add_vectors',\n",
       " '__setitem__',\n",
       " 'has_index_for',\n",
       " '__contains__',\n",
       " 'most_similar_to_given',\n",
       " 'closer_than',\n",
       " 'words_closer_than',\n",
       " 'rank',\n",
       " 'vectors_norm',\n",
       " 'get_normed_vectors',\n",
       " 'fill_norms',\n",
       " 'index2entity',\n",
       " 'index2word',\n",
       " 'vocab',\n",
       " 'sort_by_descending_frequency',\n",
       " 'save',\n",
       " 'most_similar',\n",
       " 'similar_by_word',\n",
       " 'similar_by_key',\n",
       " 'similar_by_vector',\n",
       " 'wmdistance',\n",
       " 'most_similar_cosmul',\n",
       " 'rank_by_centrality',\n",
       " 'doesnt_match',\n",
       " 'cosine_similarities',\n",
       " 'distances',\n",
       " 'distance',\n",
       " 'similarity',\n",
       " 'n_similarity',\n",
       " '_log_evaluate_word_analogies',\n",
       " 'evaluate_word_analogies',\n",
       " 'log_accuracy',\n",
       " 'log_evaluate_word_pairs',\n",
       " 'evaluate_word_pairs',\n",
       " 'init_sims',\n",
       " 'unit_normalize_all',\n",
       " 'relative_cosine_similarity',\n",
       " 'save_word2vec_format',\n",
       " 'load_word2vec_format',\n",
       " 'intersect_word2vec_format',\n",
       " 'vectors_for_all',\n",
       " '_upconvert_old_d2vkv',\n",
       " 'similarity_unseen_docs',\n",
       " '__doc__',\n",
       " 'add_lifecycle_event',\n",
       " 'load',\n",
       " '_adapt_by_suffix',\n",
       " '_smart_save',\n",
       " '_save_specials',\n",
       " '__dict__',\n",
       " '__weakref__',\n",
       " '__repr__',\n",
       " '__hash__',\n",
       " '__str__',\n",
       " '__getattribute__',\n",
       " '__setattr__',\n",
       " '__delattr__',\n",
       " '__lt__',\n",
       " '__le__',\n",
       " '__eq__',\n",
       " '__ne__',\n",
       " '__gt__',\n",
       " '__ge__',\n",
       " '__new__',\n",
       " '__reduce_ex__',\n",
       " '__reduce__',\n",
       " '__subclasshook__',\n",
       " '__init_subclass__',\n",
       " '__format__',\n",
       " '__sizeof__',\n",
       " '__dir__',\n",
       " '__class__']"
      ]
     },
     "execution_count": 45,
     "metadata": {},
     "output_type": "execute_result"
    }
   ],
   "source": [
    "wv.__dir__()"
   ]
  },
  {
   "cell_type": "code",
   "execution_count": 46,
   "id": "184a5eec",
   "metadata": {},
   "outputs": [
    {
     "data": {
      "text/plain": [
       "['.',\n",
       " '의',\n",
       " '다',\n",
       " '이',\n",
       " '는',\n",
       " '/',\n",
       " '=\"',\n",
       " ',',\n",
       " '에',\n",
       " '을',\n",
       " '\"',\n",
       " '하',\n",
       " 'doc',\n",
       " '은',\n",
       " ')',\n",
       " '(',\n",
       " '년',\n",
       " '를',\n",
       " '고',\n",
       " '에서',\n",
       " '있',\n",
       " ':',\n",
       " '으로',\n",
       " '가',\n",
       " '?',\n",
       " '=',\n",
       " 'https',\n",
       " 'org',\n",
       " 'id',\n",
       " 'title',\n",
       " 'wiki',\n",
       " 'wikipedia',\n",
       " 'ko',\n",
       " 'url',\n",
       " '<',\n",
       " 'curid',\n",
       " '</',\n",
       " '>',\n",
       " '\">',\n",
       " '되',\n",
       " '로',\n",
       " '한',\n",
       " '었',\n",
       " '과',\n",
       " '들',\n",
       " '월',\n",
       " '했',\n",
       " '와',\n",
       " '적',\n",
       " '일',\n",
       " '도',\n",
       " '였',\n",
       " '인',\n",
       " '그',\n",
       " '어',\n",
       " '기',\n",
       " '것',\n",
       " '1',\n",
       " '2',\n",
       " '지',\n",
       " '게',\n",
       " '여',\n",
       " '한다',\n",
       " '수',\n",
       " '된',\n",
       " '-',\n",
       " '등',\n",
       " '3',\n",
       " '며',\n",
       " \"'\",\n",
       " '던',\n",
       " '할',\n",
       " '4',\n",
       " '제',\n",
       " '해',\n",
       " '5',\n",
       " '않',\n",
       " '만',\n",
       " '까지',\n",
       " '았',\n",
       " '자',\n",
       " '명',\n",
       " '으며',\n",
       " '중',\n",
       " '에게',\n",
       " '《',\n",
       " '대',\n",
       " '받',\n",
       " '6',\n",
       " '~',\n",
       " '지만',\n",
       " '된다',\n",
       " '주',\n",
       " '아',\n",
       " '같',\n",
       " '성',\n",
       " '부터',\n",
       " '개',\n",
       " '사용',\n",
       " '·',\n",
       " '때',\n",
       " '10',\n",
       " '7',\n",
       " '8',\n",
       " '면',\n",
       " '미국',\n",
       " '후',\n",
       " '이후',\n",
       " '라고',\n",
       " '번',\n",
       " '라는',\n",
       " '나',\n",
       " '세',\n",
       " '면서',\n",
       " '없',\n",
       " '시',\n",
       " '전',\n",
       " '두',\n",
       " '는데',\n",
       " '》',\n",
       " '대한민국',\n",
       " '및',\n",
       " '말',\n",
       " '다음',\n",
       " '9',\n",
       " '일본',\n",
       " '지역',\n",
       " '대한',\n",
       " '다른',\n",
       " '군',\n",
       " '12',\n",
       " '다고',\n",
       " '역',\n",
       " '라',\n",
       " ';',\n",
       " '위',\n",
       " '11',\n",
       " '화',\n",
       " '때문',\n",
       " '시작',\n",
       " '&',\n",
       " '사람',\n",
       " '위해',\n",
       " '팀',\n",
       " '함께',\n",
       " '또한',\n",
       " '많',\n",
       " '선수',\n",
       " '더',\n",
       " '영화',\n",
       " '국가',\n",
       " '현재',\n",
       " '세계',\n",
       " '자신',\n",
       " '경기',\n",
       " '권',\n",
       " '경우',\n",
       " '학교',\n",
       " '차',\n",
       " '기록',\n",
       " '이름',\n",
       " '위치',\n",
       " '또는',\n",
       " '당시',\n",
       " '가장',\n",
       " '리그',\n",
       " '_',\n",
       " '가지',\n",
       " '다는',\n",
       " '활동',\n",
       " '한국',\n",
       " '하나',\n",
       " '이나',\n",
       " '째',\n",
       " '호',\n",
       " '보',\n",
       " '데',\n",
       " '그러나',\n",
       " '의해',\n",
       " '내',\n",
       " '선',\n",
       " '대표',\n",
       " 'formula',\n",
       " '역사',\n",
       " '따라',\n",
       " '시즌',\n",
       " '그리고',\n",
       " '상',\n",
       " '서',\n",
       " ']',\n",
       " '사이',\n",
       " '[',\n",
       " '통해',\n",
       " '조선',\n",
       " '뒤',\n",
       " '20',\n",
       " '보다',\n",
       " '포함',\n",
       " '사',\n",
       " '만들',\n",
       " '형',\n",
       " '시대',\n",
       " '안',\n",
       " '도시',\n",
       " '첫',\n",
       " '간',\n",
       " '영국',\n",
       " '아니',\n",
       " '정부',\n",
       " '다시',\n",
       " '인구',\n",
       " '대회',\n",
       " '‘',\n",
       " '전쟁',\n",
       " '중국',\n",
       " '오',\n",
       " '뜻',\n",
       " '여러',\n",
       " '대학',\n",
       " '동안',\n",
       " '로서',\n",
       " '사건',\n",
       " '가능',\n",
       " '감독',\n",
       " '큰',\n",
       " '모든',\n",
       " '모두',\n",
       " '사회',\n",
       " '대학교',\n",
       " '으나',\n",
       " '15',\n",
       " '%',\n",
       " '프랑스',\n",
       " '축구',\n",
       " '비',\n",
       " '회',\n",
       " '일부',\n",
       " '조',\n",
       " '배우',\n",
       " '당',\n",
       " '이상',\n",
       " '지방',\n",
       " '게임',\n",
       " '처음',\n",
       " '크',\n",
       " '위한',\n",
       " '다가',\n",
       " '’',\n",
       " '는다',\n",
       " '연구',\n",
       " '구',\n",
       " 'km',\n",
       " '세기',\n",
       " '부',\n",
       " '약',\n",
       " '신',\n",
       " '독일',\n",
       " '16',\n",
       " '문제',\n",
       " '서울',\n",
       " '개발',\n",
       " '음반',\n",
       " '제작',\n",
       " '알',\n",
       " '시간',\n",
       " '스',\n",
       " '될',\n",
       " '작품',\n",
       " 'm',\n",
       " '구성',\n",
       " '함',\n",
       " '0',\n",
       " '였으며',\n",
       " '존재',\n",
       " '일반',\n",
       " '점',\n",
       " '19',\n",
       " '남',\n",
       " '기준',\n",
       " '현',\n",
       " '씨',\n",
       " 'gt',\n",
       " '30',\n",
       " '주장',\n",
       " '올림픽',\n",
       " '정도',\n",
       " '거나',\n",
       " '계',\n",
       " '방송',\n",
       " 'lt',\n",
       " '국제',\n",
       " '속',\n",
       " '관계',\n",
       " '2010',\n",
       " '이러',\n",
       " '왕',\n",
       " '발견',\n",
       " '13',\n",
       " '했으며',\n",
       " '18',\n",
       " '높',\n",
       " '이용',\n",
       " '곳',\n",
       " '〈',\n",
       " '\\xa0',\n",
       " '14',\n",
       " '총',\n",
       " '원',\n",
       " '분',\n",
       " '살',\n",
       " '곡',\n",
       " '결과',\n",
       " '교육',\n",
       " '도록',\n",
       " '또',\n",
       " '발표',\n",
       " '음악',\n",
       " '로부터',\n",
       " '대해',\n",
       " '운동',\n",
       " '대부분',\n",
       " '경제',\n",
       " '의미',\n",
       " '대통령',\n",
       " '아들',\n",
       " '시키',\n",
       " '기술',\n",
       " '17',\n",
       " '선거',\n",
       " '문화',\n",
       " '전투',\n",
       " '과정',\n",
       " '맡',\n",
       " '장',\n",
       " '정치',\n",
       " '초등',\n",
       " '네',\n",
       " '유럽',\n",
       " '참여',\n",
       " '구조',\n",
       " '관련',\n",
       " '발생',\n",
       " '강',\n",
       " '2008',\n",
       " '사망',\n",
       " '예',\n",
       " '지원',\n",
       " '산',\n",
       " '우승',\n",
       " '이전',\n",
       " '특히',\n",
       " 'A',\n",
       " '25',\n",
       " '작',\n",
       " '최초',\n",
       " '각',\n",
       " '영향',\n",
       " '2011',\n",
       " '2012',\n",
       " '얻',\n",
       " '트',\n",
       " '부분',\n",
       " '여자',\n",
       " '음',\n",
       " '진행',\n",
       " '공격',\n",
       " '결정',\n",
       " '발매',\n",
       " '상태',\n",
       " '드',\n",
       " '집',\n",
       " '2014',\n",
       " '제국',\n",
       " '목록',\n",
       " '새로운',\n",
       " '초',\n",
       " '형태',\n",
       " '21',\n",
       " '프로그램',\n",
       " '2009',\n",
       " '주로',\n",
       " '어서',\n",
       " '같이',\n",
       " '2007',\n",
       " '소속',\n",
       " '중심',\n",
       " '법',\n",
       " '러시아',\n",
       " '불',\n",
       " '섬',\n",
       " '나라',\n",
       " '설립',\n",
       " '진',\n",
       " '“',\n",
       " '주요',\n",
       " '그녀',\n",
       " '설치',\n",
       " '”',\n",
       " '다양',\n",
       " '인해',\n",
       " '하지만',\n",
       " '길',\n",
       " '여성',\n",
       " '위원회',\n",
       " '해당',\n",
       " '생각',\n",
       " '중요',\n",
       " '필요',\n",
       " '행정',\n",
       " '2013',\n",
       " '으로서',\n",
       " '정보',\n",
       " '운영',\n",
       " '이것',\n",
       " '2018',\n",
       " '됐',\n",
       " '타',\n",
       " '출신',\n",
       " '2015',\n",
       " '드라마',\n",
       " '즉',\n",
       " '〉',\n",
       " '프로',\n",
       " '조직',\n",
       " '2016',\n",
       " '리',\n",
       " '계획',\n",
       " '로마',\n",
       " '그룹',\n",
       " '날',\n",
       " '니',\n",
       " '잘',\n",
       " '시절',\n",
       " '계속',\n",
       " '시리즈',\n",
       " '000',\n",
       " '매우',\n",
       " '반',\n",
       " '24',\n",
       " '야',\n",
       " '키',\n",
       " '재',\n",
       " '쓰',\n",
       " '좋',\n",
       " '고등학교',\n",
       " '용',\n",
       " '지정',\n",
       " '데뷔',\n",
       " '2006',\n",
       " '참가',\n",
       " '따르',\n",
       " '열',\n",
       " '출연',\n",
       " '초기',\n",
       " '삼',\n",
       " '2017',\n",
       " '이탈리아',\n",
       " '뿐',\n",
       " '죽',\n",
       " '사실',\n",
       " '아버지',\n",
       " '해서',\n",
       " '방법',\n",
       " '23',\n",
       " '차지',\n",
       " '의원',\n",
       " '란',\n",
       " '처럼',\n",
       " '22',\n",
       " '전체',\n",
       " '르',\n",
       " '앨범',\n",
       " '성공',\n",
       " '2000',\n",
       " '볼',\n",
       " '생산',\n",
       " '등장',\n",
       " '끝',\n",
       " '자리',\n",
       " '제공',\n",
       " '중앙',\n",
       " '후보',\n",
       " '관리',\n",
       " '시스템',\n",
       " '생애',\n",
       " '생활',\n",
       " '!',\n",
       " '내용',\n",
       " '외',\n",
       " '대전',\n",
       " '바',\n",
       " '독립',\n",
       " '방식',\n",
       " '평가',\n",
       " '회사',\n",
       " '정',\n",
       " '100',\n",
       " '테',\n",
       " '결국',\n",
       " '시기',\n",
       " '제도',\n",
       " '달',\n",
       " '우리',\n",
       " '단',\n",
       " '인간',\n",
       " '2019',\n",
       " '고려',\n",
       " '철도',\n",
       " '공식',\n",
       " '역할',\n",
       " '노래',\n",
       " '최고',\n",
       " '거의',\n",
       " '아래',\n",
       " '교회',\n",
       " '2005',\n",
       " '천',\n",
       " '조사',\n",
       " '한편',\n",
       " 'of',\n",
       " '과학',\n",
       " '별',\n",
       " '보이',\n",
       " '기능',\n",
       " '물',\n",
       " '배',\n",
       " '28',\n",
       " '자유',\n",
       " '카',\n",
       " '많이',\n",
       " '층',\n",
       " '26',\n",
       " '이유',\n",
       " '동시',\n",
       " '기관',\n",
       " '출전',\n",
       " '가운데',\n",
       " '27',\n",
       " '못하',\n",
       " '종',\n",
       " '편',\n",
       " '연결',\n",
       " '2020',\n",
       " '이론',\n",
       " '였으나',\n",
       " '미',\n",
       " '해야',\n",
       " '대신',\n",
       " '개요',\n",
       " '기업',\n",
       " '분류',\n",
       " '유지',\n",
       " '골',\n",
       " '발전',\n",
       " '규모',\n",
       " '으로써',\n",
       " '2004',\n",
       " '구역',\n",
       " '공개',\n",
       " '으로부터',\n",
       " '시장',\n",
       " 'C',\n",
       " '군사',\n",
       " '상대',\n",
       " '표현',\n",
       " '치',\n",
       " '지구',\n",
       " '유명',\n",
       " '언어',\n",
       " '갖',\n",
       " '이루',\n",
       " '정의',\n",
       " '공화국',\n",
       " '따라서',\n",
       " '의회',\n",
       " '사업',\n",
       " '모습',\n",
       " '마지막',\n",
       " '수상',\n",
       " '특징',\n",
       " '승리',\n",
       " 'FC',\n",
       " '아이',\n",
       " '각각',\n",
       " '기간',\n",
       " '대상',\n",
       " '양',\n",
       " '정책',\n",
       " '이야기',\n",
       " '현대',\n",
       " '산업',\n",
       " '가수',\n",
       " '여기',\n",
       " 'TV',\n",
       " '형성',\n",
       " '추가',\n",
       " '모델',\n",
       " '29',\n",
       " '상황',\n",
       " '입',\n",
       " '\")',\n",
       " '노선',\n",
       " '중학교',\n",
       " '진출',\n",
       " '기원전',\n",
       " '인물',\n",
       " '국민',\n",
       " '이르',\n",
       " '직접',\n",
       " '개인',\n",
       " 'The',\n",
       " '건설',\n",
       " '엔',\n",
       " '임명',\n",
       " '알려져',\n",
       " '야구',\n",
       " '반대',\n",
       " '전국',\n",
       " '건물',\n",
       " '그것',\n",
       " '공간',\n",
       " '민족',\n",
       " '억',\n",
       " '열린',\n",
       " '티',\n",
       " '코',\n",
       " '》(',\n",
       " '2002',\n",
       " '지금',\n",
       " '식',\n",
       " '인도',\n",
       " '책',\n",
       " '단체',\n",
       " '불리',\n",
       " '관한',\n",
       " '변화',\n",
       " '졌',\n",
       " '존',\n",
       " '무',\n",
       " 'B',\n",
       " '했으나',\n",
       " '사랑',\n",
       " '마을',\n",
       " '온',\n",
       " '백',\n",
       " '서비스',\n",
       " '변경',\n",
       " '서로',\n",
       " '거리',\n",
       " '칸',\n",
       " '목적',\n",
       " '시켰',\n",
       " '인민공화국',\n",
       " '본',\n",
       " '밴드',\n",
       " '클럽',\n",
       " '태어났',\n",
       " '교수',\n",
       " '개최',\n",
       " '센터',\n",
       " '50',\n",
       " '활약',\n",
       " '계약',\n",
       " '경력',\n",
       " '몇',\n",
       " '싱글',\n",
       " '의하',\n",
       " '판',\n",
       " '2003',\n",
       " 'the',\n",
       " '족',\n",
       " '학생',\n",
       " '도쿄',\n",
       " '스페인',\n",
       " 'K',\n",
       " '앞',\n",
       " '비판',\n",
       " '비롯',\n",
       " '결혼',\n",
       " '졸업',\n",
       " '기반',\n",
       " '31',\n",
       " '월드컵',\n",
       " '역시',\n",
       " '남자',\n",
       " '황제',\n",
       " '컵',\n",
       " '론',\n",
       " '노',\n",
       " '운행',\n",
       " '막',\n",
       " '「',\n",
       " '새',\n",
       " '잡',\n",
       " '왔',\n",
       " '없이',\n",
       " '」',\n",
       " '속하',\n",
       " '루',\n",
       " '종교',\n",
       " '원래',\n",
       " '겠',\n",
       " '1990',\n",
       " '가진',\n",
       " '소',\n",
       " '설명',\n",
       " '기타',\n",
       " '파',\n",
       " '요구',\n",
       " '공',\n",
       " '자연',\n",
       " '명칭',\n",
       " '생',\n",
       " '가족',\n",
       " '어떤',\n",
       " '소련',\n",
       " '경',\n",
       " '전통',\n",
       " '기본',\n",
       " '낮',\n",
       " '시설',\n",
       " '달리',\n",
       " '류',\n",
       " '손',\n",
       " '2001',\n",
       " '텔레비전',\n",
       " '한다는',\n",
       " '연방',\n",
       " '찾',\n",
       " '사상',\n",
       " '경기도',\n",
       " '증가',\n",
       " '최대',\n",
       " '환경',\n",
       " '만든',\n",
       " '동',\n",
       " '출시',\n",
       " '피',\n",
       " '딸',\n",
       " '제외',\n",
       " '사고',\n",
       " '문',\n",
       " '혹은',\n",
       " '세력',\n",
       " '분야',\n",
       " '모양',\n",
       " '자료',\n",
       " '수행',\n",
       " '소설',\n",
       " '행동',\n",
       " '작가',\n",
       " 'M',\n",
       " '그리스',\n",
       " '위하',\n",
       " '우주',\n",
       " '밖',\n",
       " '효과',\n",
       " '연합',\n",
       " '의한',\n",
       " '공연',\n",
       " '수도',\n",
       " '협회',\n",
       " 'D',\n",
       " '도입',\n",
       " '방향',\n",
       " '측',\n",
       " '통합',\n",
       " '인정',\n",
       " '작업',\n",
       " '선정',\n",
       " '차량',\n",
       " '전기',\n",
       " '왕국',\n",
       " '40',\n",
       " '거쳐',\n",
       " '글',\n",
       " '능력',\n",
       " '못했',\n",
       " '군대',\n",
       " '열차',\n",
       " '보통',\n",
       " '아닌',\n",
       " '대해서',\n",
       " '북쪽',\n",
       " '남쪽',\n",
       " '작용',\n",
       " '급',\n",
       " '확인',\n",
       " '회의',\n",
       " '채',\n",
       " '실시',\n",
       " '자기',\n",
       " '기존',\n",
       " '행위',\n",
       " '형식',\n",
       " '비슷',\n",
       " '과거',\n",
       " '부산',\n",
       " '부대',\n",
       " '레',\n",
       " '어머니',\n",
       " '공항',\n",
       " '공동',\n",
       " '동물',\n",
       " '주변',\n",
       " '도로',\n",
       " '2021',\n",
       " '추정',\n",
       " '버스',\n",
       " '반응',\n",
       " '남부',\n",
       " '보호',\n",
       " '나이',\n",
       " '캐나다',\n",
       " '높이',\n",
       " '역임',\n",
       " '세포',\n",
       " '므로',\n",
       " '팔',\n",
       " '이때',\n",
       " '차이',\n",
       " '적용',\n",
       " 'amp',\n",
       " '1999',\n",
       " '기독교',\n",
       " '마',\n",
       " '정당',\n",
       " '시민',\n",
       " '1980',\n",
       " '승강장',\n",
       " '면적',\n",
       " '종류',\n",
       " '하계',\n",
       " '보여',\n",
       " '이미',\n",
       " '비교',\n",
       " '장관',\n",
       " '부르',\n",
       " '힘',\n",
       " 'S',\n",
       " 'FIFA',\n",
       " '부문',\n",
       " '컴퓨터',\n",
       " '金',\n",
       " '유일',\n",
       " '국',\n",
       " '1998',\n",
       " '먹',\n",
       " '맞',\n",
       " '개념',\n",
       " '애니메이션',\n",
       " '나오',\n",
       " '한다고',\n",
       " '영어',\n",
       " '판매',\n",
       " '이적',\n",
       " '버전',\n",
       " '지지',\n",
       " '교황',\n",
       " '줄',\n",
       " '동쪽',\n",
       " '크기',\n",
       " '성장',\n",
       " '이끌',\n",
       " '디',\n",
       " '바로',\n",
       " '쪽',\n",
       " '혁명',\n",
       " '놓',\n",
       " '작전',\n",
       " '국립',\n",
       " '촌',\n",
       " '에너지',\n",
       " '뉴욕',\n",
       " '보내',\n",
       " '임',\n",
       " '자체',\n",
       " '눈',\n",
       " '발',\n",
       " '구간',\n",
       " '민주주의',\n",
       " '헌법',\n",
       " '쇼',\n",
       " '달러',\n",
       " '서쪽',\n",
       " '인기',\n",
       " '전자',\n",
       " '마다',\n",
       " '선택',\n",
       " '조약',\n",
       " '마음',\n",
       " '준',\n",
       " '李',\n",
       " '단계',\n",
       " '특정',\n",
       " '육군',\n",
       " '경찰',\n",
       " '1997',\n",
       " '특별',\n",
       " '멤버',\n",
       " '북부',\n",
       " '조건',\n",
       " '실패',\n",
       " '1995',\n",
       " '넘',\n",
       " '발매되',\n",
       " '1996',\n",
       " '넣',\n",
       " '즈',\n",
       " '부족',\n",
       " '선출',\n",
       " '어느',\n",
       " '담당',\n",
       " '이런',\n",
       " '몸',\n",
       " '수록',\n",
       " '공원',\n",
       " '고대',\n",
       " '차례',\n",
       " '평균',\n",
       " '체제',\n",
       " '쿠',\n",
       " '언급',\n",
       " '먼',\n",
       " '속도',\n",
       " '그러',\n",
       " '공사',\n",
       " '방영',\n",
       " '아시아',\n",
       " '전문',\n",
       " '주도',\n",
       " '국내',\n",
       " '비디오',\n",
       " '교통',\n",
       " '친구',\n",
       " '내부',\n",
       " '예술',\n",
       " '난',\n",
       " '는지',\n",
       " '대하',\n",
       " '다르',\n",
       " '규정',\n",
       " '물질',\n",
       " '직',\n",
       " '입단',\n",
       " '엔진',\n",
       " '1994',\n",
       " '선언',\n",
       " '항공',\n",
       " '스위스',\n",
       " '분석',\n",
       " '1992',\n",
       " '러',\n",
       " '체계',\n",
       " '지배',\n",
       " 'cm',\n",
       " '연속',\n",
       " '스포츠',\n",
       " '최근',\n",
       " '최종',\n",
       " '위해서',\n",
       " '사단',\n",
       " '요소',\n",
       " '대구',\n",
       " '함수',\n",
       " '해군',\n",
       " '획득',\n",
       " '1970',\n",
       " '예정',\n",
       " '지속',\n",
       " '200',\n",
       " '긴',\n",
       " '민주',\n",
       " '케',\n",
       " '스타',\n",
       " '자동차',\n",
       " '잉글랜드',\n",
       " '확장',\n",
       " '주연',\n",
       " '병',\n",
       " '일어나',\n",
       " '개혁',\n",
       " '승',\n",
       " '건',\n",
       " '데이터',\n",
       " '1991',\n",
       " '지명',\n",
       " '구단',\n",
       " '파리',\n",
       " '결합',\n",
       " '정신',\n",
       " '인지',\n",
       " '배경',\n",
       " '문학',\n",
       " '돈',\n",
       " '개월',\n",
       " '관할',\n",
       " '디자인',\n",
       " '논란',\n",
       " '밝혔',\n",
       " ...]"
      ]
     },
     "execution_count": 46,
     "metadata": {},
     "output_type": "execute_result"
    }
   ],
   "source": [
    "[w for w in wv.index_to_key if '' in w]"
   ]
  },
  {
   "cell_type": "code",
   "execution_count": 53,
   "id": "361b6460",
   "metadata": {},
   "outputs": [
    {
     "name": "stdout",
     "output_type": "stream",
     "text": [
      "Using pre-trained word embedding...\n"
     ]
    }
   ],
   "source": [
    "print('Using pre-trained word embedding...')\n",
    "\n",
    "def gen_emb_mat(index_to_word, word2vec):\n",
    "    vocab_size = len(index_to_word)    # 어휘 사전의 크기입니다(10,000개의 단어)\n",
    "    word_vector_dim = word2vec.vector_size # 워드 벡터의 차원수\n",
    "    print(f'vocab_size:{vocab_size},  word_vector_dim:{word_vector_dim}')\n",
    "\n",
    "    embedding_matrix = np.random.rand(vocab_size, word_vector_dim)\n",
    "\n",
    "    # embedding_matrix에 Word2Vec 워드 벡터를 단어 하나씩마다 차례차례 카피한다.\n",
    "    for i in range(3,vocab_size):\n",
    "        if index_to_word[i] in word2vec:\n",
    "            embedding_matrix[i] = word2vec[index_to_word[i]]\n",
    "\n",
    "    return embedding_matrix"
   ]
  },
  {
   "cell_type": "code",
   "execution_count": 54,
   "id": "d179251e",
   "metadata": {},
   "outputs": [
    {
     "name": "stdout",
     "output_type": "stream",
     "text": [
      "vocab_size:10000,  word_vector_dim:100\n"
     ]
    }
   ],
   "source": [
    "embedding_matrix = gen_emb_mat(index_to_word, wv)"
   ]
  },
  {
   "cell_type": "markdown",
   "id": "390bc549",
   "metadata": {},
   "source": [
    "#### model4: word2vec_ko + biLSTM"
   ]
  },
  {
   "cell_type": "code",
   "execution_count": 55,
   "id": "15d8b4cf",
   "metadata": {},
   "outputs": [
    {
     "name": "stdout",
     "output_type": "stream",
     "text": [
      "Model: \"sequential_5\"\n",
      "_________________________________________________________________\n",
      "Layer (type)                 Output Shape              Param #   \n",
      "=================================================================\n",
      "embedding_4 (Embedding)      (None, None, 100)         1000000   \n",
      "_________________________________________________________________\n",
      "bidirectional_2 (Bidirection (None, None, 150)         105600    \n",
      "_________________________________________________________________\n",
      "bidirectional_3 (Bidirection (None, 150)               135600    \n",
      "_________________________________________________________________\n",
      "dense_8 (Dense)              (None, 50)                7550      \n",
      "_________________________________________________________________\n",
      "dense_9 (Dense)              (None, 1)                 51        \n",
      "=================================================================\n",
      "Total params: 1,248,801\n",
      "Trainable params: 1,248,801\n",
      "Non-trainable params: 0\n",
      "_________________________________________________________________\n"
     ]
    }
   ],
   "source": [
    "from tensorflow.keras.initializers import Constant\n",
    "model4 = build_biLSTM(embeddings_initializer=Constant(embedding_matrix))\n",
    "model4.summary()"
   ]
  },
  {
   "cell_type": "code",
   "execution_count": 56,
   "id": "2f00e423",
   "metadata": {},
   "outputs": [
    {
     "name": "stdout",
     "output_type": "stream",
     "text": [
      "Epoch 1/20\n",
      "266/266 [==============================] - 15s 38ms/step - loss: 0.4519 - accuracy: 0.7831 - val_loss: 0.3666 - val_accuracy: 0.8330\n",
      "Epoch 2/20\n",
      "266/266 [==============================] - 9s 35ms/step - loss: 0.3346 - accuracy: 0.8531 - val_loss: 0.3281 - val_accuracy: 0.8557\n",
      "Epoch 3/20\n",
      "266/266 [==============================] - 9s 34ms/step - loss: 0.2900 - accuracy: 0.8754 - val_loss: 0.3091 - val_accuracy: 0.8631\n",
      "Epoch 4/20\n",
      "266/266 [==============================] - 9s 34ms/step - loss: 0.2613 - accuracy: 0.8899 - val_loss: 0.3128 - val_accuracy: 0.8668\n",
      "Epoch 5/20\n",
      "266/266 [==============================] - 9s 34ms/step - loss: 0.2378 - accuracy: 0.9004 - val_loss: 0.3161 - val_accuracy: 0.8680\n",
      "Epoch 6/20\n",
      "266/266 [==============================] - 9s 33ms/step - loss: 0.2146 - accuracy: 0.9118 - val_loss: 0.3402 - val_accuracy: 0.8654\n",
      "Epoch 7/20\n",
      "266/266 [==============================] - 9s 33ms/step - loss: 0.1933 - accuracy: 0.9215 - val_loss: 0.3367 - val_accuracy: 0.8632\n",
      "Epoch 8/20\n",
      "266/266 [==============================] - 9s 33ms/step - loss: 0.1705 - accuracy: 0.9321 - val_loss: 0.4021 - val_accuracy: 0.8552\n",
      "Epoch 9/20\n",
      "266/266 [==============================] - 9s 33ms/step - loss: 0.1515 - accuracy: 0.9410 - val_loss: 0.4295 - val_accuracy: 0.8612\n",
      "Epoch 10/20\n",
      "266/266 [==============================] - 9s 34ms/step - loss: 0.1305 - accuracy: 0.9500 - val_loss: 0.4732 - val_accuracy: 0.8525\n",
      "Epoch 11/20\n",
      "266/266 [==============================] - 9s 34ms/step - loss: 0.1133 - accuracy: 0.9569 - val_loss: 0.4842 - val_accuracy: 0.8561\n",
      "Epoch 12/20\n",
      "266/266 [==============================] - 9s 34ms/step - loss: 0.0971 - accuracy: 0.9634 - val_loss: 0.5233 - val_accuracy: 0.8577\n",
      "Epoch 13/20\n",
      "266/266 [==============================] - 9s 34ms/step - loss: 0.0832 - accuracy: 0.9690 - val_loss: 0.5675 - val_accuracy: 0.8596\n",
      "Epoch 14/20\n",
      "266/266 [==============================] - 9s 34ms/step - loss: 0.0713 - accuracy: 0.9737 - val_loss: 0.5835 - val_accuracy: 0.8571\n",
      "Epoch 15/20\n",
      "266/266 [==============================] - 9s 34ms/step - loss: 0.0646 - accuracy: 0.9757 - val_loss: 0.6065 - val_accuracy: 0.8579\n",
      "Epoch 16/20\n",
      "266/266 [==============================] - 9s 34ms/step - loss: 0.0541 - accuracy: 0.9797 - val_loss: 0.7073 - val_accuracy: 0.8548\n",
      "Epoch 17/20\n",
      "266/266 [==============================] - 9s 33ms/step - loss: 0.0508 - accuracy: 0.9811 - val_loss: 0.7488 - val_accuracy: 0.8540\n",
      "Epoch 18/20\n",
      "266/266 [==============================] - 9s 33ms/step - loss: 0.0447 - accuracy: 0.9833 - val_loss: 0.7361 - val_accuracy: 0.8532\n",
      "Epoch 19/20\n",
      "266/266 [==============================] - 9s 33ms/step - loss: 0.0401 - accuracy: 0.9850 - val_loss: 0.8192 - val_accuracy: 0.8554\n",
      "Epoch 20/20\n",
      "266/266 [==============================] - 9s 34ms/step - loss: 0.0358 - accuracy: 0.9865 - val_loss: 0.8550 - val_accuracy: 0.8550\n"
     ]
    },
    {
     "name": "stderr",
     "output_type": "stream",
     "text": [
      "WARNING:absl:Found untraced functions such as lstm_cell_7_layer_call_and_return_conditional_losses, lstm_cell_7_layer_call_fn, lstm_cell_8_layer_call_and_return_conditional_losses, lstm_cell_8_layer_call_fn, lstm_cell_10_layer_call_and_return_conditional_losses while saving (showing 5 of 20). These functions will not be directly callable after loading.\n"
     ]
    },
    {
     "name": "stdout",
     "output_type": "stream",
     "text": [
      "INFO:tensorflow:Assets written to: logs/model4/final_checkpoint.ckpt/assets\n"
     ]
    },
    {
     "name": "stderr",
     "output_type": "stream",
     "text": [
      "INFO:tensorflow:Assets written to: logs/model4/final_checkpoint.ckpt/assets\n"
     ]
    },
    {
     "data": {
      "image/png": "[encoded data removed]",
      "text/plain": [
       "<Figure size 432x288 with 1 Axes>"
      ]
     },
     "metadata": {
      "needs_background": "light"
     },
     "output_type": "display_data"
    },
    {
     "data": {
      "image/png": "[encoded data removed]",
      "text/plain": [
       "<Figure size 432x288 with 1 Axes>"
      ]
     },
     "metadata": {
      "needs_background": "light"
     },
     "output_type": "display_data"
    }
   ],
   "source": [
    "history4 = train_model(model4, log_path='logs/model4')\n",
    "plot_history(history4)"
   ]
  },
  {
   "cell_type": "code",
   "execution_count": 67,
   "id": "1d53d644",
   "metadata": {
    "scrolled": true
   },
   "outputs": [
    {
     "name": "stdout",
     "output_type": "stream",
     "text": [
      "WARNING:tensorflow:Unresolved object in checkpoint: (root).optimizer.iter\n"
     ]
    },
    {
     "name": "stderr",
     "output_type": "stream",
     "text": [
      "WARNING:tensorflow:Unresolved object in checkpoint: (root).optimizer.iter\n"
     ]
    },
    {
     "name": "stdout",
     "output_type": "stream",
     "text": [
      "WARNING:tensorflow:Unresolved object in checkpoint: (root).optimizer.beta_1\n"
     ]
    },
    {
     "name": "stderr",
     "output_type": "stream",
     "text": [
      "WARNING:tensorflow:Unresolved object in checkpoint: (root).optimizer.beta_1\n"
     ]
    },
    {
     "name": "stdout",
     "output_type": "stream",
     "text": [
      "WARNING:tensorflow:Unresolved object in checkpoint: (root).optimizer.beta_2\n"
     ]
    },
    {
     "name": "stderr",
     "output_type": "stream",
     "text": [
      "WARNING:tensorflow:Unresolved object in checkpoint: (root).optimizer.beta_2\n"
     ]
    },
    {
     "name": "stdout",
     "output_type": "stream",
     "text": [
      "WARNING:tensorflow:Unresolved object in checkpoint: (root).optimizer.decay\n"
     ]
    },
    {
     "name": "stderr",
     "output_type": "stream",
     "text": [
      "WARNING:tensorflow:Unresolved object in checkpoint: (root).optimizer.decay\n"
     ]
    },
    {
     "name": "stdout",
     "output_type": "stream",
     "text": [
      "WARNING:tensorflow:Unresolved object in checkpoint: (root).optimizer.learning_rate\n"
     ]
    },
    {
     "name": "stderr",
     "output_type": "stream",
     "text": [
      "WARNING:tensorflow:Unresolved object in checkpoint: (root).optimizer.learning_rate\n"
     ]
    },
    {
     "name": "stdout",
     "output_type": "stream",
     "text": [
      "WARNING:tensorflow:A checkpoint was restored (e.g. tf.train.Checkpoint.restore or tf.keras.Model.load_weights) but not all checkpointed values were used. See above for specific issues. Use expect_partial() on the load status object, e.g. tf.train.Checkpoint.restore(...).expect_partial(), to silence these warnings, or use assert_consumed() to make the check explicit. See https://www.tensorflow.org/guide/checkpoint#loading_mechanics for details.\n"
     ]
    },
    {
     "name": "stderr",
     "output_type": "stream",
     "text": [
      "WARNING:tensorflow:A checkpoint was restored (e.g. tf.train.Checkpoint.restore or tf.keras.Model.load_weights) but not all checkpointed values were used. See above for specific issues. Use expect_partial() on the load status object, e.g. tf.train.Checkpoint.restore(...).expect_partial(), to silence these warnings, or use assert_consumed() to make the check explicit. See https://www.tensorflow.org/guide/checkpoint#loading_mechanics for details.\n"
     ]
    },
    {
     "name": "stdout",
     "output_type": "stream",
     "text": [
      "1537/1537 - 11s - loss: 0.3178 - accuracy: 0.8608\n",
      "[0.3177874684333801, 0.860752284526825]\n"
     ]
    }
   ],
   "source": [
    "# load best model 3\n",
    "model4.load_weights('logs/model4/best_checkpoint.ckpt')\n",
    "model4.compile(optimizer='adam', loss='binary_crossentropy', metrics=['accuracy'])\n",
    "# Evaluation in testset\n",
    "print(model4.evaluate(X_test,  y_test, verbose=2))\n"
   ]
  },
  {
   "cell_type": "code",
   "execution_count": 68,
   "id": "7d9daec4",
   "metadata": {},
   "outputs": [
    {
     "name": "stdout",
     "output_type": "stream",
     "text": [
      "1537/1537 - 8s - loss: 0.3374 - accuracy: 0.8545\n",
      "[0.3373592495918274, 0.8544663190841675]\n"
     ]
    }
   ],
   "source": [
    "print(model2.evaluate(X_test,  y_test, verbose=2))"
   ]
  },
  {
   "cell_type": "markdown",
   "id": "b8cc46e3",
   "metadata": {},
   "source": [
    "### [루브릭] **기존 성능 accuracy: 0.8545 에서 accuracy: 0.8608 로 개선되었다!!!**"
   ]
  },
  {
   "cell_type": "markdown",
   "id": "20d3cc04",
   "metadata": {},
   "source": [
    "#### model5: word2vec_ko + transformer"
   ]
  },
  {
   "cell_type": "code",
   "execution_count": 58,
   "id": "9eb6ea10",
   "metadata": {},
   "outputs": [
    {
     "name": "stdout",
     "output_type": "stream",
     "text": [
      "Model: \"sequential_6\"\n",
      "_________________________________________________________________\n",
      "Layer (type)                 Output Shape              Param #   \n",
      "=================================================================\n",
      "embedding_5 (Embedding)      (None, None, 100)         1000000   \n",
      "_________________________________________________________________\n",
      "transformer_encoder_1 (Trans (None, None, 100)         423700    \n",
      "_________________________________________________________________\n",
      "global_max_pooling1d_2 (Glob (None, 100)               0         \n",
      "_________________________________________________________________\n",
      "dense_12 (Dense)             (None, 75)                7575      \n",
      "_________________________________________________________________\n",
      "dense_13 (Dense)             (None, 1)                 76        \n",
      "=================================================================\n",
      "Total params: 1,431,351\n",
      "Trainable params: 1,431,351\n",
      "Non-trainable params: 0\n",
      "_________________________________________________________________\n"
     ]
    }
   ],
   "source": [
    "model5 = build_transformer(embeddings_initializer=Constant(embedding_matrix))\n",
    "model5.summary()"
   ]
  },
  {
   "cell_type": "code",
   "execution_count": 59,
   "id": "d1f0449d",
   "metadata": {
    "collapsed": true
   },
   "outputs": [
    {
     "name": "stdout",
     "output_type": "stream",
     "text": [
      "Epoch 1/20\n",
      "266/266 [==============================] - 21s 75ms/step - loss: 0.4738 - accuracy: 0.7653 - val_loss: 0.3983 - val_accuracy: 0.8209\n",
      "Epoch 2/20\n",
      "266/266 [==============================] - 20s 75ms/step - loss: 0.3613 - accuracy: 0.8391 - val_loss: 0.3505 - val_accuracy: 0.8463\n",
      "Epoch 3/20\n",
      "266/266 [==============================] - 19s 73ms/step - loss: 0.3310 - accuracy: 0.8556 - val_loss: 0.3490 - val_accuracy: 0.8433\n",
      "Epoch 4/20\n",
      "266/266 [==============================] - 19s 73ms/step - loss: 0.3114 - accuracy: 0.8660 - val_loss: 0.3466 - val_accuracy: 0.8494\n",
      "Epoch 5/20\n",
      "266/266 [==============================] - 19s 73ms/step - loss: 0.2928 - accuracy: 0.8751 - val_loss: 0.3408 - val_accuracy: 0.8504\n",
      "Epoch 6/20\n",
      "266/266 [==============================] - 20s 74ms/step - loss: 0.2778 - accuracy: 0.8822 - val_loss: 0.3469 - val_accuracy: 0.8472\n",
      "Epoch 7/20\n",
      "266/266 [==============================] - 19s 73ms/step - loss: 0.2639 - accuracy: 0.8889 - val_loss: 0.3529 - val_accuracy: 0.8479\n",
      "Epoch 8/20\n",
      "266/266 [==============================] - 19s 73ms/step - loss: 0.2505 - accuracy: 0.8958 - val_loss: 0.3621 - val_accuracy: 0.8462\n",
      "Epoch 9/20\n",
      "266/266 [==============================] - 19s 73ms/step - loss: 0.2346 - accuracy: 0.9034 - val_loss: 0.3673 - val_accuracy: 0.8481\n",
      "Epoch 10/20\n",
      "266/266 [==============================] - 19s 73ms/step - loss: 0.2232 - accuracy: 0.9095 - val_loss: 0.3817 - val_accuracy: 0.8469\n",
      "Epoch 11/20\n",
      "266/266 [==============================] - 19s 73ms/step - loss: 0.2088 - accuracy: 0.9147 - val_loss: 0.3868 - val_accuracy: 0.8444\n",
      "Epoch 12/20\n",
      "266/266 [==============================] - 19s 73ms/step - loss: 0.1976 - accuracy: 0.9197 - val_loss: 0.4036 - val_accuracy: 0.8413\n",
      "Epoch 13/20\n",
      "266/266 [==============================] - 19s 73ms/step - loss: 0.1854 - accuracy: 0.9246 - val_loss: 0.4270 - val_accuracy: 0.8430\n",
      "Epoch 14/20\n",
      "266/266 [==============================] - 19s 73ms/step - loss: 0.1719 - accuracy: 0.9305 - val_loss: 0.4528 - val_accuracy: 0.8399\n",
      "Epoch 15/20\n",
      "266/266 [==============================] - 19s 73ms/step - loss: 0.1630 - accuracy: 0.9350 - val_loss: 0.4586 - val_accuracy: 0.8364\n",
      "Epoch 16/20\n",
      "266/266 [==============================] - 19s 73ms/step - loss: 0.1501 - accuracy: 0.9399 - val_loss: 0.4830 - val_accuracy: 0.8395\n",
      "Epoch 17/20\n",
      "266/266 [==============================] - 19s 73ms/step - loss: 0.1402 - accuracy: 0.9442 - val_loss: 0.4879 - val_accuracy: 0.8402\n",
      "Epoch 18/20\n",
      "266/266 [==============================] - 19s 73ms/step - loss: 0.1283 - accuracy: 0.9488 - val_loss: 0.5067 - val_accuracy: 0.8394\n",
      "Epoch 19/20\n",
      "266/266 [==============================] - 19s 73ms/step - loss: 0.1209 - accuracy: 0.9529 - val_loss: 0.5325 - val_accuracy: 0.8319\n",
      "Epoch 20/20\n",
      "266/266 [==============================] - 19s 73ms/step - loss: 0.1166 - accuracy: 0.9543 - val_loss: 0.5292 - val_accuracy: 0.8321\n"
     ]
    },
    {
     "name": "stderr",
     "output_type": "stream",
     "text": [
      "WARNING:absl:Found untraced functions such as multi_head_attention_1_layer_call_and_return_conditional_losses, multi_head_attention_1_layer_call_fn, layer_normalization_2_layer_call_and_return_conditional_losses, layer_normalization_2_layer_call_fn, layer_normalization_3_layer_call_and_return_conditional_losses while saving (showing 5 of 45). These functions will not be directly callable after loading.\n"
     ]
    },
    {
     "name": "stdout",
     "output_type": "stream",
     "text": [
      "INFO:tensorflow:Assets written to: logs/model5/final_checkpoint.ckpt/assets\n"
     ]
    },
    {
     "name": "stderr",
     "output_type": "stream",
     "text": [
      "INFO:tensorflow:Assets written to: logs/model5/final_checkpoint.ckpt/assets\n"
     ]
    },
    {
     "data": {
      "image/png": "[encoded data removed]",
      "text/plain": [
       "<Figure size 432x288 with 1 Axes>"
      ]
     },
     "metadata": {
      "needs_background": "light"
     },
     "output_type": "display_data"
    },
    {
     "data": {
      "image/png": "[encoded data removed]",
      "text/plain": [
       "<Figure size 432x288 with 1 Axes>"
      ]
     },
     "metadata": {
      "needs_background": "light"
     },
     "output_type": "display_data"
    }
   ],
   "source": [
    "history5 = train_model(model5, log_path='logs/model5')\n",
    "plot_history(history5)"
   ]
  },
  {
   "cell_type": "code",
   "execution_count": 60,
   "id": "9acc0d1f",
   "metadata": {},
   "outputs": [
    {
     "name": "stdout",
     "output_type": "stream",
     "text": [
      "1537/1537 - 6s - loss: 0.3513 - accuracy: 0.8470\n",
      "[0.3513440787792206, 0.847041130065918]\n"
     ]
    }
   ],
   "source": [
    "# load best model 3\n",
    "model5.load_weights('logs/model5/best_checkpoint.ckpt')\n",
    "model5.compile(optimizer='adam', loss='binary_crossentropy', metrics=['accuracy'])\n",
    "# Evaluation in testset\n",
    "print(model5.evaluate(X_test,  y_test, verbose=2))"
   ]
  },
  {
   "cell_type": "code",
   "execution_count": 69,
   "id": "72e330b2",
   "metadata": {},
   "outputs": [
    {
     "name": "stdout",
     "output_type": "stream",
     "text": [
      "1537/1537 - 5s - loss: 0.3494 - accuracy: 0.8458\n",
      "[0.3494020402431488, 0.8458002209663391]\n"
     ]
    }
   ],
   "source": [
    "print(model3.evaluate(X_test,  y_test, verbose=2))"
   ]
  },
  {
   "cell_type": "markdown",
   "id": "f47783fd",
   "metadata": {},
   "source": [
    "### [루브릭] **기존 성능 accuracy: 0.8458 에서 accuracy: 0.8470 로 개선되었다!!!**"
   ]
  },
  {
   "cell_type": "markdown",
   "id": "e83df8fb",
   "metadata": {},
   "source": [
    "### [루브릭] **model4: word2vec + biLSTM 의 성능은 accuracy: 86.08 % 로 85% 보다 높다!!!**"
   ]
  },
  {
   "cell_type": "markdown",
   "id": "12a84f79",
   "metadata": {},
   "source": [
    "## 회고\n"
   ]
  },
  {
   "cell_type": "markdown",
   "id": "0d703f1f",
   "metadata": {},
   "source": [
    "### 배운점\n",
    "- 의미가 없는 단어가 vocabulary 에 있는게 도움이 되지 않는다.\n",
    "- Transformer 모델자체가 복잡도가 높은 모델이었다. 학습자체가 잘 되지 않았다."
   ]
  },
  {
   "cell_type": "markdown",
   "id": "d8e4cb80",
   "metadata": {},
   "source": [
    "### 아쉬운점\n",
    "- keras tuner 를 사용하여 다양한 Hyper parameter tuning 을 하여 성능을 더 올릴 수 있다면 더 좋았을것 같다.\n",
    "    - layers, hidden dim, dropout, word vector dimension etc."
   ]
  },
  {
   "cell_type": "markdown",
   "id": "9a4de1ee",
   "metadata": {},
   "source": [
    "### 느낀점\n",
    "- Transformer 대비 , biLSTM 과 conv 모델은 굉장히 빠르게 (< 5 epoch) 학습이 된다."
   ]
  },
  {
   "cell_type": "markdown",
   "id": "4c49a1d1",
   "metadata": {},
   "source": [
    "### 어려웠던점\n",
    "- model 학습 중간에 callback 을 안넣었어서 20 Epoch 의 최근 모델로 평가한 성능이 좋지 않았다.\n",
    "    - 학습에 `ModelCheckpoint` callback을 사용하고, best model 을 다시 불러와 성능을 평가했다.\n"
   ]
  },
  {
   "cell_type": "code",
   "execution_count": null,
   "id": "b67e58e3",
   "metadata": {},
   "outputs": [],
   "source": []
  }
 ],
 "metadata": {
  "kernelspec": {
   "display_name": "Python 3 (ipykernel)",
   "language": "python",
   "name": "python3"
  },
  "language_info": {
   "codemirror_mode": {
    "name": "ipython",
    "version": 3
   },
   "file_extension": ".py",
   "mimetype": "text/x-python",
   "name": "python",
   "nbconvert_exporter": "python",
   "pygments_lexer": "ipython3",
   "version": "3.9.7"
  }
 },
 "nbformat": 4,
 "nbformat_minor": 5
}
