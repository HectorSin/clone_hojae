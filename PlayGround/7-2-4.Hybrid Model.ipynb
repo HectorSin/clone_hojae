{
 "cells": [
  {
   "cell_type": "markdown",
   "metadata": {
    "id": "eC7Rq-Ev78k7"
   },
   "source": [
    "### 여러 방식을 혼합하여 사용하기"
   ]
  },
  {
   "cell_type": "code",
   "execution_count": 1,
   "metadata": {},
   "outputs": [],
   "source": [
    "from tensorflow import keras\n",
    "from tensorflow.keras import layers"
   ]
  },
  {
   "cell_type": "markdown",
   "metadata": {
    "id": "kE1ggqfi78k7"
   },
   "source": [
    "**서브클래싱한 모델을 포함하는 함수형 모델 만들기**"
   ]
  },
  {
   "cell_type": "code",
   "execution_count": 2,
   "metadata": {
    "execution": {
     "iopub.execute_input": "2022-05-21T01:08:26.602071Z",
     "iopub.status.busy": "2022-05-21T01:08:26.601768Z",
     "iopub.status.idle": "2022-05-21T01:08:26.649705Z",
     "shell.execute_reply": "2022-05-21T01:08:26.648869Z"
    },
    "id": "da_g0EBu78k7"
   },
   "outputs": [],
   "source": [
    "class Classifier(keras.Model):\n",
    "\n",
    "    def __init__(self, num_classes=2):\n",
    "        super().__init__()\n",
    "        if num_classes == 2:\n",
    "            num_units = 1\n",
    "            activation = \"sigmoid\"\n",
    "        else:\n",
    "            num_units = num_classes\n",
    "            activation = \"softmax\"\n",
    "        self.dense = layers.Dense(num_units, activation=activation)\n",
    "\n",
    "    def call(self, inputs):\n",
    "        return self.dense(inputs)\n",
    "\n",
    "inputs = keras.Input(shape=(3,))\n",
    "features = layers.Dense(64, activation=\"relu\")(inputs)\n",
    "outputs = Classifier(num_classes=10)(features)  # sub classed model\n",
    "model = keras.Model(inputs=inputs, outputs=outputs)"
   ]
  },
  {
   "cell_type": "markdown",
   "metadata": {
    "id": "MkQjDWxJ78k7"
   },
   "source": [
    "**함수형 모델을 포함하는 서브클래싱 모델 만들기**"
   ]
  },
  {
   "cell_type": "code",
   "execution_count": 3,
   "metadata": {
    "execution": {
     "iopub.execute_input": "2022-05-21T01:08:26.654038Z",
     "iopub.status.busy": "2022-05-21T01:08:26.653474Z",
     "iopub.status.idle": "2022-05-21T01:08:26.674965Z",
     "shell.execute_reply": "2022-05-21T01:08:26.674043Z"
    },
    "id": "dycdDtlq78k7"
   },
   "outputs": [],
   "source": [
    "inputs = keras.Input(shape=(64,))\n",
    "outputs = layers.Dense(1, activation=\"sigmoid\")(inputs)\n",
    "binary_classifier = keras.Model(inputs=inputs, outputs=outputs)\n",
    "\n",
    "class MyModel(keras.Model):\n",
    "\n",
    "    def __init__(self, num_classes=2):\n",
    "        super().__init__()\n",
    "        self.dense = layers.Dense(64, activation=\"relu\")\n",
    "        self.classifier = binary_classifier\n",
    "\n",
    "    def call(self, inputs):\n",
    "        features = self.dense(inputs) # functional API\n",
    "        return self.classifier(features) # functional Model\n",
    "\n",
    "model = MyModel()"
   ]
  },
  {
   "cell_type": "markdown",
   "metadata": {
    "id": "WCgVPZAH78k7"
   },
   "source": [
    "### 작업에 적합한 도구 사용하기"
   ]
  }
 ],
 "metadata": {
  "accelerator": "GPU",
  "colab": {
   "collapsed_sections": [],
   "name": "chapter07_working-with-keras.i",
   "provenance": []
  },
  "gpuClass": "standard",
  "kernelspec": {
   "display_name": "Python 3 (ipykernel)",
   "language": "python",
   "name": "python3"
  },
  "language_info": {
   "codemirror_mode": {
    "name": "ipython",
    "version": 3
   },
   "file_extension": ".py",
   "mimetype": "text/x-python",
   "name": "python",
   "nbconvert_exporter": "python",
   "pygments_lexer": "ipython3",
   "version": "3.9.7"
  }
 },
 "nbformat": 4,
 "nbformat_minor": 1
}
