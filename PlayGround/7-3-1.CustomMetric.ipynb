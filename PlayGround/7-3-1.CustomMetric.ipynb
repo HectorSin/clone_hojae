{
 "cells": [
  {
   "cell_type": "code",
   "execution_count": 1,
   "metadata": {
    "execution": {
     "iopub.execute_input": "2022-05-21T01:08:17.897692Z",
     "iopub.status.busy": "2022-05-21T01:08:17.897206Z",
     "iopub.status.idle": "2022-05-21T01:08:19.726515Z",
     "shell.execute_reply": "2022-05-21T01:08:19.725363Z"
    },
    "id": "u8zfcw9t78kw"
   },
   "outputs": [],
   "source": [
    "from tensorflow import keras\n",
    "from tensorflow.keras import layers"
   ]
  },
  {
   "cell_type": "markdown",
   "metadata": {
    "id": "ZXW2RIgz78k8"
   },
   "source": [
    "### 사용자 정의 지표 만들기"
   ]
  },
  {
   "cell_type": "markdown",
   "metadata": {
    "id": "xWhiYFnu78k8"
   },
   "source": [
    "**`Metric` 클래스를 상속하여 사용자 정의 지표 구현하기**"
   ]
  },
  {
   "cell_type": "code",
   "execution_count": 2,
   "metadata": {
    "execution": {
     "iopub.execute_input": "2022-05-21T01:08:44.971342Z",
     "iopub.status.busy": "2022-05-21T01:08:44.970817Z",
     "iopub.status.idle": "2022-05-21T01:08:44.980214Z",
     "shell.execute_reply": "2022-05-21T01:08:44.979336Z"
    },
    "id": "jJDjCQPW78k8"
   },
   "outputs": [],
   "source": [
    "import tensorflow as tf\n",
    "\n",
    "class RootMeanSquaredError(keras.metrics.Metric):\n",
    "\n",
    "    def __init__(self, name=\"rmse\", **kwargs):\n",
    "        super().__init__(name=name, **kwargs)\n",
    "        self.mse_sum = self.add_weight(name=\"mse_sum\", initializer=\"zeros\")\n",
    "        self.total_samples = self.add_weight(\n",
    "            name=\"total_samples\", initializer=\"zeros\", dtype=\"int32\")\n",
    "\n",
    "    def update_state(self, y_true, y_pred, sample_weight=None):\n",
    "        y_true = tf.one_hot(y_true, depth=tf.shape(y_pred)[1])\n",
    "        mse = tf.reduce_sum(tf.square(y_true - y_pred))\n",
    "        self.mse_sum.assign_add(mse)\n",
    "        num_samples = tf.shape(y_pred)[0]\n",
    "        self.total_samples.assign_add(num_samples)\n",
    "\n",
    "    def result(self):\n",
    "        return tf.sqrt(self.mse_sum / tf.cast(self.total_samples, tf.float32))\n",
    "\n",
    "    def reset_state(self):\n",
    "        self.mse_sum.assign(0.)\n",
    "        self.total_samples.assign(0)"
   ]
  },
  {
   "cell_type": "code",
   "execution_count": 3,
   "metadata": {
    "colab": {
     "base_uri": "https://localhost:8080/"
    },
    "execution": {
     "iopub.execute_input": "2022-05-21T01:08:26.679409Z",
     "iopub.status.busy": "2022-05-21T01:08:26.678832Z",
     "iopub.status.idle": "2022-05-21T01:08:44.967069Z",
     "shell.execute_reply": "2022-05-21T01:08:44.965985Z"
    },
    "id": "GzRMpKS978k8",
    "outputId": "bb117fb7-48ae-44ac-9d87-a712d0946a26"
   },
   "outputs": [],
   "source": [
    "from tensorflow.keras.datasets import mnist\n",
    "\n",
    "def get_mnist_model():\n",
    "    inputs = keras.Input(shape=(28 * 28,))\n",
    "    features = layers.Dense(512, activation=\"relu\")(inputs)\n",
    "    features = layers.Dropout(0.5)(features)\n",
    "    outputs = layers.Dense(10, activation=\"softmax\")(features)\n",
    "    model = keras.Model(inputs, outputs)\n",
    "    return model\n",
    "\n",
    "(images, labels), (test_images, test_labels) = mnist.load_data()\n",
    "images = images.reshape((60000, 28 * 28)).astype(\"float32\") / 255\n",
    "test_images = test_images.reshape((10000, 28 * 28)).astype(\"float32\") / 255\n",
    "train_images, val_images = images[10000:], images[:10000]\n",
    "train_labels, val_labels = labels[10000:], labels[:10000]"
   ]
  },
  {
   "cell_type": "code",
   "execution_count": 4,
   "metadata": {
    "colab": {
     "base_uri": "https://localhost:8080/"
    },
    "execution": {
     "iopub.execute_input": "2022-05-21T01:08:44.983832Z",
     "iopub.status.busy": "2022-05-21T01:08:44.983362Z",
     "iopub.status.idle": "2022-05-21T01:09:03.089922Z",
     "shell.execute_reply": "2022-05-21T01:09:03.089047Z"
    },
    "id": "hYp3z_Kq78k8",
    "outputId": "b911f749-ac27-4e55-c937-563f8045457e"
   },
   "outputs": [
    {
     "name": "stdout",
     "output_type": "stream",
     "text": [
      "Epoch 1/3\n",
      "1563/1563 [==============================] - 11s 7ms/step - loss: 0.2940 - accuracy: 0.9129 - rmse: 7.1860 - val_loss: 0.1477 - val_accuracy: 0.9576 - val_rmse: 7.3485\n",
      "Epoch 2/3\n",
      "1563/1563 [==============================] - 10s 7ms/step - loss: 0.1627 - accuracy: 0.9539 - rmse: 7.3564 - val_loss: 0.1175 - val_accuracy: 0.9679 - val_rmse: 7.4020\n",
      "Epoch 3/3\n",
      "1563/1563 [==============================] - 10s 7ms/step - loss: 0.1383 - accuracy: 0.9630 - rmse: 7.3894 - val_loss: 0.1096 - val_accuracy: 0.9711 - val_rmse: 7.4182\n",
      "313/313 [==============================] - 1s 2ms/step - loss: 0.1002 - accuracy: 0.9731 - rmse: 7.4315\n"
     ]
    }
   ],
   "source": [
    "model = get_mnist_model()\n",
    "model.compile(optimizer=\"rmsprop\",\n",
    "              loss=\"sparse_categorical_crossentropy\",\n",
    "              metrics=[\"accuracy\", RootMeanSquaredError()]) # Custom Metric is used\n",
    "model.fit(train_images, train_labels,\n",
    "          epochs=3,\n",
    "          validation_data=(val_images, val_labels))\n",
    "test_metrics = model.evaluate(test_images, test_labels)"
   ]
  },
  {
   "cell_type": "code",
   "execution_count": 8,
   "metadata": {
    "colab": {
     "base_uri": "https://localhost:8080/"
    },
    "execution": {
     "iopub.execute_input": "2022-05-21T01:08:44.983832Z",
     "iopub.status.busy": "2022-05-21T01:08:44.983362Z",
     "iopub.status.idle": "2022-05-21T01:09:03.089922Z",
     "shell.execute_reply": "2022-05-21T01:09:03.089047Z"
    },
    "id": "hYp3z_Kq78k8",
    "outputId": "b911f749-ac27-4e55-c937-563f8045457e"
   },
   "outputs": [
    {
     "name": "stdout",
     "output_type": "stream",
     "text": [
      "Epoch 1/3\n",
      "1563/1563 [==============================] - 11s 7ms/step - loss: 0.2949 - accuracy: 0.9125 - root_mean_squared_error: 5.2357 - val_loss: 0.1499 - val_accuracy: 0.9581 - val_root_mean_squared_error: 5.2180\n",
      "Epoch 2/3\n",
      "1563/1563 [==============================] - 10s 7ms/step - loss: 0.1626 - accuracy: 0.9535 - root_mean_squared_error: 5.2365 - val_loss: 0.1295 - val_accuracy: 0.9646 - val_root_mean_squared_error: 5.2181\n",
      "Epoch 3/3\n",
      "1563/1563 [==============================] - 10s 6ms/step - loss: 0.1382 - accuracy: 0.9631 - root_mean_squared_error: 5.2367 - val_loss: 0.1178 - val_accuracy: 0.9709 - val_root_mean_squared_error: 5.2183\n",
      "313/313 [==============================] - 1s 2ms/step - loss: 0.1076 - accuracy: 0.9713 - root_mean_squared_error: 5.2285\n"
     ]
    }
   ],
   "source": [
    "model = get_mnist_model()\n",
    "model.compile(optimizer=\"rmsprop\",\n",
    "              loss=\"sparse_categorical_crossentropy\",\n",
    "              metrics=[\"accuracy\", keras.metrics.RootMeanSquaredError()])\n",
    "model.fit(train_images, train_labels,\n",
    "          epochs=3,\n",
    "          validation_data=(val_images, val_labels))\n",
    "test_metrics = model.evaluate(test_images, test_labels)"
   ]
  },
  {
   "cell_type": "code",
   "execution_count": 9,
   "metadata": {},
   "outputs": [
    {
     "data": {
      "text/plain": [
       "array([7, 2, 1, ..., 4, 5, 6], dtype=uint8)"
      ]
     },
     "execution_count": 9,
     "metadata": {},
     "output_type": "execute_result"
    }
   ],
   "source": [
    "\n",
    "Image Data : Activation / Dropout rate\n",
    "    "
   ]
  }
 ],
 "metadata": {
  "accelerator": "GPU",
  "colab": {
   "collapsed_sections": [],
   "name": "chapter07_working-with-keras.i",
   "provenance": []
  },
  "gpuClass": "standard",
  "kernelspec": {
   "display_name": "Python 3 (ipykernel)",
   "language": "python",
   "name": "python3"
  },
  "language_info": {
   "codemirror_mode": {
    "name": "ipython",
    "version": 3
   },
   "file_extension": ".py",
   "mimetype": "text/x-python",
   "name": "python",
   "nbconvert_exporter": "python",
   "pygments_lexer": "ipython3",
   "version": "3.9.7"
  }
 },
 "nbformat": 4,
 "nbformat_minor": 1
}
